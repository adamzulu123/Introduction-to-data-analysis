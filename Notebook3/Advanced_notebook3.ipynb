{
 "cells": [
  {
   "metadata": {},
   "cell_type": "markdown",
   "source": "ADAM NOWAK - Advanced notebook - classification",
   "id": "34bdef5fd7cbe911"
  },
  {
   "cell_type": "code",
   "id": "initial_id",
   "metadata": {
    "collapsed": true,
    "ExecuteTime": {
     "end_time": "2024-11-23T22:28:35.630361Z",
     "start_time": "2024-11-23T22:28:34.639962Z"
    }
   },
   "source": [
    "import pandas as pd\n",
    "import numpy as np\n",
    "import matplotlib.pyplot as plt\n",
    "import string\n",
    "from sklearn.linear_model import LogisticRegression\n",
    "\n",
    "def remove_punctuation(text):\n",
    "    import string\n",
    "    translator = str.maketrans('', '', string.punctuation)\n",
    "    return text.translate(translator)\n",
    "\n",
    "baby_df = pd.read_csv('amazon_baby.csv')\n",
    "baby_df.head()"
   ],
   "outputs": [
    {
     "data": {
      "text/plain": [
       "                                                name  \\\n",
       "0                           Planetwise Flannel Wipes   \n",
       "1                              Planetwise Wipe Pouch   \n",
       "2                Annas Dream Full Quilt with 2 Shams   \n",
       "3  Stop Pacifier Sucking without tears with Thumb...   \n",
       "4  Stop Pacifier Sucking without tears with Thumb...   \n",
       "\n",
       "                                              review  rating  \n",
       "0  These flannel wipes are OK, but in my opinion ...       3  \n",
       "1  it came early and was not disappointed. i love...       5  \n",
       "2  Very soft and comfortable and warmer than it l...       5  \n",
       "3  This is a product well worth the purchase.  I ...       5  \n",
       "4  All of my kids have cried non-stop when I trie...       5  "
      ],
      "text/html": [
       "<div>\n",
       "<style scoped>\n",
       "    .dataframe tbody tr th:only-of-type {\n",
       "        vertical-align: middle;\n",
       "    }\n",
       "\n",
       "    .dataframe tbody tr th {\n",
       "        vertical-align: top;\n",
       "    }\n",
       "\n",
       "    .dataframe thead th {\n",
       "        text-align: right;\n",
       "    }\n",
       "</style>\n",
       "<table border=\"1\" class=\"dataframe\">\n",
       "  <thead>\n",
       "    <tr style=\"text-align: right;\">\n",
       "      <th></th>\n",
       "      <th>name</th>\n",
       "      <th>review</th>\n",
       "      <th>rating</th>\n",
       "    </tr>\n",
       "  </thead>\n",
       "  <tbody>\n",
       "    <tr>\n",
       "      <th>0</th>\n",
       "      <td>Planetwise Flannel Wipes</td>\n",
       "      <td>These flannel wipes are OK, but in my opinion ...</td>\n",
       "      <td>3</td>\n",
       "    </tr>\n",
       "    <tr>\n",
       "      <th>1</th>\n",
       "      <td>Planetwise Wipe Pouch</td>\n",
       "      <td>it came early and was not disappointed. i love...</td>\n",
       "      <td>5</td>\n",
       "    </tr>\n",
       "    <tr>\n",
       "      <th>2</th>\n",
       "      <td>Annas Dream Full Quilt with 2 Shams</td>\n",
       "      <td>Very soft and comfortable and warmer than it l...</td>\n",
       "      <td>5</td>\n",
       "    </tr>\n",
       "    <tr>\n",
       "      <th>3</th>\n",
       "      <td>Stop Pacifier Sucking without tears with Thumb...</td>\n",
       "      <td>This is a product well worth the purchase.  I ...</td>\n",
       "      <td>5</td>\n",
       "    </tr>\n",
       "    <tr>\n",
       "      <th>4</th>\n",
       "      <td>Stop Pacifier Sucking without tears with Thumb...</td>\n",
       "      <td>All of my kids have cried non-stop when I trie...</td>\n",
       "      <td>5</td>\n",
       "    </tr>\n",
       "  </tbody>\n",
       "</table>\n",
       "</div>"
      ]
     },
     "execution_count": 4,
     "metadata": {},
     "output_type": "execute_result"
    }
   ],
   "execution_count": 4
  },
  {
   "metadata": {
    "ExecuteTime": {
     "end_time": "2024-11-23T22:28:52.811752Z",
     "start_time": "2024-11-23T22:28:51.958974Z"
    }
   },
   "cell_type": "code",
   "source": [
    "#clearing data\n",
    "baby_df['review'] = baby_df['review'].astype(str).apply(remove_punctuation)\n",
    "baby_df['review'] = baby_df[\"review\"].fillna(\"\")"
   ],
   "id": "6692172d7ff38c2c",
   "outputs": [],
   "execution_count": 5
  },
  {
   "metadata": {},
   "cell_type": "markdown",
   "source": [
    "### Logistic regression:  \n",
    "is used to classify observations into different categories (in our case 2). Simple approach to solve classification problems. \n"
   ],
   "id": "447913e888a4e076"
  },
  {
   "metadata": {
    "ExecuteTime": {
     "end_time": "2024-11-23T22:28:59.087767Z",
     "start_time": "2024-11-23T22:28:59.065754Z"
    }
   },
   "cell_type": "code",
   "source": [
    "#preparing data for logistic regression \n",
    "baby_df = baby_df[baby_df[\"rating\"] != 3]\n",
    "baby_df[\"new_rating\"] = baby_df[\"rating\"]\n",
    "\n",
    "baby_df.loc[baby_df[\"new_rating\"] <= 2, 'new_rating'] = 0\n",
    "baby_df.loc[baby_df[\"new_rating\"] > 3, 'new_rating'] = 1"
   ],
   "id": "c43fbbb996c57147",
   "outputs": [],
   "execution_count": 6
  },
  {
   "metadata": {
    "ExecuteTime": {
     "end_time": "2024-11-23T22:58:11.695483Z",
     "start_time": "2024-11-23T22:58:11.354718Z"
    }
   },
   "cell_type": "code",
   "source": [
    "from sklearn.metrics import accuracy_score, classification_report\n",
    "from sklearn.model_selection import train_test_split\n",
    "from sklearn.feature_extraction.text import TfidfVectorizer\n",
    "\n",
    "logistic_regr_data = baby_df.head(5000) #choosing first 5000 reviews \n",
    "vectorizer = TfidfVectorizer()\n",
    "X = vectorizer.fit_transform(logistic_regr_data['review'].values)  \n",
    "Y = logistic_regr_data['new_rating'].values  \n",
    "\n",
    "X_train, X_test, y_train, y_test = train_test_split(X, Y, test_size=0.2, random_state=42)\n",
    "\n",
    "#class_wight='balance' - is the compromise. Automatically adjusts the weights of the classes inversely proportional to their frequency in the dataset.\n",
    "#better ability to handle imbalanced dataset. \n",
    "model = LogisticRegression(class_weight='balanced')\n",
    "model.fit(X_train, y_train)\n",
    "y_pred = model.predict(X_test)\n",
    "\n",
    "print(\"Accuracy:\", accuracy_score(y_test, y_pred))\n",
    "print(classification_report(y_test, y_pred))\n"
   ],
   "id": "a923da6884fa5484",
   "outputs": [
    {
     "name": "stdout",
     "output_type": "stream",
     "text": [
      "Accuracy: 0.855\n",
      "              precision    recall  f1-score   support\n",
      "\n",
      "           0       0.61      0.80      0.69       201\n",
      "           1       0.95      0.87      0.91       799\n",
      "\n",
      "    accuracy                           0.85      1000\n",
      "   macro avg       0.78      0.83      0.80      1000\n",
      "weighted avg       0.88      0.85      0.86      1000\n",
      "\n"
     ]
    }
   ],
   "execution_count": 15
  },
  {
   "metadata": {},
   "cell_type": "markdown",
   "source": [
    "1. Accuracy model is around 85%, which is pretty good, considering small dataset. \n",
    "2. Class '0' means that rating is under 3, class '1' means that rating is over 3. Precision is the number of correct predictions. So how many cases selected to each class should really be there. (ile pozytywych przypadków przez model rzeczywiscie było pozytywne)\n",
    "3. Recall (czułość) - how precisely model detects every positive and negative cases in the dateset. (ile przypadków z danej klasy z całego zbioru zostało pozytywnie przydzielone do danego zbioru). \n",
    "4.  F1-score is the standard of the model. So what's the quality of the model. It's the balance between precision and recall. \n"
   ],
   "id": "c906eb5498497a71"
  },
  {
   "metadata": {
    "ExecuteTime": {
     "end_time": "2024-11-23T23:16:15.982699Z",
     "start_time": "2024-11-23T23:16:15.893411Z"
    }
   },
   "cell_type": "code",
   "source": [
    "from sklearn.metrics import confusion_matrix\n",
    "import seaborn as sns\n",
    "\n",
    "cm = confusion_matrix(y_test, y_pred)\n",
    "\n",
    "#Plot Confusion Matrix\n",
    "plt.figure(figsize=(6, 5))\n",
    "sns.heatmap(cm, annot=True, fmt=\"d\", cmap=\"Blues\", xticklabels=[\"Negative\", \"Positive\"], yticklabels=[\"Negative\", \"Positive\"])\n",
    "plt.title(\"Confusion Matrix\")\n",
    "plt.xlabel(\"Predicted\")\n",
    "plt.ylabel(\"Actual\")\n",
    "plt.show()"
   ],
   "id": "13d0f0f8eddc0ded",
   "outputs": [
    {
     "data": {
      "text/plain": [
       "<Figure size 600x500 with 2 Axes>"
      ],
      "image/png": "[encoded data removed]"
     },
     "metadata": {},
     "output_type": "display_data"
    }
   ],
   "execution_count": 19
  },
  {
   "metadata": {},
   "cell_type": "markdown",
   "source": [
    "This matrix is used to understand the performance of the model. \n",
    "1. True Positive (TP): The number of correctly predicted positive instances.\n",
    "2. False Positive (FP): The number of incorrectly predicted positive instances.\n",
    "3. True Negative (TN): The number of correctly predicted negative instances.\n",
    "4. False Negative (FN): The number of incorrectly predicted negative instances.\n",
    "\n",
    "As we can observe this model is really accurate in predicting positive cases. "
   ],
   "id": "8a611fe26c455bb0"
  },
  {
   "metadata": {},
   "cell_type": "code",
   "source": "",
   "id": "f868bc196046f12e",
   "outputs": [],
   "execution_count": null
  }
 ],
 "metadata": {
  "kernelspec": {
   "display_name": "Python 3",
   "language": "python",
   "name": "python3"
  },
  "language_info": {
   "codemirror_mode": {
    "name": "ipython",
    "version": 2
   },
   "file_extension": ".py",
   "mimetype": "text/x-python",
   "name": "python",
   "nbconvert_exporter": "python",
   "pygments_lexer": "ipython2",
   "version": "2.7.6"
  }
 },
 "nbformat": 4,
 "nbformat_minor": 5
}
