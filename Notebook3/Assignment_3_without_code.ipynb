{
 "cells": [
  {
   "metadata": {},
   "cell_type": "markdown",
   "source": "# ADAM NOWAK "
  },
  {
   "cell_type": "markdown",
   "metadata": {},
   "source": [
    "### Today we are going to perform the simple classification of the amazon reviews' sentiment.\n",
    "\n",
    "### Please, download the dataset amazon_baby.csv."
   ]
  },
  {
   "cell_type": "code",
   "metadata": {
    "collapsed": false,
    "ExecuteTime": {
     "end_time": "2024-11-19T18:20:37.309304Z",
     "start_time": "2024-11-19T18:20:36.279392Z"
    }
   },
   "source": [
    "import pandas as pd\n",
    "import numpy as np\n",
    "import matplotlib.pyplot as plt\n",
    "import string\n",
    "from sklearn.linear_model import LogisticRegression\n",
    "\n",
    "def remove_punctuation(text):\n",
    "    import string\n",
    "    translator = str.maketrans('', '', string.punctuation)\n",
    "    return text.translate(translator)\n",
    "\n",
    "baby_df = pd.read_csv('amazon_baby.csv')\n",
    "baby_df.head()"
   ],
   "outputs": [
    {
     "data": {
      "text/plain": [
       "                                                name  \\\n",
       "0                           Planetwise Flannel Wipes   \n",
       "1                              Planetwise Wipe Pouch   \n",
       "2                Annas Dream Full Quilt with 2 Shams   \n",
       "3  Stop Pacifier Sucking without tears with Thumb...   \n",
       "4  Stop Pacifier Sucking without tears with Thumb...   \n",
       "\n",
       "                                              review  rating  \n",
       "0  These flannel wipes are OK, but in my opinion ...       3  \n",
       "1  it came early and was not disappointed. i love...       5  \n",
       "2  Very soft and comfortable and warmer than it l...       5  \n",
       "3  This is a product well worth the purchase.  I ...       5  \n",
       "4  All of my kids have cried non-stop when I trie...       5  "
      ],
      "text/html": [
       "<div>\n",
       "<style scoped>\n",
       "    .dataframe tbody tr th:only-of-type {\n",
       "        vertical-align: middle;\n",
       "    }\n",
       "\n",
       "    .dataframe tbody tr th {\n",
       "        vertical-align: top;\n",
       "    }\n",
       "\n",
       "    .dataframe thead th {\n",
       "        text-align: right;\n",
       "    }\n",
       "</style>\n",
       "<table border=\"1\" class=\"dataframe\">\n",
       "  <thead>\n",
       "    <tr style=\"text-align: right;\">\n",
       "      <th></th>\n",
       "      <th>name</th>\n",
       "      <th>review</th>\n",
       "      <th>rating</th>\n",
       "    </tr>\n",
       "  </thead>\n",
       "  <tbody>\n",
       "    <tr>\n",
       "      <th>0</th>\n",
       "      <td>Planetwise Flannel Wipes</td>\n",
       "      <td>These flannel wipes are OK, but in my opinion ...</td>\n",
       "      <td>3</td>\n",
       "    </tr>\n",
       "    <tr>\n",
       "      <th>1</th>\n",
       "      <td>Planetwise Wipe Pouch</td>\n",
       "      <td>it came early and was not disappointed. i love...</td>\n",
       "      <td>5</td>\n",
       "    </tr>\n",
       "    <tr>\n",
       "      <th>2</th>\n",
       "      <td>Annas Dream Full Quilt with 2 Shams</td>\n",
       "      <td>Very soft and comfortable and warmer than it l...</td>\n",
       "      <td>5</td>\n",
       "    </tr>\n",
       "    <tr>\n",
       "      <th>3</th>\n",
       "      <td>Stop Pacifier Sucking without tears with Thumb...</td>\n",
       "      <td>This is a product well worth the purchase.  I ...</td>\n",
       "      <td>5</td>\n",
       "    </tr>\n",
       "    <tr>\n",
       "      <th>4</th>\n",
       "      <td>Stop Pacifier Sucking without tears with Thumb...</td>\n",
       "      <td>All of my kids have cried non-stop when I trie...</td>\n",
       "      <td>5</td>\n",
       "    </tr>\n",
       "  </tbody>\n",
       "</table>\n",
       "</div>"
      ]
     },
     "execution_count": 28,
     "metadata": {},
     "output_type": "execute_result"
    }
   ],
   "execution_count": 28
  },
  {
   "cell_type": "markdown",
   "metadata": {},
   "source": [
    "## Exercise 1 (data preparation)\n",
    "a) Remove punctuation from reviews using the given function.   \n",
    "b) Replace all missing (nan) revies with empty \"\" string.  \n",
    "c) Drop all the entries with rating = 3, as they have neutral sentiment.   \n",
    "d) Set all positive ($\\geq$4) ratings to 1 and negative($\\leq$2) to -1."
   ]
  },
  {
   "cell_type": "code",
   "metadata": {
    "collapsed": false,
    "ExecuteTime": {
     "end_time": "2024-11-19T18:20:40.893505Z",
     "start_time": "2024-11-19T18:20:40.052806Z"
    }
   },
   "source": [
    "#a)\n",
    "#conversion to str before using function\n",
    "baby_df['review'] = baby_df['review'].astype(str).apply(remove_punctuation)\n",
    "\n",
    "#short test: \n",
    "baby_df[\"review\"][4] == 'All of my kids have cried nonstop when I tried to ween them off their pacifier until I found Thumbuddy To Loves Binky Fairy Puppet  It is an easy way to work with your kids to allow them to understand where their pacifier is going and help them part from itThis is a must buy book and a great gift for expecting parents  You will save them soo many headachesThanks for this book  You all rock'\n",
    "remove_punctuation(baby_df[\"review\"][4]) == 'All of my kids have cried nonstop when I tried to ween them off their pacifier until I found Thumbuddy To Loves Binky Fairy Puppet  It is an easy way to work with your kids to allow them to understand where their pacifier is going and help them part from itThis is a must buy book and a great gift for expecting parents  You will save them soo many headachesThanks for this book  You all rock'"
   ],
   "outputs": [
    {
     "data": {
      "text/plain": [
       "True"
      ]
     },
     "execution_count": 29,
     "metadata": {},
     "output_type": "execute_result"
    }
   ],
   "execution_count": 29
  },
  {
   "cell_type": "code",
   "metadata": {
    "collapsed": false,
    "ExecuteTime": {
     "end_time": "2024-11-19T18:20:43.114174Z",
     "start_time": "2024-11-19T18:20:43.082317Z"
    }
   },
   "source": [
    "#b)\n",
    "baby_df['review'] = baby_df[\"review\"].fillna(\"\")\n",
    "\n",
    "#short test:\n",
    "baby_df[\"review\"][38] == baby_df[\"review\"][38]"
   ],
   "outputs": [
    {
     "data": {
      "text/plain": [
       "True"
      ]
     },
     "execution_count": 30,
     "metadata": {},
     "output_type": "execute_result"
    }
   ],
   "execution_count": 30
  },
  {
   "cell_type": "code",
   "metadata": {
    "collapsed": false,
    "ExecuteTime": {
     "end_time": "2024-11-19T18:20:45.234224Z",
     "start_time": "2024-11-19T18:20:45.208717Z"
    }
   },
   "source": [
    "#c)\n",
    "baby_df = baby_df[baby_df[\"rating\"] != 3]\n",
    "#short test:\n",
    "print(sum(baby_df[\"rating\"] == 3))"
   ],
   "outputs": [
    {
     "name": "stdout",
     "output_type": "stream",
     "text": [
      "0\n"
     ]
    }
   ],
   "execution_count": 31
  },
  {
   "metadata": {},
   "cell_type": "markdown",
   "source": "We are deleting rating 3 because it's neutral!"
  },
  {
   "cell_type": "code",
   "metadata": {
    "collapsed": false,
    "ExecuteTime": {
     "end_time": "2024-11-19T18:21:02.139123Z",
     "start_time": "2024-11-19T18:21:02.117044Z"
    }
   },
   "source": [
    "#d) \n",
    "#filtered_df = baby_df[baby_df[\"rating\"] > 4]\n",
    "#print(filtered_df.head())\n",
    "baby_df[\"new_rating\"] = baby_df[\"rating\"]\n",
    "\n",
    "baby_df.loc[baby_df[\"new_rating\"] <= 2, 'new_rating'] = -1\n",
    "baby_df.loc[baby_df[\"new_rating\"] > 3, 'new_rating'] = 1\n",
    "\n",
    "#short test:\n",
    "\n",
    "sum(baby_df[\"new_rating\"]**2 != 1)\n",
    "print(baby_df[['rating', 'new_rating']].head()) "
   ],
   "outputs": [
    {
     "name": "stdout",
     "output_type": "stream",
     "text": [
      "   rating  new_rating\n",
      "1       5           1\n",
      "2       5           1\n",
      "3       5           1\n",
      "4       5           1\n",
      "5       5           1\n"
     ]
    }
   ],
   "execution_count": 32
  },
  {
   "metadata": {},
   "cell_type": "markdown",
   "source": "Test result is 0 because every rating number is 1 or -1, so when we raise it to the second power its always 1. I'm creating new column 'new_rating'just for clarity. "
  },
  {
   "metadata": {
    "ExecuteTime": {
     "end_time": "2024-11-19T18:21:06.214083Z",
     "start_time": "2024-11-19T18:21:06.202552Z"
    }
   },
   "cell_type": "code",
   "source": [
    "negative_ratings = baby_df[baby_df['new_rating'] == -1]\n",
    "negative_ratings.head()"
   ],
   "outputs": [
    {
     "data": {
      "text/plain": [
       "                                                 name  \\\n",
       "21    Nature's Lullabies Second Year Sticker Calendar   \n",
       "41         SoftPlay Giggle Jiggle Funbook, Happy Bear   \n",
       "50                          SoftPlay Cloth Book, Love   \n",
       "70  Hunnt&reg; Falling Flowers and Birds Kids Nurs...   \n",
       "71  Wall Decor Removable Decal Sticker - Colorful ...   \n",
       "\n",
       "                                               review  rating  new_rating  \n",
       "21  I only purchased a secondyear calendar for my ...       2          -1  \n",
       "41  This bear is absolutely adorable and I would g...       2          -1  \n",
       "50  This book is boring Nothing to stimulate my gr...       1          -1  \n",
       "70  The reasonSmall sizeHard to apply on the wall ...       1          -1  \n",
       "71  Would not purchase again or recommend The deca...       2          -1  "
      ],
      "text/html": [
       "<div>\n",
       "<style scoped>\n",
       "    .dataframe tbody tr th:only-of-type {\n",
       "        vertical-align: middle;\n",
       "    }\n",
       "\n",
       "    .dataframe tbody tr th {\n",
       "        vertical-align: top;\n",
       "    }\n",
       "\n",
       "    .dataframe thead th {\n",
       "        text-align: right;\n",
       "    }\n",
       "</style>\n",
       "<table border=\"1\" class=\"dataframe\">\n",
       "  <thead>\n",
       "    <tr style=\"text-align: right;\">\n",
       "      <th></th>\n",
       "      <th>name</th>\n",
       "      <th>review</th>\n",
       "      <th>rating</th>\n",
       "      <th>new_rating</th>\n",
       "    </tr>\n",
       "  </thead>\n",
       "  <tbody>\n",
       "    <tr>\n",
       "      <th>21</th>\n",
       "      <td>Nature's Lullabies Second Year Sticker Calendar</td>\n",
       "      <td>I only purchased a secondyear calendar for my ...</td>\n",
       "      <td>2</td>\n",
       "      <td>-1</td>\n",
       "    </tr>\n",
       "    <tr>\n",
       "      <th>41</th>\n",
       "      <td>SoftPlay Giggle Jiggle Funbook, Happy Bear</td>\n",
       "      <td>This bear is absolutely adorable and I would g...</td>\n",
       "      <td>2</td>\n",
       "      <td>-1</td>\n",
       "    </tr>\n",
       "    <tr>\n",
       "      <th>50</th>\n",
       "      <td>SoftPlay Cloth Book, Love</td>\n",
       "      <td>This book is boring Nothing to stimulate my gr...</td>\n",
       "      <td>1</td>\n",
       "      <td>-1</td>\n",
       "    </tr>\n",
       "    <tr>\n",
       "      <th>70</th>\n",
       "      <td>Hunnt&amp;reg; Falling Flowers and Birds Kids Nurs...</td>\n",
       "      <td>The reasonSmall sizeHard to apply on the wall ...</td>\n",
       "      <td>1</td>\n",
       "      <td>-1</td>\n",
       "    </tr>\n",
       "    <tr>\n",
       "      <th>71</th>\n",
       "      <td>Wall Decor Removable Decal Sticker - Colorful ...</td>\n",
       "      <td>Would not purchase again or recommend The deca...</td>\n",
       "      <td>2</td>\n",
       "      <td>-1</td>\n",
       "    </tr>\n",
       "  </tbody>\n",
       "</table>\n",
       "</div>"
      ]
     },
     "execution_count": 33,
     "metadata": {},
     "output_type": "execute_result"
    }
   ],
   "execution_count": 33
  },
  {
   "metadata": {
    "ExecuteTime": {
     "end_time": "2024-11-19T18:30:55.641467Z",
     "start_time": "2024-11-19T18:30:55.614102Z"
    }
   },
   "cell_type": "code",
   "source": [
    "#test\n",
    "print(\"Negative rating\", sum(baby_df[\"new_rating\"] == 1))\n",
    "print(\"Positive rating\", sum(baby_df[\"new_rating\"] == -1))"
   ],
   "outputs": [
    {
     "name": "stdout",
     "output_type": "stream",
     "text": [
      "Negative rating 140259\n",
      "Positive rating 26493\n"
     ]
    }
   ],
   "execution_count": 43
  },
  {
   "metadata": {},
   "cell_type": "markdown",
   "source": "Segregation went correctly. "
  },
  {
   "cell_type": "markdown",
   "metadata": {},
   "source": [
    "## CountVectorizer\n",
    "In order to analyze strings, we need to assign them numerical values. We will use one of the simplest string representation, which transforms strings into the $n$ dimensional vectors. The number of dimensions will be the size of our dictionary, and then the values of the vector will represent the number of appereances of the given word in the sentence."
   ]
  },
  {
   "cell_type": "code",
   "metadata": {
    "collapsed": false,
    "ExecuteTime": {
     "end_time": "2024-11-19T17:53:50.023667Z",
     "start_time": "2024-11-19T17:53:50.018982Z"
    }
   },
   "source": [
    "from sklearn.feature_extraction.text import CountVectorizer\n",
    "\n",
    "vectorizer = CountVectorizer()\n",
    "reviews_train_example = [\"We like apples\",\n",
    "                   \"We hate oranges\",\n",
    "                   \"I adore bananas\",\n",
    "                   \"We like like apples and oranges\",\n",
    "                   \"They dislike bananas\"]\n",
    "\n",
    "X_train_example = vectorizer.fit_transform(reviews_train_example)\n",
    "\n",
    "print(vectorizer.get_feature_names_out())\n",
    "print(X_train_example.todense())\n",
    "\n"
   ],
   "outputs": [
    {
     "name": "stdout",
     "output_type": "stream",
     "text": [
      "['adore' 'and' 'apples' 'bananas' 'dislike' 'hate' 'like' 'oranges' 'they'\n",
      " 'we']\n",
      "[[0 0 1 0 0 0 1 0 0 1]\n",
      " [0 0 0 0 0 1 0 1 0 1]\n",
      " [1 0 0 1 0 0 0 0 0 0]\n",
      " [0 1 1 0 0 0 2 1 0 1]\n",
      " [0 0 0 1 1 0 0 0 1 0]]\n"
     ]
    }
   ],
   "execution_count": 7
  },
  {
   "cell_type": "code",
   "metadata": {
    "collapsed": false,
    "ExecuteTime": {
     "end_time": "2024-11-19T17:53:53.359222Z",
     "start_time": "2024-11-19T17:53:53.355507Z"
    }
   },
   "source": [
    "reviews_test_example = [\"They like bananas\",\n",
    "                   \"We hate oranges bananas and apples\",\n",
    "                   \"We love bananas\"] #New word!\n",
    "\n",
    "X_test_example = vectorizer.transform(reviews_test_example)\n",
    "\n",
    "print(X_test_example.todense())"
   ],
   "outputs": [
    {
     "name": "stdout",
     "output_type": "stream",
     "text": [
      "[[0 0 0 1 0 0 1 0 1 0]\n",
      " [0 1 1 1 0 1 0 1 0 1]\n",
      " [0 0 0 1 0 0 0 0 0 1]]\n"
     ]
    }
   ],
   "execution_count": 8
  },
  {
   "cell_type": "markdown",
   "metadata": {},
   "source": [
    "We should acknowledge few facts. Firstly, CountVectorizer does not take order into account. Secondly, it ignores one-letter words (this can be changed during initialization). Finally, for test values, CountVectorizer ignores words which are not in it's dictionary."
   ]
  },
  {
   "cell_type": "markdown",
   "metadata": {},
   "source": [
    "## Exercise 2 \n",
    "a) Split dataset into training and test sets.     \n",
    "b) Transform reviews into vectors using CountVectorizer. "
   ]
  },
  {
   "cell_type": "code",
   "metadata": {
    "collapsed": true,
    "ExecuteTime": {
     "end_time": "2024-11-19T18:33:09.700670Z",
     "start_time": "2024-11-19T18:33:09.684365Z"
    }
   },
   "source": [
    "#a)\n",
    "from sklearn.model_selection import train_test_split\n",
    "\n",
    "# Split dataset into features (X) and target (y)\n",
    "X = baby_df['review'].values\n",
    "y = baby_df['new_rating'].values  \n",
    "\n",
    "X_train, X_test, y_train, y_test = train_test_split(X, y, test_size=0.2, random_state=42)\n",
    "print(X_train[:2])\n"
   ],
   "outputs": [
    {
     "name": "stdout",
     "output_type": "stream",
     "text": [
      "['You cannot imagine how much money youll save and it doesnt smell AT ALL You can use any kitchen size garbage bags without a problem and use it for A WEEK without having to change the bag ITS WONDERFULL'\n",
      " 'I wanted to point out a couple things I didnt realize about the Kensington print in particular for others who are ordering and picking a colorprint  First it is much lighter than some of the other options which really helps when youre nursing and its hot outside my friends who have the solid color ones say that their babies are much warmer it gets a little warmer under there obviously with less air flow and seem uncomfortable compared to my little guy who seems relatively cool and happy Second and this is the main thing my baby loves seeing the print on the underside of the cover while hes nursing He loves the contrast between the light background and the blue and green vines which are visible even from the underside Added bonus  Finally Ive gotten several compliments on the pattern one woman even stopped me and asked where she could get the material because she liked it so much she wanted to make a dress out of it']\n"
     ]
    }
   ],
   "execution_count": 46
  },
  {
   "cell_type": "code",
   "metadata": {
    "collapsed": true,
    "ExecuteTime": {
     "end_time": "2024-11-19T18:39:28.375678Z",
     "start_time": "2024-11-19T18:39:20.832996Z"
    }
   },
   "source": [
    "#b)\n",
    "from sklearn.feature_extraction.text import CountVectorizer\n",
    "\n",
    "#testing if its working correctly\n",
    "vectorizer_test = CountVectorizer()\n",
    "X_train_vectors_test = vectorizer_test.fit_transform(X_train[:2])\n",
    "print(vectorizer_test.get_feature_names_out()) \n",
    "\n",
    "#transformation\n",
    "vectorizer = CountVectorizer()\n",
    "X_train_vectors = vectorizer.fit_transform(X_train)\n",
    "X_test_vectors = vectorizer.transform(X_test) #converting the test data to space vector \n",
    "\n",
    "print(vectorizer.get_feature_names_out())\n",
    "print(X_train_vectors.shape)"
   ],
   "outputs": [
    {
     "name": "stdout",
     "output_type": "stream",
     "text": [
      "['about' 'added' 'air' 'all' 'and' 'any' 'are' 'asked' 'at' 'babies'\n",
      " 'baby' 'background' 'bag' 'bags' 'because' 'between' 'blue' 'bonus' 'can'\n",
      " 'cannot' 'change' 'color' 'colorprint' 'compared' 'compliments'\n",
      " 'contrast' 'cool' 'could' 'couple' 'cover' 'didnt' 'doesnt' 'dress'\n",
      " 'even' 'finally' 'first' 'flow' 'for' 'friends' 'from' 'garbage' 'get'\n",
      " 'gets' 'gotten' 'green' 'guy' 'happy' 'have' 'having' 'he' 'helps' 'hes'\n",
      " 'hot' 'how' 'imagine' 'in' 'is' 'it' 'its' 'ive' 'kensington' 'kitchen'\n",
      " 'less' 'light' 'lighter' 'liked' 'little' 'loves' 'main' 'make'\n",
      " 'material' 'me' 'money' 'much' 'my' 'nursing' 'obviously' 'of' 'on' 'one'\n",
      " 'ones' 'options' 'ordering' 'other' 'others' 'out' 'outside' 'particular'\n",
      " 'pattern' 'picking' 'point' 'print' 'problem' 'realize' 'really'\n",
      " 'relatively' 'save' 'say' 'second' 'seeing' 'seem' 'seems' 'several'\n",
      " 'she' 'size' 'smell' 'so' 'solid' 'some' 'stopped' 'than' 'that' 'the'\n",
      " 'their' 'there' 'thing' 'things' 'this' 'to' 'uncomfortable' 'under'\n",
      " 'underside' 'use' 'vines' 'visible' 'wanted' 'warmer' 'week' 'when'\n",
      " 'where' 'which' 'while' 'who' 'with' 'without' 'woman' 'wonderfull' 'you'\n",
      " 'youll' 'youre']\n",
      "['00' '000' '0001' ... 'zzzzzz' 'zzzzzzz' 'zzzzzzzzzzz']\n",
      "(133401, 121806)\n"
     ]
    }
   ],
   "execution_count": 50
  },
  {
   "metadata": {},
   "cell_type": "markdown",
   "source": "As noted in the output we are getting the features names correctly, so fit_transform (transforming the training data into matrix) works correctly. "
  },
  {
   "cell_type": "markdown",
   "metadata": {},
   "source": [
    "## Exercise 3 \n",
    "a) Train LogisticRegression model on training data (reviews processed with CountVectorizer, ratings as they were).   \n",
    "b) Print 10 most positive and 10 most negative words."
   ]
  },
  {
   "cell_type": "code",
   "metadata": {
    "collapsed": true,
    "ExecuteTime": {
     "end_time": "2024-11-19T18:44:30.857333Z",
     "start_time": "2024-11-19T18:43:53.462983Z"
    }
   },
   "source": [
    "#a)\n",
    "from sklearn.linear_model import LogisticRegression\n",
    "from sklearn.metrics import accuracy_score\n",
    "\n",
    "# Initialize LogisticRegression model\n",
    "model = LogisticRegression(max_iter=1000)\n",
    "model.fit(X_train_vectors, y_train)\n",
    "y_pred = model.predict(X_test_vectors)\n",
    "\n",
    "accuracy = accuracy_score(y_test, y_pred)\n",
    "print(f'Accuracy: {accuracy:.4f}')\n"
   ],
   "outputs": [
    {
     "name": "stdout",
     "output_type": "stream",
     "text": [
      "Accuracy: 0.9329\n"
     ]
    }
   ],
   "execution_count": 51
  },
  {
   "metadata": {
    "ExecuteTime": {
     "end_time": "2024-11-19T18:45:17.516140Z",
     "start_time": "2024-11-19T18:45:17.506685Z"
    }
   },
   "cell_type": "code",
   "source": "model.predict(vectorizer.transform(['disappointed']))[0]",
   "outputs": [
    {
     "data": {
      "text/plain": [
       "-1"
      ]
     },
     "execution_count": 52,
     "metadata": {},
     "output_type": "execute_result"
    }
   ],
   "execution_count": 52
  },
  {
   "metadata": {
    "ExecuteTime": {
     "end_time": "2024-11-19T18:45:19.344944Z",
     "start_time": "2024-11-19T18:45:19.340678Z"
    }
   },
   "cell_type": "code",
   "source": "model.predict(vectorizer.transform(['perfect']))[0]",
   "outputs": [
    {
     "data": {
      "text/plain": [
       "1"
      ]
     },
     "execution_count": 53,
     "metadata": {},
     "output_type": "execute_result"
    }
   ],
   "execution_count": 53
  },
  {
   "cell_type": "code",
   "metadata": {
    "collapsed": true,
    "ExecuteTime": {
     "end_time": "2024-11-19T19:01:53.224374Z",
     "start_time": "2024-11-19T19:01:52.975045Z"
    }
   },
   "source": [
    "#b)\n",
    "print(model.coef_,\"\\n\") #printing the coefficients of every word\n",
    "\n",
    "coeficients = model.coef_[0]\n",
    "feature_names = vectorizer.get_feature_names_out()\n",
    "\n",
    "#sorting and zipping coef with names (result = list of tuples) and reversing to displaying most positive ones \n",
    "#lambda function specifies sorting key with in this case is the coefficients value for specific word\n",
    "most_positive = sorted(zip(coeficients, feature_names), key=lambda x: x[0], reverse=True)\n",
    "print(\"Top 10 Most Positive Words:\")\n",
    "for n,c in most_positive[:10]:\n",
    "    print(f\"{n}: {c}\")\n",
    "\n",
    "print(\"\\n\")\n",
    "#sorting and zipping coef with names and displaying most negative ones\n",
    "most_negative = sorted(zip(coeficients, feature_names), key=lambda x: x[0], reverse= False)\n",
    "print(\"Top 10 Most Negatice Words:\")\n",
    "for n,c in most_negative[:10]:\n",
    "    print(f\"{n}: {c}\")\n",
    "\n",
    "#hint: model.coef_, vectorizer.get_feature_names()"
   ],
   "outputs": [
    {
     "name": "stdout",
     "output_type": "stream",
     "text": [
      "[[ 0.00045216  0.00858757  0.00624888 ...  0.00899608  0.00379664\n",
      "  -0.00010044]] \n",
      "\n",
      "Top 10 Most Positive Words:\n",
      "2.19140169878936: lifesaver\n",
      "2.13701171530884: minor\n",
      "2.0727530441180084: con\n",
      "2.0315468023034486: skeptical\n",
      "2.004349460490706: ply\n",
      "2.0028946103789083: saves\n",
      "1.9900021026894708: thankful\n",
      "1.9331071335532408: rich\n",
      "1.899027579850039: wonderfully\n",
      "1.8746816226030407: hinder\n",
      "\n",
      "\n",
      "Top 10 Most Negatice Words:\n",
      "-2.826389088337347: dissapointed\n",
      "-2.7545931318772556: worthless\n",
      "-2.611657494104371: worst\n",
      "-2.569384876023774: useless\n",
      "-2.527244518929706: poorly\n",
      "-2.466253947504001: disappointing\n",
      "-2.2487688955854543: unusable\n",
      "-2.2141949030859354: disappointed\n",
      "-2.195760912796035: poor\n",
      "-2.1679255334604024: unacceptable\n"
     ]
    }
   ],
   "execution_count": 63
  },
  {
   "metadata": {},
   "cell_type": "markdown",
   "source": "Above we can observe 10 words with most positive and negative coefficients."
  },
  {
   "cell_type": "markdown",
   "metadata": {},
   "source": [
    "## Exercise 4 \n",
    "a) Predict the sentiment of test data reviews.   \n",
    "b) Predict the sentiment of test data reviews in terms of probability.   \n",
    "c) Find five most positive and most negative reviews.   \n",
    "d) Calculate the accuracy of predictions."
   ]
  },
  {
   "cell_type": "code",
   "metadata": {
    "collapsed": true,
    "ExecuteTime": {
     "end_time": "2024-11-19T20:18:41.604291Z",
     "start_time": "2024-11-19T20:18:41.589479Z"
    }
   },
   "source": [
    "#a)\n",
    "y_pred = model.predict(X_test_vectors)\n",
    "print(\"Predicted Sentiments for test data:\", y_pred[:10])\n"
   ],
   "outputs": [
    {
     "name": "stdout",
     "output_type": "stream",
     "text": [
      "Predicted Sentiments for test data: [ 1 -1 -1  1  1  1  1  1  1 -1]\n"
     ]
    }
   ],
   "execution_count": 96
  },
  {
   "metadata": {},
   "cell_type": "markdown",
   "source": "Predicting the sentiments (positive (1) or negative (-1)) of the test data. "
  },
  {
   "metadata": {
    "ExecuteTime": {
     "end_time": "2024-11-19T19:23:15.061737Z",
     "start_time": "2024-11-19T19:23:15.053990Z"
    }
   },
   "cell_type": "code",
   "source": [
    "#b)\n",
    "y_pred_prob = model.predict_proba(X_test_vectors)\n",
    "print(\"Predicted Probabilities for test data: \\n\", y_pred_prob[:5])\n",
    "#hint: model.predict_proba()"
   ],
   "outputs": [
    {
     "name": "stdout",
     "output_type": "stream",
     "text": [
      "Predicted Probabilities for test data: \n",
      " [[0.46685486 0.53314514]\n",
      " [0.78368871 0.21631129]\n",
      " [0.97120749 0.02879251]\n",
      " [0.00176079 0.99823921]\n",
      " [0.00164759 0.99835241]]\n"
     ]
    }
   ],
   "execution_count": 73
  },
  {
   "metadata": {},
   "cell_type": "markdown",
   "source": [
    "Now we are interested in the probability of each class (so how likely it is that this review will be in this category (1 or -1)). So we want to know how confident the model is about its predictions. \n",
    "model.predict_proba() - this return the probabilities for each review being in each of the classes (-1, 1). [2D-array] "
   ]
  },
  {
   "metadata": {
    "ExecuteTime": {
     "end_time": "2024-11-19T19:39:30.495557Z",
     "start_time": "2024-11-19T19:39:30.413998Z"
    }
   },
   "cell_type": "code",
   "source": [
    "#c)\n",
    "#finding reviews with most positive and least positive probability of being in class (1). \n",
    "reviews_with_probabilities = [(review, prob[1]) for review, prob in zip(X_test, y_pred_prob)]\n",
    "positive_reviews = sorted(reviews_with_probabilities, key=lambda x: x[1], reverse=True)[:5]\n",
    "negative_reviews = sorted(reviews_with_probabilities, key=lambda x: x[1])[:5]\n",
    "\n",
    "#printing results\n",
    "print(\"Top 5 Most Positive Reviews:\")\n",
    "for i, (review, prob) in enumerate(positive_reviews, 1):\n",
    "    print(f\"{i}. Review: {review}\\n   Probability of Positive: {prob:.4f}\\n\")\n",
    "\n",
    "print(\"\\nTop 5 Most Negative Reviews:\")\n",
    "for i, (review, prob) in enumerate(negative_reviews, 1):\n",
    "    print(f\"{i}. Review: {review}\\n   Probability of Positive: {prob:.4f}\\n\")\n"
   ],
   "outputs": [
    {
     "name": "stdout",
     "output_type": "stream",
     "text": [
      "Top 5 Most Positive Reviews:\n",
      "1. Review: BOTTOM LINE I would buy this again in a heartbeat and I would buy it over any other travel crib or pack n play I have been so impressed with this crib 100 worth every penny It has been used every night for seven months and shows no signs of wearMy husband and I bought this crib as our only crib for our first baby We were nervous because it was such a large purchase for us This is the most expensive thing we have purchased besides our car After extensive research we decided on the babybjorn because my husband is in graduate school and we will be doing a lot of moving in the next few years She has slept in it since she was three days old and she is now seven months and the crib looks and functions as if it was newOur BabyBjorn has been in six states and five countries We have checked it at airports all over Europe and the US We have checked it in its carrying case alone and it has not been damaged in anyway It has been on trains buses metros trams in taxis cars and planes Even the bag has yet to show signs of wearingThe crib unzips from the metal bars so it can be washed as well This is really nice if you travel a lot We moved into our apartment in Italy and found out that there were bed bugs in it We were worried we would have to replace our loved crib but it can be washed and the matress is cased in plastic so it is safe The plastic liner can unzip and both the matress and the plastic can be washed If you are planning on doing any extensive traveling you will run into bed bugs and this crib is a mustThe sheets and matress pad made by babybjorn are expensive however I found them for half the price at sheetworldcom And we were able to get hot pink cotton ones and hot pink flannel onesThe crib is so easy to put together I personally hate setting things up but it is one motion  just lifting it out of the case It also comes readytogo so no need to put together It even is easy to put back into its case Amazingly seven months plus six countries later it still opens up perfectly everytimeI love that I can see into it so easily through the mesh Being a first time mom I was super nervous when she slept but I could see her without lifting my head off the pillow Also our little one moves a lot while she sleeps and sometimes ends up pressed against the side Luckily the babybjorn is light fabric so she can breath while her face is planted into the side Another great thing is that all the bars are outside of the crib so there is nothing hard for her little head to hitDurning the night she sleeps in it and during the day she plays in it Unlike pack n plays the bottom will not sag because the matress is supported by the floorAlso it is small enough to fit in tight hotel rooms and even on some trains but large enough to provide comfort and space for even the most wiggley babies The carrying case is also slim enough for us to pack it on the floor of our Saturn in front of her car seat It even was smashed in our trunk from Washington DC to Idaho and worked just fine when we pulled it outTwo things about it to keep in mind The crib sits on the floor so it is cooler at the lower elevation than a traditonal crib Also I had a csection and it was difficult for the first week to bend over and lift her out of it However the crib has been built well enough that I do lean on it to grab her and it has not had any issuesIt is hands down the best purchase we made Although it is a bit pricey it is worth every penny I would pay twice what it cost for it I have told friends to buy it I will buy another all over again\n",
      "   Probability of Positive: 1.0000\n",
      "\n",
      "2. Review: We love this highchair  We have a 4 year old and an 8 month old  This is our 3rd highchairFeatures we loveFit  This chair FITS my infant daughter  She fits in this chair without the extra insert way better than in the basic Evenflo chair we had before  I only use the 3point harness and let her shoulders be free and she sits at a correct level so her arms can move around well and she can lean and reach for things on the tray  Many other chairs have a real problem with fit  So I do believe that with the insert this is the perfect chair to start your 4 month infant in for feeding  The insert will make them more secure kind of like their carseatTray Insert  With our other chairs the tray clicks down into the larger tray all the way aroundyou can remove it for cleaning  Fine  But I always hated that food got into the crack nearest to the baby so I couldnt just wipe it downI HAD to remove it to get out all the gunk  The tray on this is so smartthe edge closest to the baby wraps all the way down and clicks under the lip of the large trayone smooth surface where all the food is landing  I love itUpholstry  I love this leather look  It cleans easy and is really cushy  The part that is designed to match other Graco gear is just an insert for small infants  The rest of it is just a tan color and it matches anythingSturdiness  I cant tell you how much safer I feel my daughter is in thisit is solid  I never felt terribly comfortable reclining her in other seats but this one is made well and I am not worriedVersitality  This is one of the best parts  We bought this and now we are using both the highchair for our 8 month old daughter and the booster for our 4 year old son  Here is how it works  Basically it is like a high chair with 2 bases  Both bases are toddler chairs themselves  I will call them the rolling base and the chair base  So you have a toddler seat attached to the rolling base and another toddler seat that you can attach with straps to a chair the chair base  Then you can take the separate highchair part and click it into the rolling base or to the chair base whichever you like  Then the unused base becomes a toddler chair  One might think that you could sit 3 children2 toddlers in the bases and then an infant in the highchair part but the highchair really needs to click into a base because it is not designed to be on its own  The highchair with the chair base would be great to take when traveling especially if you just use the snack tray and leave the large tray at home  And the toddler seat that is attached to the highchair frame is truly good for getting under tables with a lip because of its low sides unlike many toddler seats that come up too far and you cant scoot them under the tableWorth notingI see no problem with the snack tray  At 8 months my daughter fits fine and it is half as big as the traya great size snack tray  And it has its own separate cup holder  You really dont need the snack tray before they start feeding themselves so I cant see it being a problem at the age you would need itAdjustable foot rest  I just love this and it just makes it better for the baby to have more support  My 8 month old cant touch the highest setting yet but probably within 6 months or soToddler seat  I thought it was extra great that they include an adjustable backthere are 3 slots to put slide a back into the chairthat way you can match the length of the chair to your childs legs  My 4 year old is big enough that we removed the back and let him sit all the way back in order that is knees bend in the right place  But I can see where this would be a great feature for perfect fit through the yearsThis really is a great chair for every possible use infant toddler preschooler traveling having an extra seat if you have other kids over to your house  The system will seat 2 children at once 1 baby with tray and 1 older child OR 2 older childrenWe love thisworth every penny\n",
      "   Probability of Positive: 1.0000\n",
      "\n",
      "3. Review: We bought this stroller after selling our beloved BOB rev on craigslist We used the BOB for 9 months for my son but it just wasnt practical I dont jogrun it didnt have a big basket and was very bulky to take into stores quickly However I did love how it unfolded easily but it was heavy to fold up and lift into my small trunk myself Overall I didnt realize what Id need in a stroller until AFTER I had my son Live  learn We did love how easily the BOB would go over pretty much anything Nevertheless we sold it and after extensive research on strollers we decided it was between the uppababy brand because of the large baskets OR the city mini GT because of its easy fold up design After looking over both strollers I decided on the uppababy cruz because of a few main factors It SITS UP I cant tell you how much my son hates being reclined when he is just riding in the stroller and not napping The BOB and the City Mini had a slight recline and he always tried sitting more upright The uppababy sits up like your sitting in a chair He loves it It also reclines nearly flat The foot rest can be positioned upwards so that its as if he is sitting on the floor because he is so upright and his feet are out in front of him Also the LARGE basket was a HUGE plus I cant tell you how great evvvvverything fits in there Its perfect and soooo easily accessable The city mini gt did NOT have a big enough basket for me and there for was not the right choice for me despite the very easy fold up The true test for us was this past weekend when we took it to Maine on a camping trip YES it is no BOB However I thought it was just fine over the rough bumps of a campground Bumpy ride Yes But nothing my 10 month old couldnt handle and honestly It wasnt that bad We took it to old orchard beach and as I suspected it didnt roll over the sand like my good old BOB did But it rolls really nicely on pavement and I just carried my son over to the beach and I figure he will be 1 soon enough and walking so I wont need the stroller on the beach anyways I also love the reversable seat that comes in handy because my son is going through some sort of attachment to mommy thing so he likes being able to face me from time to time I also love that the Cruz is a less expencive option to the Vista The vista is much much heavier and a little bigger And since we didnt need the extras that the Vista comes with this was the better option for us Also I called Uppababy and asked about a belly bar and toddler board for the cruz and they told me that BOTH would be available The belly bar will be out this summer and the board is in producton huge plus So for us this stroller was a hit but as anything goes you MUST research what YOU need in a stroller and figure out whats important to you Some people dont care about a big basket and in that case id for sure go with the City mini gtUPDATE1713We are in LOVE with this stroller still It fits great in the trunk of my saturn ion and how I fold it is I take the seat off first takes 1 second and then fold the frame I found it fits and folds better that way plus some times my son likes to sit forward and sometimes backwards still so I just set up the frame and then throw the seat on top depending on which way i think he wants to sit The basket is just my fave feature I cant tell you how happy I have been with the uppababby My son is 16 months old and loves sitting in his uppababy well worth it still\n",
      "   Probability of Positive: 1.0000\n",
      "\n",
      "4. Review: Im about to be a firsttime mom so I spent weeks and weeks researching different travel systems reading reviews etc  The big selling point for this one was the onehanded steering and folding  My boyfriend suffered an injury that rendered his left arm almost useless so the onehanded operation is a big deal for us  And this product far exceeded our expectations  Assembly is a breeze  It took me fifteen minutes while 34 weeks pregnant to put it together  I love how sturdy it is  And it looks amazingIve come to the conclusion that this system was designed specifically for parents with a disability similar to my boyfriends  Ive seen other travel systems in person and was actually very concerned about how well he would be able to operate it on his own  Most travel systems have multiple latches and require both hands to operate  But my worries have been put to rest  Everything can be done with one hand It even has a handle in the center of the console specifically for onehanded steering  I had my boyfriend test it out to make sure he could fold it unfold it and remove the car seat with one hand  Its so much easier than we anticipated  The only thing that absolutely requires two hands is adjusting the position of the handle on the car seat  That I can understand  Its a safety issue and leaving the handle up doesnt interfere with adjusting the umbrellas or anything so its not a big deal  Another reviewer said she calls this product the Cadillac and I can totally see why  It just looks gorgeous  I would definitely recommend this to any new parent but its an absolute MUST for parents with disabilities  I have friends who have different brands of strollers and you just cant beat the ease of operation with this oneIt does have a couple of cons although none of them are a big enough deal to affect the 5star rating for me  First of all it is large and takes up a lot of space even when folded  It is also a bit heavy  However I have a PT Cruiser and it fits in the back of my car just fine  Even as heavy as it is I can still lift it Im now 36 weeks pregnant on my own to put it in and take it out of the car  My boyfriend can also lift it with one hand and although its a bit harder to maneuver the heavy stroller into the car with one hand it can be done without too much headache  And Id prefer something heavier and sturdier to something lighter and flimsier anyway  Also Ive noticed other reviewers talk about how it doesnt stand on its own when folded  This is true but a standalone feature wasnt on my list of priorities when buying a stroller so I really couldnt care less whether it can stand on its own or whether we have to lay it down when folded  Again an absolute MUST if you or your partner have a disability  But its a gorgeous sturdy simpletouse travel system for any parent  This is by far the best buy for the moneyUPDATEMy daughter is now almost two and a half years old and this product is still as amazing as it was when I took it out of the box  Shes now outgrown the baby carrier and sits in the stroller like a big girl  Even now I occasionally get comments on how nice it is  A woman recently asked me if it was new and was shocked when I told her Id purchased it more than two years ago  This is an excellent buy and will last for years and years\n",
      "   Probability of Positive: 1.0000\n",
      "\n",
      "5. Review: I did a TON of research before I purchased this stroller and I still watch stroller reviews all the time Babygizmocom has really great reviews on so many strollers And Zooper Waltz 2011 is THE BEST of all Ive seen so farLet me tell you first though that it is not an allterrain or jogging stroller and it does not have an ability to be used for more than one child So if youre looking for these things this is not it But if youre looking for a single stroller for city walking and a little bit of park and dirt etc and you dont want a monster stroller size and weight wise this is the best stroller of that kindOne of my favorite things about this stroller is that it comes with SO many accessories that are sold separately on most other strollers especially those expensive ones With this one you pay 300 I paid 250 for it on eBay and get the following accessories all included A UV netIt easily snaps onto the canopy to completely shade the front and there are two elastic loops at the bottom to attach it securely to the stroller It comes in a zippered pouch and whats genius about it is that the pouch itself is actually part of the net so you dont have to worry about ever losing the pouch A foot muff for cold weatherIt also easily snaps onto the seat This is something you dont see included with a stroller very often A removable cup holderIt can actually hold a travel mug Starbucks cup etc and not just a water bottle A snack tray for the childLarge enough to be actually practical Has a large deep cup holder that securely holds any sippy cup a bowllike section to put some snacks and two compartments in the middle A baby bumper barYou can either completely remove it or just swing it away to make it easier to get your child in and out of the stroller Infant car seat adapter strapsYou attach it to the Drings on the sides of the seat then it goes over your infant car seat and you secure it with a buckle and by tightening the strap Its not one of those big bulky frame adapters that some strollers have for infant car seat To me thats just one more thing to find a place for when youre not using it as a travel system This strap system feels very very secure and its just much more travel friendly A rain coverThe 2011 model does not come with a rain cover but thats because the improved canopy which is gigantic and fullcoverage is made of complete waterproof fabric and acts as a rain cover I love this because I dont have to worry about forgetting the rain cover at home or fiddling with it trying to put it on when it starts raining unexpectedly on the goSo only 300 with all these amazing practical accessories is absolutely the best price for its valueNow on to the stroller features Thats right I havent even started on the main stroller yet LightweightIts just under 19lbs Im petite and dont have a lot of arm muscle but I dont have any problem getting this in and out of my trunk or carrying it up a couple flights of stairs every once in a while High weight capacity of 55lbsNot that I would use it for a 55lbs child regularly but it means its that sturdy Easy to assembleIt comes in a big box and all you have to do is snap on the wheels and the canopy Super easy Took us 5 minutes However I do want to note that we attached the canopy wrong at first and because of that it ripped at the zipper when we tried to recline the seat There are four snaps on the bottom of the canopy one set at the very front on each side and another in the middle The front set snaps onto the sides of the seat and the middle ones onto the back of the seat Our mistake was attaching the front ones to the seat back But Zooper had a super nice warranty service where they sent us a brand new canopy for no charge even though it was our fault Newborn friendlyIt has a very flat recline position and the leg rest goes all the way up and securely zips on to the sides of the seat creating a bassinetlike environment The leg rest also lays flat for babies or goes down for older kids It also has an infant guard at the top of the seat that would prevent your infant from ever sliding out of the seat when the seat is fully reclined and the back of the canopy is removed But this piece can be tucked away with an attached velcro once your child gets taller It also comes with an infant head rest that is attached to the shoulder straps but this is also removable Onehanded open and fold and stands on its own when foldedNow theres a trick to doing it onehanded Its supposed to be done with two hands and its super easy to do but you can also do it onehanded To open it you unlock the lock on the side push the big button on the handle bar and instead of grabbing the small handle on the side like you would when youre opening it with two hands you just push down on the top bar of the basket with your foot To fold it first you retract the canopy and put the seat up to the upright position lock all the wheels and then push the big button on the handlebar lift up on the small handle on the side with your knee just a little nudge and then you push the whole stroller down towards the ground with the handlebar That allows the frame to slide into a folded position Then I usually have to push down on the front of the frame with my foot to engage the lock It might sound complicated but once you get the hang of it you can do it in seconds My babys been real clingy and so its been nice being able  to open and fold the stroller while holding him Fullcoverage canopy with a large viewing windowThis canopy is probably my favorite feature of this stroller First of all its huge and it folds all the way down to the bumper bar to completely shade and cover your child It has a large viewing window with a flap to cover it when not in use The flap has no noisy velcro on it so you wont have to worry about waking up your baby When the seat is fully reclined but you still want fullcoverage on your sleeping baby you can actually unzip whole another fullsized panel to do that Also theres another zipper on the canopy that you can unzip and reveal a mesh underneath the back of the canopy This enables a good airflow through the back into your child The whole back of the canopy and the mesh underneath it are both completely removable as well Great storageThe basket is huge and can fit my diaper bag another big bag with beach towels and blankets jackets water bottles and lunch fairly easily So its perfect for picnics and shopping It has a hard bottom so that you will never be dragging your stuff on the ground An amazing feature of this basket is that they put a vertical zipper on each side of the basket towards the front of the stroller that goes all the way to the bottom so you will have a complete access to the content even when the seat is fully reclined I love it I also like that the side fabric of the basket is kind of seethrough so you can see where everything isAlso there is a large pocket on the back of the canopy where I can fit my clutchsize purse and another pocket on top of it with a lid which is perfect for keeping your keys cellphones etc Theres another small pocket on the back of the seat where the warnings are supposed to go but thats where I keep my UV net and car seat adapters Onehanded bar recline that has 4 different positionsI can even adjust the recline up and down while walking with this stroller Seat fabric machinewashableThe seat fabric comes off to be machinewashed Canopy is spot clean only Excellent maneuverabilityIt pushes really well and as long as Im on a paved street I can totally push it and even turn it onehanded with the baby and tons of stuff in the basket It does pretty good on grass dirt and gravel but I usually need two hands to turn on rough terrain Carrying handle on the side and the ability to wheel behind when its foldedCarrying handle is definitely nice when I lift it up to put it in my trunk and if you have the front wheels locked you can wheel it behind you like a luggage Front swivel wheels that can also be locked straight for rougher terrain and onetouch rear brakeThis is pretty standard for most strollers but its definitely a nice feature All four wheels have suspension systemIve taken it on grass and some dirt roads and it pushed very well Padded five point harness that are height adjustableThis is pretty standard too and you do have to rethread the shoulder straps to adjust the height but you wont be adjusting them all the time so this is not an issue The paddings on the shoulder straps are easily removable The buckle is easy to do no puzzle pieces You can also detach the shoulder straps and use it as a 3 point harness once your child is old enoughAs you can tell I just cannot say enough good things about this stroller Ive been using it for almost 7 months since my son was a newborn and I absolutely love itZooper also has Bolero and Twist and the differences areBolero is 400 and comes with a bassinet kit to make the seat a real bassinet Its a tad bigger and heavier but has a more compact standing fold than WaltzTwist is 200 and has an umbrella fold It can not stand on its own when folded but everything else is the same as Waltz\n",
      "   Probability of Positive: 1.0000\n",
      "\n",
      "\n",
      "Top 5 Most Negative Reviews:\n",
      "1. Review: My disappointment with this product prompted me to write to the manufacturer  Below is my correspondenceIm writing you this email to express my deep dissatisfaction with a recently purchased Graco productMy wife and I are new parents and as expected the Graco brand was quite heavily represented on many items that expectant parents needAmong other things we purchased a Graco car seat extra seat base and a Pack and PlayAt this point our daughter is only a week old the car seat has seen limited use but the Pack and Play has already been put through some paces and it is this product that I am writing to you aboutThe model we purchased was the Pack n Play Dempsey  The main reasons we chose this model were the designcolor and the fact that it had a changing table  The additional storage seemed to be a nice feature thought not something that we will probably use at this point and as it disappears when not used as a bassinet it has limited usefulnessI have quite a few reasons to be dissatisfied with this product but by far the biggest disappointment is the changing tableThe design flaws with the changing table are glaring  It is supported only on one side leaving the other side to hang across the bassinetplayard with nothing to brace it  Our daughter who is just barely 8 pounds places enough weight on the table that it dips down on the unbraced side causing her to roll over on the side  Even if placing her as far as possible over to the braced side even a few pounds of weight over the center of the table will cause it to slant and thus cause a baby to roll over to their side  As you can imagine trying to change a baby on a device like this is akin to placing them on a slide or ramp  it is not conducive  Furthermore I dont believe it to be safe as newborns do not have full control or strength in their necks and this table causes their bodies to slant underneath them  causing them to contort in uncomfortable and possibly dangerous waysYour website states that this changing table is to be used by babies up to 25 lbs  I cant possibly imagine how a child that large wouldnt cause the table to dip at even more dangerous angles  Reviewers at Babies R Us which unfortunately I didnt consult until after this product was purchased and assembled state that children as small as 5 lbs experience these same issues  In fact out of 43 reviews at the Babies R Us site almost every other one speaks of issues that people have found with this table  The overall review as of this writing is 33 out of 5 stars which equates to 67  I wouldnt expect my daughter to bring home grades like that once she enters school  and you should find such ratings for your products absolutely unacceptableWhat is even more disappointing is that this could have easily been averted had the table been given a similar design on both sides  A couple inches of plastic leg support on the floating side of the table could have braced it against the frame and completely avoided this issue  How could something like this even have made it past your design and quality control divisionsWhile the changing table situation is enough to sour me on this product I must also mention briefly some other problems with the productThe small sound machine that comes with this model plays at such a low volume that you can legitimately not hear here it in all but the quietest room  Standing 3 feet from the crib the sound couldnt be heard over a lower than normal conversational tone  While I understand there could be safety issues from glaring sounds this device errs way to far on the side of caution to be unusable  We have plenty of other noise making baby toys which dont suffer from these issues  If the baby is quiet enough to be able to hear these sounds they are most likely already asleep in a quiet room and dont need to be soothedI was also very surprised that the mobile was not electric  While your site does not specifically state the Babies R Us site which I have no doubt Graco writes andor approves the copy states as a feature Electronics module and mobile  This misleading combination of the two features infers that the mobile is indeed electronic and therefore would move of its own power  Not only does the mobile not move on its own its design is such that spinning it by hand causes it to move around maybe on 34 revolutions 23 seconds before the friction of its design causes it to stop  It is also placed at such a level that it would never be reachable at all by a child to play with or spin on its own perhaps from a safety issue that is best  So instead of a functional mobile what the child gets is the opportunity to stare at the feet of a few stationary turtlesWhile not incredible difficult to assemble the included instructions are poorly designed at best and misleading of incorrect at worst  I probably could have assembled the device in shorter order without referring to the instructions  For example why instruct the installation of the mattress in the bottom of the unit and then go back to instruct that it must be removed in order to configure the bassinet  Wont most people be assembling and using this as a bassinet first until their child grows into the playardI also find the advertising of these products as portable pack and plays a little absurd  While you can certainly collapse them to a smaller size the ability to fit them back into their original carriers is not an easy affair  Forget about trying to disassemble the accessories  snapping apart the mobile or attempting to remove the metal frame from the changing table fabric would certainly cause damage to these parts after several times  Additionally while my wife certainly is getting better muscle tone carting around a new child your prevalent advertisements with the mother toting the collapsed playard in one hand as if it were an empty picnic basket is patently absurdUnfortunately these last few complaints about the model seem to be inherent in most all of your Pack n Play models and as such I dont believe that returning this Dempsey model for another Graco playard would really make much of a difference  I suppose I could trade it for a cheaper model with no storage or changing table but the time and effort involved isnt worth the 6075 that would be saved  To be honest I am surprised based on the quality of this product that Graco has established such a reputation and large market share in the playard departmentI certainly wont be recommending these products in the future  Additionally I will be placing this review on both Amazon and the Babies R Us website  I invite you to answer these concerns at least in those forums should you choose not to respond to them hereThank you for your time but no thank you for the productSincerelyA Disappointed Customer\n",
      "   Probability of Positive: 0.0000\n",
      "\n",
      "2. Review: I had to return this stroller for three reasons1 Straps are too small and my 15 month old who is average size2 The pictured armrest is not included3 Customer service phone numbers are disconnected I finally reached someone and our conversation was ended abruptly with a strange BEEEEP when I was in midsentence The person was nice enough to email photos of the straps since they assumed customers are idiots and I did not have them adjusted to maximum length before I made the callAllow me to go into detail about these straps First of all they are too small to fit any toddler The design of the seat and straps are not intuitive and it seems like the straps were an afterthought When fully expanded the straps just barely fit my daughter and I took her out of the stroller immediately because she was visibly uncomfortable I adjusted the shoulder height strap to the highest passage which is not easy to do and expanded the straps fully The clasp which attaches to the seat is positioned too far back and if moved forward would provide more room The measurements are completely off and it seems like they did not have any reasonable testing to support a 55 pound limit on this stroller I was very disappointed that I could not use this stroller after I spent the money and now all this time unpacking it and putting it together Now Ive spent even more time disassembling repacking sealing and requesting a return through Amazon What funBesides the straps issue the stroller is well made The seat fabric is quality The metal frame seems to be sturdy and the wheels although plastic are ready to ride I didnt have the opportunity to push my daughter but it glides smoothly with no weight in the seat The cupholder is nice but attaches to the frame of the stroller in an awkward position Another afterthought in their 34design34 process When I was putting the stroller together the little Zooper sticky logo came off the side of the frame which covered a screw hole It was just barely hanging on there with some sort of lame adhesive I tried to stick it back on but I expect it will fall off again soonSo I called the toll free customer service phone numbers on all of the printed materials and packing sheets which were in the box I reached a call center and the woman who answered had a heavy accent and no idea what I was talking about when I asked for Zooper customer service One number was out of service I tried the third number and the person who answered seems surprised at my phone call He was helpful but I dont think he really understood the seat design as I was explaining how the straps were already extended Its difficult to communicate this problem over the phone He mentioned that 34someone else34 had received a stroller with short straps Well why are they still selling this defective product He took my information and said they would be mailing a set of longer straps for the stroller We were disconnected suddenly I would hate to assume he hung up on me I was pleasant and accommodating to his request for information so he could help me I stated on the phone that I was considering returning the stroller because I cant use it and I was unhappy with the product Thats when the call ended I didnt have a chance to mention the armrest while on the phone but I responded to the email with a picture of this Amazon listing and said the armrest was not included That was 11 days ago and I have still not received the longer straps I have a feeling they arent coming and now Im just angry about the entire situation This is why I order on Amazon if I had purchased directly from this company I have a feeling Id never get a refund eitherThats about the size of it Im returning the stroller this week and spending a few more dollars to get the Joovy We needed a stroller three weeks ago this one is useless and Im tired of looking at it I paid 16589 for a hassle I still cant believe it cost 1789 to ship this piece of garbage but thats what it cost I expect a FULL refund\n",
      "   Probability of Positive: 0.0000\n",
      "\n",
      "3. Review: I am so incredibly disappointed with the stroller I just dont even know where to begin  First of all I have four children and have been through many strollers  This stroller hands down is the worst stroller I have ever owned  I really wanted a double stroller that was somewhat compact but that would also accommodate an infant car seat  The Aria twin claims to be able to do thisCONS So first a foremost I would NEVER place an infant car seat on this stroller  Even with a Peg Perego infant car seat it is really unsteady while on the stroller  The tray the car seat rests on is super flimsy as in worse than a super cheap 40 dollar stroller In general the entire stroller is made of really flimsy cheapo plastic With two small children in it one that weights 22 pounds and the other only 15 pounds the stroller is really difficult to steer  When attempting to turn the entire plastic frame twists and feels like it is going to brake  It feels like trying to turn with two 100 pound kids overloading the stroller It feels like a really cheapo stroller From day one the storage basket under the kids has dragged on the ground  Yes it is installed correctly  I even called Peg Perego but they said there was nothing they could do  So now it has a giant hole in it and cannot be use Since about the second week we owned the stroller the tires on the wheels of the stroller keep randomly popping off  I will be walking in the mall and hear a thumpthumpthump sound only to see a tire half hanging on tot he wheel The cup holder is worthless and will not fit anything at all except maybe a small water bottle The sun shades are really really short I had to buy extensionsPRO It does fold very compactly as in much smaller than most single strollersI really wanted to love this stroller  I kept making excuses for it but finally just gave up  At this point my husband refuses to use it  We really have been through many strollers and none are perfect  However if you are looking for a somewhat compact but nice double stroller I would recommend looking at the Baby Jogger City Mini which is what I ended up buying to replace this stroller or maybe the Combi double stroller which our friends have and seem to really enjoy  I would not waste money on the Aria twin  I spent over 300 dollars on this stroller and cant even attempt to resell it because after less than a year of use it is basically trash which is what it wound up being  I dont know about other Peg Perego products but after my experience with this stroller I can honestly say Im not going to gamble my money on the brand again\n",
      "   Probability of Positive: 0.0000\n",
      "\n",
      "4. Review: I thought it sounded great to have different tips for different body areas  But its impossible to keep my son still enough to get a reading with the underarm one and Ive gotten more Er 1 readings rectally than I have gotten temps  I know hes a squirmy kid but the tip stays in each time and the thermometer still doesnt get a reading  That makes me wonder about the accuracy of the ones it does giveEdited on 12711 to add  Today it took me 3 hours to figure out that the extremely annoying high pitched whine coming from some object in my sons room was in fact coming from this thermometer It nearly drove me insane first It had to be from the battery being dead but this was not mentioned in the instruction book I cannot stress to you enough just how headsplittinglyannoying this was I hope that whoever designed this has to listen to this sound for the rest of their natural life and that they live to be 150 I had to check everything in the general area of the sound because there wasnt any blinking light on the thermometer to call my attention to it specifically I unplugged the clock  nope not that I checked the phone line  nope not that I looked for a bullet hole from a hunter  nope not that I moved the antenna for our satellite radio  nope not that I turned off every single electronic device in the room  nope wasnt those I was finally removing every object from the room when I discovered that the thermometer was the infernal device for which I was looking The noise stopped when it hit the wall I am well known to throw like a girl but I threw this  device hard enough to pop off the battery cover no I didnt have a COIN in the bedroom of my toddler with which to turn it You have absolutely no idea how much consternation this caused in our house this morning My head is still splitting from the noise this thermometer made Our dogs still wont go upstairs I will NEVER again buy something from Safety 1st \n",
      "   Probability of Positive: 0.0000\n",
      "\n",
      "5. Review: My husband and I are VERY disappointed and shocked by how awful this bassinet is We ordered it because we liked the color and it looked nice and simple and it was inexpensive Well we got what we paid for1 It comes in 3 parts so you would think assembly would be a piece of cake EVERYTHING about assembling this is awful There are metal wires on the back that you have to force into these clips which is almost impossible because the wire is way too long I 10 months pregnant had to push the opposite side of the bassinet as hard as i could so my husband could try to get the wire into the clips that it comes with This took us a very long time2 Next we tried to pull the legs apart which were wedged together by all the screws and things attached3 THE CANOPY You would think this would be a sinch right The canopy wires or wine as they call them in the instructions was backwards The canonpy is so flimsy that it hardly is worthwhile Once we got the canopy wire turned around correctly we pushed as hard as possible to insert the canopy into the base and twice in about an hour the canopy already popped out which clearly poses a safety issue if there were a baby inside4 The wheels were very hard to insert to the point that they clicked in5 The instructions were obviously written by a nonEnglish speaking person Not only is the grammar horrific there are spelling errors and the instructions tell you NOTHING What does Pull forward to open pull afterward to close mean This is all that is given on how to insert the canopy Which again you would think would be self explanatory But when you are trying for 20 minutes to get it to insert and the wire is backwards you look for some sort of instruction The only instruction they do give is the obvious Again open canopy Ok thank you thats great HOW DO YOU INSERT IT PROPERLY6 Finally the color is very weird I wouldnt have even mentioned this if it wasnt so awful in every other way I thought it was going to be green but like a previous review said its blue and yellow plaid with green ruffles The sheet that comes with it is a very rough material The basket beneath seems impossible to get into as there is just a very small opening on the sides All of this I could have lived withI am so frustrated with this because we are having our baby in 3 days and the bassinet just arrived I was excited assuming we would have the bassinet in time for the baby Now it appears we are going to have to return it because it is so awfulIf we can figure out how to get this thing apart and no wonder it is out of stock everywhere no one wants to sell junk like this I was going to keep it and make do with it until the canopy continued to pop out I cant put my baby in something this unsafe And now its to the point where I am so frustrated with how poorly made this is that even though it was only 60 its the principle that I want something that will last through future children I have no idea where we are going to put our baby for the first week or so during the most exhausting period of motherhood Thanks a lot Dream on Me\n",
      "   Probability of Positive: 0.0000\n",
      "\n"
     ]
    }
   ],
   "execution_count": 79
  },
  {
   "metadata": {
    "ExecuteTime": {
     "end_time": "2024-11-19T19:43:05.744975Z",
     "start_time": "2024-11-19T19:43:05.723077Z"
    }
   },
   "cell_type": "code",
   "source": [
    "#d)\n",
    "y_pred_prob2 = [1 if prob[0] < prob[1] else 0 for prob in y_pred_prob]\n",
    "accuracy2 = accuracy_score(y_test, y_pred_prob2)\n",
    "print(f'Accuracy: {accuracy2:.4f}')"
   ],
   "outputs": [
    {
     "name": "stdout",
     "output_type": "stream",
     "text": [
      "Accuracy: 0.8169\n"
     ]
    }
   ],
   "execution_count": 82
  },
  {
   "metadata": {},
   "cell_type": "markdown",
   "source": "Quite good accuracy presents that our model is working correctly. "
  },
  {
   "cell_type": "markdown",
   "metadata": {},
   "source": [
    "## Exercise 5\n",
    "In this exercise we will limit the dictionary of CountVectorizer to the set of significant words, defined below.\n",
    "\n",
    "\n",
    "a) Redo exercises 2-5 using limited dictionary.   \n",
    "b) Check the impact of all the words from the dictionary.   \n",
    "c) Compare accuracy of predictions and the time of evaluation."
   ]
  },
  {
   "cell_type": "code",
   "metadata": {
    "collapsed": true,
    "ExecuteTime": {
     "end_time": "2024-11-19T19:44:06.394117Z",
     "start_time": "2024-11-19T19:44:06.390124Z"
    }
   },
   "source": [
    "significant_words = ['love','great','easy','old','little','perfect','loves','well','able','car','broke','less','even','waste','disappointed','work','product','money','would','return']"
   ],
   "outputs": [],
   "execution_count": 83
  },
  {
   "cell_type": "code",
   "metadata": {
    "collapsed": true,
    "ExecuteTime": {
     "end_time": "2024-11-19T19:46:25.960708Z",
     "start_time": "2024-11-19T19:46:19.717319Z"
    }
   },
   "source": [
    "#a)\n",
    "#exercise 2 - everything the same except vocabulary\n",
    "vectorizer2 = CountVectorizer(vocabulary=significant_words) \n",
    "X_train_vectors2 = vectorizer2.fit_transform(X_train)\n",
    "X_test_vectors2 = vectorizer2.transform(X_test)\n",
    "print(vectorizer2.get_feature_names_out())"
   ],
   "outputs": [
    {
     "name": "stdout",
     "output_type": "stream",
     "text": [
      "['love' 'great' 'easy' 'old' 'little' 'perfect' 'loves' 'well' 'able'\n",
      " 'car' 'broke' 'less' 'even' 'waste' 'disappointed' 'work' 'product'\n",
      " 'money' 'would' 'return']\n"
     ]
    }
   ],
   "execution_count": 84
  },
  {
   "metadata": {
    "ExecuteTime": {
     "end_time": "2024-11-19T20:18:29.023630Z",
     "start_time": "2024-11-19T20:18:28.898044Z"
    }
   },
   "cell_type": "code",
   "source": [
    "#a) exercise 3 - everything the same except vocabulary\n",
    "model2 = LogisticRegression(max_iter=1000)\n",
    "model2.fit(X_train_vectors2, y_train)\n",
    "y_pred2 = model2.predict(X_test_vectors2)\n",
    "accuracy = accuracy_score(y_test, y_pred2)\n",
    "print(f'Accuracy: {accuracy:.4f}')"
   ],
   "outputs": [
    {
     "name": "stdout",
     "output_type": "stream",
     "text": [
      "Accuracy: 0.8690\n"
     ]
    }
   ],
   "execution_count": 95
  },
  {
   "metadata": {
    "ExecuteTime": {
     "end_time": "2024-11-19T19:53:02.136147Z",
     "start_time": "2024-11-19T19:53:02.131592Z"
    }
   },
   "cell_type": "code",
   "source": [
    "#a) exercise 4 - everything the same except vocabulary\n",
    "y_pred_prob_limited = model2.predict_proba(X_test_vectors2)\n",
    "print(y_pred_prob_limited[:5])"
   ],
   "outputs": [
    {
     "name": "stdout",
     "output_type": "stream",
     "text": [
      "[[0.07624749 0.92375251]\n",
      " [0.21395717 0.78604283]\n",
      " [0.21395717 0.78604283]\n",
      " [0.0109731  0.9890269 ]\n",
      " [0.04805289 0.95194711]]\n"
     ]
    }
   ],
   "execution_count": 88
  },
  {
   "cell_type": "code",
   "metadata": {
    "collapsed": true,
    "ExecuteTime": {
     "end_time": "2024-11-19T19:55:56.381107Z",
     "start_time": "2024-11-19T19:55:56.376688Z"
    }
   },
   "source": [
    "#b) the same thing was done in the exercise above but here it is on the new vocabulary\n",
    "feature_names = vectorizer2.get_feature_names_out()\n",
    "coefficients2 = model2.coef_[0]\n",
    "\n",
    "word_impact_list = list(zip(coefficients2, feature_names))\n",
    "for c,w in word_impact_list:\n",
    "    print(f\"{w}: {c:.4f}\")"
   ],
   "outputs": [
    {
     "name": "stdout",
     "output_type": "stream",
     "text": [
      "love: 1.3590\n",
      "great: 0.9309\n",
      "easy: 1.1932\n",
      "old: 0.0734\n",
      "little: 0.5024\n",
      "perfect: 1.5151\n",
      "loves: 1.6850\n",
      "well: 0.4962\n",
      "able: 0.1933\n",
      "car: 0.0745\n",
      "broke: -1.6806\n",
      "less: -0.2016\n",
      "even: -0.4897\n",
      "waste: -1.9796\n",
      "disappointed: -2.3988\n",
      "work: -0.6356\n",
      "product: -0.3137\n",
      "money: -0.9464\n",
      "would: -0.3422\n",
      "return: -2.0928\n"
     ]
    }
   ],
   "execution_count": 91
  },
  {
   "cell_type": "code",
   "metadata": {
    "collapsed": true,
    "ExecuteTime": {
     "end_time": "2024-11-19T20:23:43.340189Z",
     "start_time": "2024-11-19T20:23:35.703186Z"
    }
   },
   "source": [
    "#c)\n",
    "from sklearn.metrics import accuracy_score\n",
    "\n",
    "#time of evaluation and predictions accuracy on the full data set and dictionary \n",
    "print(\"Prediction time (full) measurement using %time: \\n\")\n",
    "%time predictions = model.predict(X_test_vectors)\n",
    "\n",
    "accuracy = accuracy_score(y_test, y_pred)\n",
    "print(f\"(full) Model accuracy: {accuracy:.4f}\")\n",
    "\n",
    "print(\"\\n(full) measurement using %timeit\")\n",
    "%timeit model.predict(X_test_vectors)\n",
    "\n",
    "print(\"\\n\")\n",
    "\n",
    "#time evaluation and prediction accuracy of the LIMITED dictionary \n",
    "print(\"Prediction time (limited) measurement using %time: \\n\")\n",
    "%time predictions = model2.predict(X_test_vectors2)\n",
    "\n",
    "accuracy2 = accuracy_score(y_test, y_pred2)\n",
    "print(f\"(limited) Model accuracy: {accuracy2:.4f}\")\n",
    "\n",
    "print(\"\\n(limited) measurement using %timeit\")\n",
    "%timeit model2.predict(X_test_vectors2)\n",
    "\n",
    "#hint: %time, %timeit"
   ],
   "outputs": [
    {
     "name": "stdout",
     "output_type": "stream",
     "text": [
      "Prediction time (full) measurement using %time: \n",
      "\n",
      "CPU times: user 4.35 ms, sys: 9.4 ms, total: 13.7 ms\n",
      "Wall time: 11.9 ms\n",
      "(full) Model accuracy: 0.9329\n",
      "\n",
      "(full) measurement using %timeit\n",
      "3.22 ms ± 112 μs per loop (mean ± std. dev. of 7 runs, 100 loops each)\n",
      "\n",
      "\n",
      "Prediction time (limited) measurement using %time: \n",
      "\n",
      "CPU times: user 804 μs, sys: 279 μs, total: 1.08 ms\n",
      "Wall time: 969 μs\n",
      "(limited) Model accuracy: 0.8690\n",
      "\n",
      "(limited) measurement using %timeit\n",
      "608 μs ± 12.2 μs per loop (mean ± std. dev. of 7 runs, 1,000 loops each)\n"
     ]
    }
   ],
   "execution_count": 98
  },
  {
   "metadata": {},
   "cell_type": "markdown",
   "source": [
    "1. Prediction time is shorter for the model with limited dictionary what is quite obvious. \n",
    "2. Prediction time using timeit showing average time for one iteration. \n",
    "3. Model accuracy: accuracy is better/higher when dictionary is complete (full). \n",
    "\n",
    "Limited dictionary resulted in lower accuracy, but lower the evaluation time. "
   ]
  },
  {
   "metadata": {},
   "cell_type": "code",
   "outputs": [],
   "execution_count": null,
   "source": ""
  }
 ],
 "metadata": {
  "anaconda-cloud": {},
  "kernelspec": {
   "display_name": "Python 3 (ipykernel)",
   "language": "python",
   "name": "python3"
  },
  "language_info": {
   "codemirror_mode": {
    "name": "ipython",
    "version": 2
   },
   "file_extension": ".py",
   "mimetype": "text/x-python",
   "name": "python",
   "nbconvert_exporter": "python",
   "pygments_lexer": "ipython2",
   "version": "2.7.12"
  }
 },
 "nbformat": 4,
 "nbformat_minor": 4
}
