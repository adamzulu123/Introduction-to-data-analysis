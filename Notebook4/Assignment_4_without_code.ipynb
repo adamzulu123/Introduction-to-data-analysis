{
 "cells": [
  {
   "cell_type": "markdown",
   "metadata": {},
   "source": [
    "When exploring a large set of documents -- such as Wikipedia, news articles, StackOverflow, etc. -- it can be useful to get a list of related material. To find relevant documents you typically\n",
    "* Decide on a notion of similarity\n",
    "* Find the documents that are most similar \n",
    "\n",
    "In the assignment you will\n",
    "* Gain intuition for different notions of similarity and practice finding similar documents. \n",
    "* Explore the tradeoffs with representing documents using raw word counts and TF-IDF\n",
    "* Explore the behavior of different distance metrics by looking at the Wikipedia pages most similar to President Obama’s page."
   ]
  },
  {
   "cell_type": "code",
   "metadata": {
    "collapsed": false,
    "jupyter": {
     "outputs_hidden": false
    },
    "ExecuteTime": {
     "end_time": "2024-12-10T21:40:39.568348Z",
     "start_time": "2024-12-10T21:40:39.558398Z"
    }
   },
   "source": [
    "from collections import Counter\n",
    "\n",
    "import matplotlib.pyplot as plt\n",
    "import numpy as np\n",
    "import pandas as pd\n",
    "%matplotlib inline"
   ],
   "outputs": [],
   "execution_count": 1
  },
  {
   "cell_type": "markdown",
   "metadata": {},
   "source": [
    "## Load Wikipedia dataset"
   ]
  },
  {
   "cell_type": "markdown",
   "metadata": {},
   "source": [
    "We will be using the dataset of abridged Wikipedia pages. Each element of the dataset consists of a link to the wikipedia article, the name of the person, and the text of the article (in lowercase).  "
   ]
  },
  {
   "cell_type": "code",
   "metadata": {
    "collapsed": false,
    "jupyter": {
     "outputs_hidden": false
    },
    "ExecuteTime": {
     "end_time": "2024-12-10T21:40:49.080095Z",
     "start_time": "2024-12-10T21:40:47.405980Z"
    }
   },
   "source": [
    "wiki = pd.read_csv('people_wiki.csv')\n",
    "wiki.head()"
   ],
   "outputs": [
    {
     "data": {
      "text/plain": [
       "                                                 URI                 name  \\\n",
       "0        <http://dbpedia.org/resource/Digby_Morrell>        Digby Morrell   \n",
       "1       <http://dbpedia.org/resource/Alfred_J._Lewy>       Alfred J. Lewy   \n",
       "2        <http://dbpedia.org/resource/Harpdog_Brown>        Harpdog Brown   \n",
       "3  <http://dbpedia.org/resource/Franz_Rottensteiner>  Franz Rottensteiner   \n",
       "4               <http://dbpedia.org/resource/G-Enka>               G-Enka   \n",
       "\n",
       "                                                text  \n",
       "0  digby morrell born 10 october 1979 is a former...  \n",
       "1  alfred j lewy aka sandy lewy graduated from un...  \n",
       "2  harpdog brown is a singer and harmonica player...  \n",
       "3  franz rottensteiner born in waidmannsfeld lowe...  \n",
       "4  henry krvits born 30 december 1974 in tallinn ...  "
      ],
      "text/html": [
       "<div>\n",
       "<style scoped>\n",
       "    .dataframe tbody tr th:only-of-type {\n",
       "        vertical-align: middle;\n",
       "    }\n",
       "\n",
       "    .dataframe tbody tr th {\n",
       "        vertical-align: top;\n",
       "    }\n",
       "\n",
       "    .dataframe thead th {\n",
       "        text-align: right;\n",
       "    }\n",
       "</style>\n",
       "<table border=\"1\" class=\"dataframe\">\n",
       "  <thead>\n",
       "    <tr style=\"text-align: right;\">\n",
       "      <th></th>\n",
       "      <th>URI</th>\n",
       "      <th>name</th>\n",
       "      <th>text</th>\n",
       "    </tr>\n",
       "  </thead>\n",
       "  <tbody>\n",
       "    <tr>\n",
       "      <th>0</th>\n",
       "      <td>&lt;http://dbpedia.org/resource/Digby_Morrell&gt;</td>\n",
       "      <td>Digby Morrell</td>\n",
       "      <td>digby morrell born 10 october 1979 is a former...</td>\n",
       "    </tr>\n",
       "    <tr>\n",
       "      <th>1</th>\n",
       "      <td>&lt;http://dbpedia.org/resource/Alfred_J._Lewy&gt;</td>\n",
       "      <td>Alfred J. Lewy</td>\n",
       "      <td>alfred j lewy aka sandy lewy graduated from un...</td>\n",
       "    </tr>\n",
       "    <tr>\n",
       "      <th>2</th>\n",
       "      <td>&lt;http://dbpedia.org/resource/Harpdog_Brown&gt;</td>\n",
       "      <td>Harpdog Brown</td>\n",
       "      <td>harpdog brown is a singer and harmonica player...</td>\n",
       "    </tr>\n",
       "    <tr>\n",
       "      <th>3</th>\n",
       "      <td>&lt;http://dbpedia.org/resource/Franz_Rottensteiner&gt;</td>\n",
       "      <td>Franz Rottensteiner</td>\n",
       "      <td>franz rottensteiner born in waidmannsfeld lowe...</td>\n",
       "    </tr>\n",
       "    <tr>\n",
       "      <th>4</th>\n",
       "      <td>&lt;http://dbpedia.org/resource/G-Enka&gt;</td>\n",
       "      <td>G-Enka</td>\n",
       "      <td>henry krvits born 30 december 1974 in tallinn ...</td>\n",
       "    </tr>\n",
       "  </tbody>\n",
       "</table>\n",
       "</div>"
      ]
     },
     "execution_count": 2,
     "metadata": {},
     "output_type": "execute_result"
    }
   ],
   "execution_count": 2
  },
  {
   "cell_type": "markdown",
   "metadata": {},
   "source": [
    "If you want to check whether the text on the webpage agrees with the one here, you can display it with the following code:"
   ]
  },
  {
   "cell_type": "code",
   "metadata": {
    "collapsed": true,
    "ExecuteTime": {
     "end_time": "2024-12-01T22:25:13.153302Z",
     "start_time": "2024-12-01T22:25:13.150056Z"
    }
   },
   "source": [
    "#from IPython.display import HTML\n",
    "#print(wiki['text'][0])\n",
    "#HTML(url=wiki['URI'][0])"
   ],
   "outputs": [],
   "execution_count": 6
  },
  {
   "cell_type": "markdown",
   "metadata": {},
   "source": [
    "## Ex. 1: Extract word count vectors"
   ]
  },
  {
   "cell_type": "markdown",
   "metadata": {},
   "source": [
    "As we have seen in Assignment 4, we can extract word count vectors using `CountVectorizer` function.\n",
    "- make sure you include words of unit length by using the parameter: `token_pattern=r\"(?u)\\b\\w+\\b\"`\n",
    "- do not use any stopwords\n",
    "- take 10000 most frequent words in the corpus\n",
    "- explicitly take all the words independent of in how many documents they occur\n",
    "- obtain the matrix of word counts"
   ]
  },
  {
   "cell_type": "code",
   "metadata": {
    "collapsed": true,
    "ExecuteTime": {
     "end_time": "2024-12-10T21:41:10.441336Z",
     "start_time": "2024-12-10T21:40:58.948819Z"
    }
   },
   "source": [
    "from sklearn.feature_extraction.text import CountVectorizer\n",
    "\n",
    "#zmienia teksty na macierz liczności słów (rzędy: dokumenty, kolumny: słowa)\n",
    "vectorizer = CountVectorizer(\n",
    "    max_features=10000,\n",
    "    token_pattern=r\"(?u)\\b\\w+\\b\", #wszystkie słowa jednoznakowe \n",
    "    stop_words= 'english')\n",
    "WCmatrix = vectorizer.fit_transform(wiki['text'])\n",
    "print(WCmatrix.shape)"
   ],
   "outputs": [
    {
     "name": "stdout",
     "output_type": "stream",
     "text": [
      "(59071, 10000)\n"
     ]
    }
   ],
   "execution_count": 3
  },
  {
   "metadata": {},
   "cell_type": "markdown",
   "source": [
    "1. 59071 - is the number of documents in the dataset\n",
    "2. 10000 - is the number of words (determined here = max_features=10000)\n"
   ]
  },
  {
   "metadata": {
    "ExecuteTime": {
     "end_time": "2024-12-10T21:41:16.899561Z",
     "start_time": "2024-12-10T21:41:16.890872Z"
    }
   },
   "cell_type": "code",
   "source": [
    "#examples of words in the matrix \n",
    "print(vectorizer.get_feature_names_out()[650:700])"
   ],
   "outputs": [
    {
     "name": "stdout",
     "output_type": "stream",
     "text": [
      "['alleged' 'allegedly' 'alleging' 'allen' 'alley' 'alliance' 'allied'\n",
      " 'allies' 'allireland' 'allison' 'allow' 'allowed' 'allowing' 'allows'\n",
      " 'allstar' 'allstars' 'allstate' 'alltime' 'ally' 'alma' 'alongside'\n",
      " 'alpha' 'alpine' 'alqaeda' 'alter' 'altered' 'alternate' 'alternative'\n",
      " 'alto' 'altogether' 'alumni' 'alumnus' 'alvin' 'alzheimers' 'ama'\n",
      " 'amanda' 'amassed' 'amateur' 'amazing' 'amazon' 'ambassador'\n",
      " 'ambassadors' 'amber' 'ambient' 'ambitious' 'amendment' 'america'\n",
      " 'american' 'americans' 'americas']\n"
     ]
    }
   ],
   "execution_count": 4
  },
  {
   "cell_type": "markdown",
   "metadata": {},
   "source": [
    "## Ex. 2: Find nearest neighbors"
   ]
  },
  {
   "cell_type": "markdown",
   "metadata": {},
   "source": [
    "**a)** Start by finding the nearest neighbors of the Barack Obama page using the above word count matrix to represent the articles and **Euclidean** distance to measure distance.\n",
    "Save the distances in `wiki['BO-eucl']` and look at the top 10 nearest neighbors."
   ]
  },
  {
   "cell_type": "code",
   "metadata": {
    "collapsed": true,
    "ExecuteTime": {
     "end_time": "2024-12-10T21:41:22.917844Z",
     "start_time": "2024-12-10T21:41:22.482546Z"
    }
   },
   "source": [
    "# One can use the following:\n",
    "#from sklearn.neighbors import NearestNeighbors\n",
    "#nbrs = NearestNeighbors(n_neighbors=3, algorithm='brute',metric='euclidean').fit(X.toarray())\n",
    "#distances, indices = nbrs.kneighbors(X.toarray())\n",
    "# but here let's use:\n",
    "from sklearn.metrics import pairwise_distances\n",
    "\n",
    "obama_index = wiki[wiki['name'] == 'Barack Obama'].index[0]\n",
    "\n",
    "dist = pairwise_distances(\n",
    "    WCmatrix, \n",
    "    WCmatrix[obama_index, :],\n",
    "    metric='euclidean')\n",
    "\n",
    "#Bo-eucl results (as a one dimentional vector). \n",
    "wiki['Bo-eucl'] = dist.flatten()\n",
    "nn = wiki.sort_values(by='Bo-eucl', ascending=True)[:10]\n",
    "nn.head(10)\n"
   ],
   "outputs": [
    {
     "data": {
      "text/plain": [
       "                                                 URI             name  \\\n",
       "35817     <http://dbpedia.org/resource/Barack_Obama>     Barack Obama   \n",
       "24478        <http://dbpedia.org/resource/Joe_Biden>        Joe Biden   \n",
       "53303  <http://dbpedia.org/resource/Juan_F._Vasquez>  Juan F. Vasquez   \n",
       "11517     <http://dbpedia.org/resource/Louis_Susman>     Louis Susman   \n",
       "57635       <http://dbpedia.org/resource/Joe_Sestak>       Joe Sestak   \n",
       "50452  <http://dbpedia.org/resource/John_F._Tierney>  John F. Tierney   \n",
       "45068   <http://dbpedia.org/resource/Douglas_Schoen>   Douglas Schoen   \n",
       "33417    <http://dbpedia.org/resource/Tulsi_Gabbard>    Tulsi Gabbard   \n",
       "7914     <http://dbpedia.org/resource/Phil_Schiliro>    Phil Schiliro   \n",
       "52609  <http://dbpedia.org/resource/Dennis_Kucinich>  Dennis Kucinich   \n",
       "\n",
       "                                                    text    Bo-eucl  \n",
       "35817  barack hussein obama ii brk husen bm born augu...   0.000000  \n",
       "24478  joseph robinette joe biden jr dosf rbnt badn b...  23.302360  \n",
       "53303  juan f vasquez born texas 1948 is a judge of t...  24.596748  \n",
       "11517  louis b susman born november 19 1937 is an ame...  24.738634  \n",
       "57635  joseph ambrose joe sestak jr born december 12 ...  24.819347  \n",
       "50452  john f tierney born september 18 1951 is an am...  24.819347  \n",
       "45068  douglas schoen is an american political analys...  24.899799  \n",
       "33417  tulsi gabbard born april 12 1981 is an america...  25.059928  \n",
       "7914   phil schiliro is an american political consult...  25.059928  \n",
       "52609  dennis john kucinich kusnt born october 8 1946...  25.059928  "
      ],
      "text/html": [
       "<div>\n",
       "<style scoped>\n",
       "    .dataframe tbody tr th:only-of-type {\n",
       "        vertical-align: middle;\n",
       "    }\n",
       "\n",
       "    .dataframe tbody tr th {\n",
       "        vertical-align: top;\n",
       "    }\n",
       "\n",
       "    .dataframe thead th {\n",
       "        text-align: right;\n",
       "    }\n",
       "</style>\n",
       "<table border=\"1\" class=\"dataframe\">\n",
       "  <thead>\n",
       "    <tr style=\"text-align: right;\">\n",
       "      <th></th>\n",
       "      <th>URI</th>\n",
       "      <th>name</th>\n",
       "      <th>text</th>\n",
       "      <th>Bo-eucl</th>\n",
       "    </tr>\n",
       "  </thead>\n",
       "  <tbody>\n",
       "    <tr>\n",
       "      <th>35817</th>\n",
       "      <td>&lt;http://dbpedia.org/resource/Barack_Obama&gt;</td>\n",
       "      <td>Barack Obama</td>\n",
       "      <td>barack hussein obama ii brk husen bm born augu...</td>\n",
       "      <td>0.000000</td>\n",
       "    </tr>\n",
       "    <tr>\n",
       "      <th>24478</th>\n",
       "      <td>&lt;http://dbpedia.org/resource/Joe_Biden&gt;</td>\n",
       "      <td>Joe Biden</td>\n",
       "      <td>joseph robinette joe biden jr dosf rbnt badn b...</td>\n",
       "      <td>23.302360</td>\n",
       "    </tr>\n",
       "    <tr>\n",
       "      <th>53303</th>\n",
       "      <td>&lt;http://dbpedia.org/resource/Juan_F._Vasquez&gt;</td>\n",
       "      <td>Juan F. Vasquez</td>\n",
       "      <td>juan f vasquez born texas 1948 is a judge of t...</td>\n",
       "      <td>24.596748</td>\n",
       "    </tr>\n",
       "    <tr>\n",
       "      <th>11517</th>\n",
       "      <td>&lt;http://dbpedia.org/resource/Louis_Susman&gt;</td>\n",
       "      <td>Louis Susman</td>\n",
       "      <td>louis b susman born november 19 1937 is an ame...</td>\n",
       "      <td>24.738634</td>\n",
       "    </tr>\n",
       "    <tr>\n",
       "      <th>57635</th>\n",
       "      <td>&lt;http://dbpedia.org/resource/Joe_Sestak&gt;</td>\n",
       "      <td>Joe Sestak</td>\n",
       "      <td>joseph ambrose joe sestak jr born december 12 ...</td>\n",
       "      <td>24.819347</td>\n",
       "    </tr>\n",
       "    <tr>\n",
       "      <th>50452</th>\n",
       "      <td>&lt;http://dbpedia.org/resource/John_F._Tierney&gt;</td>\n",
       "      <td>John F. Tierney</td>\n",
       "      <td>john f tierney born september 18 1951 is an am...</td>\n",
       "      <td>24.819347</td>\n",
       "    </tr>\n",
       "    <tr>\n",
       "      <th>45068</th>\n",
       "      <td>&lt;http://dbpedia.org/resource/Douglas_Schoen&gt;</td>\n",
       "      <td>Douglas Schoen</td>\n",
       "      <td>douglas schoen is an american political analys...</td>\n",
       "      <td>24.899799</td>\n",
       "    </tr>\n",
       "    <tr>\n",
       "      <th>33417</th>\n",
       "      <td>&lt;http://dbpedia.org/resource/Tulsi_Gabbard&gt;</td>\n",
       "      <td>Tulsi Gabbard</td>\n",
       "      <td>tulsi gabbard born april 12 1981 is an america...</td>\n",
       "      <td>25.059928</td>\n",
       "    </tr>\n",
       "    <tr>\n",
       "      <th>7914</th>\n",
       "      <td>&lt;http://dbpedia.org/resource/Phil_Schiliro&gt;</td>\n",
       "      <td>Phil Schiliro</td>\n",
       "      <td>phil schiliro is an american political consult...</td>\n",
       "      <td>25.059928</td>\n",
       "    </tr>\n",
       "    <tr>\n",
       "      <th>52609</th>\n",
       "      <td>&lt;http://dbpedia.org/resource/Dennis_Kucinich&gt;</td>\n",
       "      <td>Dennis Kucinich</td>\n",
       "      <td>dennis john kucinich kusnt born october 8 1946...</td>\n",
       "      <td>25.059928</td>\n",
       "    </tr>\n",
       "  </tbody>\n",
       "</table>\n",
       "</div>"
      ]
     },
     "execution_count": 5,
     "metadata": {},
     "output_type": "execute_result"
    }
   ],
   "execution_count": 5
  },
  {
   "metadata": {},
   "cell_type": "markdown",
   "source": [
    "Bo-eucl contains Euclidean distances between document which describes Barack Obama and other documents available in the dataset. \n",
    "Smaller value bigger similarity with the based Barack Obama document. \n",
    "\n",
    "pairwise_distance is better than NN, because it can compute distance between various groups of documents, where NN calculate distance only between nearest neighbours. "
   ]
  },
  {
   "metadata": {},
   "cell_type": "code",
   "outputs": [
    {
     "data": {
      "text/html": [
       "<div>\n",
       "<style scoped>\n",
       "    .dataframe tbody tr th:only-of-type {\n",
       "        vertical-align: middle;\n",
       "    }\n",
       "\n",
       "    .dataframe tbody tr th {\n",
       "        vertical-align: top;\n",
       "    }\n",
       "\n",
       "    .dataframe thead th {\n",
       "        text-align: right;\n",
       "    }\n",
       "</style>\n",
       "<table border=\"1\" class=\"dataframe\">\n",
       "  <thead>\n",
       "    <tr style=\"text-align: right;\">\n",
       "      <th></th>\n",
       "      <th>URI</th>\n",
       "      <th>name</th>\n",
       "      <th>text</th>\n",
       "      <th>BO-eucl</th>\n",
       "    </tr>\n",
       "  </thead>\n",
       "  <tbody>\n",
       "    <tr>\n",
       "      <td>35817</td>\n",
       "      <td>&lt;http://dbpedia.org/resource/Barack_Obama&gt;</td>\n",
       "      <td>Barack Obama</td>\n",
       "      <td>barack hussein obama ii brk husen bm born augu...</td>\n",
       "      <td>0.000000</td>\n",
       "    </tr>\n",
       "    <tr>\n",
       "      <td>24478</td>\n",
       "      <td>&lt;http://dbpedia.org/resource/Joe_Biden&gt;</td>\n",
       "      <td>Joe Biden</td>\n",
       "      <td>joseph robinette joe biden jr dosf rbnt badn b...</td>\n",
       "      <td>31.336879</td>\n",
       "    </tr>\n",
       "    <tr>\n",
       "      <td>28447</td>\n",
       "      <td>&lt;http://dbpedia.org/resource/George_W._Bush&gt;</td>\n",
       "      <td>George W. Bush</td>\n",
       "      <td>george walker bush born july 6 1946 is an amer...</td>\n",
       "      <td>33.645208</td>\n",
       "    </tr>\n",
       "    <tr>\n",
       "      <td>48202</td>\n",
       "      <td>&lt;http://dbpedia.org/resource/Tony_Vaccaro&gt;</td>\n",
       "      <td>Tony Vaccaro</td>\n",
       "      <td>michelantonio celestino onofrio vaccaro born d...</td>\n",
       "      <td>33.734256</td>\n",
       "    </tr>\n",
       "    <tr>\n",
       "      <td>14754</td>\n",
       "      <td>&lt;http://dbpedia.org/resource/Mitt_Romney&gt;</td>\n",
       "      <td>Mitt Romney</td>\n",
       "      <td>willard mitt romney born march 12 1947 is an a...</td>\n",
       "      <td>34.351128</td>\n",
       "    </tr>\n",
       "    <tr>\n",
       "      <td>31423</td>\n",
       "      <td>&lt;http://dbpedia.org/resource/Walter_Mondale&gt;</td>\n",
       "      <td>Walter Mondale</td>\n",
       "      <td>walter frederick fritz mondale born january 5 ...</td>\n",
       "      <td>34.423829</td>\n",
       "    </tr>\n",
       "    <tr>\n",
       "      <td>36364</td>\n",
       "      <td>&lt;http://dbpedia.org/resource/Don_Bonker&gt;</td>\n",
       "      <td>Don Bonker</td>\n",
       "      <td>don leroy bonker born march 7 1937 in denver c...</td>\n",
       "      <td>34.597688</td>\n",
       "    </tr>\n",
       "    <tr>\n",
       "      <td>13229</td>\n",
       "      <td>&lt;http://dbpedia.org/resource/Francisco_Barrio&gt;</td>\n",
       "      <td>Francisco Barrio</td>\n",
       "      <td>francisco javier barrio terrazas born november...</td>\n",
       "      <td>34.669872</td>\n",
       "    </tr>\n",
       "    <tr>\n",
       "      <td>35357</td>\n",
       "      <td>&lt;http://dbpedia.org/resource/Lawrence_Summers&gt;</td>\n",
       "      <td>Lawrence Summers</td>\n",
       "      <td>lawrence henry larry summers born november 30 ...</td>\n",
       "      <td>35.383612</td>\n",
       "    </tr>\n",
       "    <tr>\n",
       "      <td>25258</td>\n",
       "      <td>&lt;http://dbpedia.org/resource/Marc_Ravalomanana&gt;</td>\n",
       "      <td>Marc Ravalomanana</td>\n",
       "      <td>marc ravalomanana malagasy ravalumanan born 12...</td>\n",
       "      <td>35.440090</td>\n",
       "    </tr>\n",
       "  </tbody>\n",
       "</table>\n",
       "</div>"
      ],
      "text/plain": [
       "                                                   URI               name  \\\n",
       "35817       <http://dbpedia.org/resource/Barack_Obama>       Barack Obama   \n",
       "24478          <http://dbpedia.org/resource/Joe_Biden>          Joe Biden   \n",
       "28447     <http://dbpedia.org/resource/George_W._Bush>     George W. Bush   \n",
       "48202       <http://dbpedia.org/resource/Tony_Vaccaro>       Tony Vaccaro   \n",
       "14754        <http://dbpedia.org/resource/Mitt_Romney>        Mitt Romney   \n",
       "31423     <http://dbpedia.org/resource/Walter_Mondale>     Walter Mondale   \n",
       "36364         <http://dbpedia.org/resource/Don_Bonker>         Don Bonker   \n",
       "13229   <http://dbpedia.org/resource/Francisco_Barrio>   Francisco Barrio   \n",
       "35357   <http://dbpedia.org/resource/Lawrence_Summers>   Lawrence Summers   \n",
       "25258  <http://dbpedia.org/resource/Marc_Ravalomanana>  Marc Ravalomanana   \n",
       "\n",
       "                                                    text    BO-eucl  \n",
       "35817  barack hussein obama ii brk husen bm born augu...   0.000000  \n",
       "24478  joseph robinette joe biden jr dosf rbnt badn b...  31.336879  \n",
       "28447  george walker bush born july 6 1946 is an amer...  33.645208  \n",
       "48202  michelantonio celestino onofrio vaccaro born d...  33.734256  \n",
       "14754  willard mitt romney born march 12 1947 is an a...  34.351128  \n",
       "31423  walter frederick fritz mondale born january 5 ...  34.423829  \n",
       "36364  don leroy bonker born march 7 1937 in denver c...  34.597688  \n",
       "13229  francisco javier barrio terrazas born november...  34.669872  \n",
       "35357  lawrence henry larry summers born november 30 ...  35.383612  \n",
       "25258  marc ravalomanana malagasy ravalumanan born 12...  35.440090  "
      ]
     },
     "execution_count": 12,
     "metadata": {},
     "output_type": "execute_result"
    }
   ],
   "execution_count": 12,
   "source": "#values examples "
  },
  {
   "cell_type": "markdown",
   "metadata": {},
   "source": [
    "**b)** Measure the pairwise distance between the Wikipedia pages of Barack Obama, George W. Bush, and Joe Biden. Which of the three pairs has the smallest distance?"
   ]
  },
  {
   "metadata": {
    "ExecuteTime": {
     "end_time": "2024-12-10T21:41:30.424674Z",
     "start_time": "2024-12-10T21:41:30.410610Z"
    }
   },
   "cell_type": "code",
   "source": [
    "bush_index = wiki[wiki['name'] == 'George W. Bush'].index[0]\n",
    "biden_index = wiki[wiki['name'] == 'Joe Biden'].index[0]\n",
    "\n",
    "#I use reshape because this function needs a matrix not one-dimensional vector \n",
    "dist_bush_obama = pairwise_distances(\n",
    "    WCmatrix[obama_index, :].reshape(1, -1), \n",
    "    WCmatrix[bush_index, :].reshape(1, -1),\n",
    "    metric='euclidean'\n",
    ")\n",
    "dist_bush_biden = pairwise_distances(\n",
    "    WCmatrix[biden_index, :].reshape(1, -1), \n",
    "    WCmatrix[bush_index, :].reshape(1, -1),\n",
    "    metric='euclidean'\n",
    ")\n",
    "dist_biden_obama = pairwise_distances(\n",
    "    WCmatrix[obama_index, :].reshape(1, -1), \n",
    "    WCmatrix[biden_index, :].reshape(1, -1),\n",
    "    metric='euclidean'\n",
    ")\n",
    "\n",
    "print(\"Bush - Obama\", dist_bush_obama)\n",
    "print(\"Bush - Biden\", dist_bush_biden)\n",
    "print(\"Biden - Obama\", dist_biden_obama)\n"
   ],
   "outputs": [
    {
     "name": "stdout",
     "output_type": "stream",
     "text": [
      "Bush - Obama [[29.10326442]]\n",
      "Bush - Biden [[26.11512971]]\n",
      "Biden - Obama [[23.3023604]]\n"
     ]
    }
   ],
   "execution_count": 6
  },
  {
   "metadata": {},
   "cell_type": "markdown",
   "source": "Above we can observe similarities between 3 documents. Obama - Biden distance is the smallest. \n"
  },
  {
   "cell_type": "code",
   "execution_count": 13,
   "metadata": {
    "collapsed": false
   },
   "outputs": [
    {
     "name": "stdout",
     "output_type": "stream",
     "text": [
      "31.336879231984796\n",
      "33.645207682521445\n"
     ]
    },
    {
     "data": {
      "text/plain": [
       "30.919249667480614"
      ]
     },
     "execution_count": 13,
     "metadata": {},
     "output_type": "execute_result"
    }
   ],
   "source": "# example results"
  },
  {
   "cell_type": "markdown",
   "metadata": {},
   "source": [
    "All of the 10 people from **a)** are politicians, but about half of them have rather tenuous connections with Obama, other than the fact that they are politicians, e.g.,\n",
    "\n",
    "* Francisco Barrio is a Mexican politician, and a former governor of Chihuahua.\n",
    "* Walter Mondale and Don Bonker are Democrats who made their career in late 1970s.\n",
    "\n",
    "Nearest neighbors with raw word counts got some things right, showing all politicians in the query result, but missed finer and important details."
   ]
  },
  {
   "cell_type": "markdown",
   "metadata": {},
   "source": [
    "**c)** Let's find out why Francisco Barrio was considered a close neighbor of Obama.\n",
    "To do this, look at the most frequently used words in each of Barack Obama and Francisco Barrio's pages."
   ]
  },
  {
   "cell_type": "code",
   "metadata": {
    "collapsed": true,
    "ExecuteTime": {
     "end_time": "2024-12-10T21:41:37.579695Z",
     "start_time": "2024-12-10T21:41:37.575857Z"
    }
   },
   "source": [
    "from collections import Counter\n",
    "def top_words(name):\n",
    "    \"\"\"\n",
    "    Get a table of the most frequent words in the given person's wikipedia page.\n",
    "    \"\"\"\n",
    "    person_text = wiki[wiki['name'] == name]['text'].iloc[0]\n",
    "    words = person_text.split()\n",
    "    words_count = Counter(words)\n",
    "    df = pd.DataFrame(words_count.items(), columns=['words', 'count'])\n",
    "    \n",
    "    return df.sort_values(by='count',ascending=False)\n"
   ],
   "outputs": [],
   "execution_count": 7
  },
  {
   "cell_type": "code",
   "metadata": {
    "collapsed": false,
    "jupyter": {
     "outputs_hidden": false
    },
    "ExecuteTime": {
     "end_time": "2024-12-10T21:41:39.293004Z",
     "start_time": "2024-12-10T21:41:39.283576Z"
    }
   },
   "source": [
    "obama_words = top_words('Barack Obama')\n",
    "obama_words"
   ],
   "outputs": [
    {
     "data": {
      "text/plain": [
       "              words  count\n",
       "12              the     40\n",
       "26               in     30\n",
       "14              and     21\n",
       "17               of     18\n",
       "23               to     14\n",
       "..              ...    ...\n",
       "125  laureateduring      1\n",
       "126             two      1\n",
       "127           years      1\n",
       "129            into      1\n",
       "272            cuba      1\n",
       "\n",
       "[273 rows x 2 columns]"
      ],
      "text/html": [
       "<div>\n",
       "<style scoped>\n",
       "    .dataframe tbody tr th:only-of-type {\n",
       "        vertical-align: middle;\n",
       "    }\n",
       "\n",
       "    .dataframe tbody tr th {\n",
       "        vertical-align: top;\n",
       "    }\n",
       "\n",
       "    .dataframe thead th {\n",
       "        text-align: right;\n",
       "    }\n",
       "</style>\n",
       "<table border=\"1\" class=\"dataframe\">\n",
       "  <thead>\n",
       "    <tr style=\"text-align: right;\">\n",
       "      <th></th>\n",
       "      <th>words</th>\n",
       "      <th>count</th>\n",
       "    </tr>\n",
       "  </thead>\n",
       "  <tbody>\n",
       "    <tr>\n",
       "      <th>12</th>\n",
       "      <td>the</td>\n",
       "      <td>40</td>\n",
       "    </tr>\n",
       "    <tr>\n",
       "      <th>26</th>\n",
       "      <td>in</td>\n",
       "      <td>30</td>\n",
       "    </tr>\n",
       "    <tr>\n",
       "      <th>14</th>\n",
       "      <td>and</td>\n",
       "      <td>21</td>\n",
       "    </tr>\n",
       "    <tr>\n",
       "      <th>17</th>\n",
       "      <td>of</td>\n",
       "      <td>18</td>\n",
       "    </tr>\n",
       "    <tr>\n",
       "      <th>23</th>\n",
       "      <td>to</td>\n",
       "      <td>14</td>\n",
       "    </tr>\n",
       "    <tr>\n",
       "      <th>...</th>\n",
       "      <td>...</td>\n",
       "      <td>...</td>\n",
       "    </tr>\n",
       "    <tr>\n",
       "      <th>125</th>\n",
       "      <td>laureateduring</td>\n",
       "      <td>1</td>\n",
       "    </tr>\n",
       "    <tr>\n",
       "      <th>126</th>\n",
       "      <td>two</td>\n",
       "      <td>1</td>\n",
       "    </tr>\n",
       "    <tr>\n",
       "      <th>127</th>\n",
       "      <td>years</td>\n",
       "      <td>1</td>\n",
       "    </tr>\n",
       "    <tr>\n",
       "      <th>129</th>\n",
       "      <td>into</td>\n",
       "      <td>1</td>\n",
       "    </tr>\n",
       "    <tr>\n",
       "      <th>272</th>\n",
       "      <td>cuba</td>\n",
       "      <td>1</td>\n",
       "    </tr>\n",
       "  </tbody>\n",
       "</table>\n",
       "<p>273 rows × 2 columns</p>\n",
       "</div>"
      ]
     },
     "execution_count": 8,
     "metadata": {},
     "output_type": "execute_result"
    }
   ],
   "execution_count": 8
  },
  {
   "cell_type": "code",
   "metadata": {
    "collapsed": false,
    "ExecuteTime": {
     "end_time": "2024-12-10T21:41:44.552343Z",
     "start_time": "2024-12-10T21:41:44.540060Z"
    }
   },
   "source": [
    "barrio_words = top_words('Francisco Barrio')\n",
    "barrio_words"
   ],
   "outputs": [
    {
     "data": {
      "text/plain": [
       "            words  count\n",
       "14            the     36\n",
       "22             of     24\n",
       "24            and     18\n",
       "26             in     17\n",
       "19             he     10\n",
       "..            ...    ...\n",
       "98      delivered      1\n",
       "99          mixed      1\n",
       "100       results      1\n",
       "101  consequently      1\n",
       "224       murders      1\n",
       "\n",
       "[225 rows x 2 columns]"
      ],
      "text/html": [
       "<div>\n",
       "<style scoped>\n",
       "    .dataframe tbody tr th:only-of-type {\n",
       "        vertical-align: middle;\n",
       "    }\n",
       "\n",
       "    .dataframe tbody tr th {\n",
       "        vertical-align: top;\n",
       "    }\n",
       "\n",
       "    .dataframe thead th {\n",
       "        text-align: right;\n",
       "    }\n",
       "</style>\n",
       "<table border=\"1\" class=\"dataframe\">\n",
       "  <thead>\n",
       "    <tr style=\"text-align: right;\">\n",
       "      <th></th>\n",
       "      <th>words</th>\n",
       "      <th>count</th>\n",
       "    </tr>\n",
       "  </thead>\n",
       "  <tbody>\n",
       "    <tr>\n",
       "      <th>14</th>\n",
       "      <td>the</td>\n",
       "      <td>36</td>\n",
       "    </tr>\n",
       "    <tr>\n",
       "      <th>22</th>\n",
       "      <td>of</td>\n",
       "      <td>24</td>\n",
       "    </tr>\n",
       "    <tr>\n",
       "      <th>24</th>\n",
       "      <td>and</td>\n",
       "      <td>18</td>\n",
       "    </tr>\n",
       "    <tr>\n",
       "      <th>26</th>\n",
       "      <td>in</td>\n",
       "      <td>17</td>\n",
       "    </tr>\n",
       "    <tr>\n",
       "      <th>19</th>\n",
       "      <td>he</td>\n",
       "      <td>10</td>\n",
       "    </tr>\n",
       "    <tr>\n",
       "      <th>...</th>\n",
       "      <td>...</td>\n",
       "      <td>...</td>\n",
       "    </tr>\n",
       "    <tr>\n",
       "      <th>98</th>\n",
       "      <td>delivered</td>\n",
       "      <td>1</td>\n",
       "    </tr>\n",
       "    <tr>\n",
       "      <th>99</th>\n",
       "      <td>mixed</td>\n",
       "      <td>1</td>\n",
       "    </tr>\n",
       "    <tr>\n",
       "      <th>100</th>\n",
       "      <td>results</td>\n",
       "      <td>1</td>\n",
       "    </tr>\n",
       "    <tr>\n",
       "      <th>101</th>\n",
       "      <td>consequently</td>\n",
       "      <td>1</td>\n",
       "    </tr>\n",
       "    <tr>\n",
       "      <th>224</th>\n",
       "      <td>murders</td>\n",
       "      <td>1</td>\n",
       "    </tr>\n",
       "  </tbody>\n",
       "</table>\n",
       "<p>225 rows × 2 columns</p>\n",
       "</div>"
      ]
     },
     "execution_count": 9,
     "metadata": {},
     "output_type": "execute_result"
    }
   ],
   "execution_count": 9
  },
  {
   "metadata": {},
   "cell_type": "markdown",
   "source": "We can observe that words with the highest count value are basically stop words like: 'the', 'and' etc. "
  },
  {
   "cell_type": "markdown",
   "metadata": {},
   "source": [
    "**d)** Extract the list of most frequent **common** words that appear in both Obama's and Barrio's documents and display the five words that appear most often in Barrio's article.\n",
    "\n",
    "Use a dataframe operation known as **join**. The **join** operation is very useful when it comes to playing around with data: it lets you combine the content of two tables using a shared column (in this case, the index column of words). See [the documentation](https://pandas.pydata.org/pandas-docs/stable/reference/api/pandas.DataFrame.join.html) for more details."
   ]
  },
  {
   "cell_type": "code",
   "metadata": {
    "collapsed": false,
    "jupyter": {
     "outputs_hidden": false
    },
    "ExecuteTime": {
     "end_time": "2024-12-10T21:41:52.659324Z",
     "start_time": "2024-12-10T21:41:52.651048Z"
    }
   },
   "source": [
    "# Modify the code to avoid error.\n",
    "\n",
    "#sufix is used to avoid error caused by the same column names\n",
    "common_words = obama_words.join(barrio_words.set_index('words'), on='words', lsuffix='_Obama', rsuffix='_Barrio')\n",
    "common_words.sort_values(by='count_Barrio', ascending=False).head(5)"
   ],
   "outputs": [
    {
     "data": {
      "text/plain": [
       "   words  count_Obama  count_Barrio\n",
       "12   the           40          36.0\n",
       "17    of           18          24.0\n",
       "14   and           21          18.0\n",
       "26    in           30          17.0\n",
       "37    he            7          10.0"
      ],
      "text/html": [
       "<div>\n",
       "<style scoped>\n",
       "    .dataframe tbody tr th:only-of-type {\n",
       "        vertical-align: middle;\n",
       "    }\n",
       "\n",
       "    .dataframe tbody tr th {\n",
       "        vertical-align: top;\n",
       "    }\n",
       "\n",
       "    .dataframe thead th {\n",
       "        text-align: right;\n",
       "    }\n",
       "</style>\n",
       "<table border=\"1\" class=\"dataframe\">\n",
       "  <thead>\n",
       "    <tr style=\"text-align: right;\">\n",
       "      <th></th>\n",
       "      <th>words</th>\n",
       "      <th>count_Obama</th>\n",
       "      <th>count_Barrio</th>\n",
       "    </tr>\n",
       "  </thead>\n",
       "  <tbody>\n",
       "    <tr>\n",
       "      <th>12</th>\n",
       "      <td>the</td>\n",
       "      <td>40</td>\n",
       "      <td>36.0</td>\n",
       "    </tr>\n",
       "    <tr>\n",
       "      <th>17</th>\n",
       "      <td>of</td>\n",
       "      <td>18</td>\n",
       "      <td>24.0</td>\n",
       "    </tr>\n",
       "    <tr>\n",
       "      <th>14</th>\n",
       "      <td>and</td>\n",
       "      <td>21</td>\n",
       "      <td>18.0</td>\n",
       "    </tr>\n",
       "    <tr>\n",
       "      <th>26</th>\n",
       "      <td>in</td>\n",
       "      <td>30</td>\n",
       "      <td>17.0</td>\n",
       "    </tr>\n",
       "    <tr>\n",
       "      <th>37</th>\n",
       "      <td>he</td>\n",
       "      <td>7</td>\n",
       "      <td>10.0</td>\n",
       "    </tr>\n",
       "  </tbody>\n",
       "</table>\n",
       "</div>"
      ]
     },
     "execution_count": 10,
     "metadata": {},
     "output_type": "execute_result"
    }
   ],
   "execution_count": 10
  },
  {
   "cell_type": "markdown",
   "metadata": {},
   "source": [
    "Collect all words that appear both in Barack Obama and George W. Bush pages.  Out of those words, find the 10 words that show up most often in Obama's page. "
   ]
  },
  {
   "cell_type": "code",
   "metadata": {
    "collapsed": false,
    "ExecuteTime": {
     "end_time": "2024-12-10T21:41:56.442003Z",
     "start_time": "2024-12-10T21:41:56.429479Z"
    }
   },
   "source": [
    "bush_words = top_words('George W. Bush')\n",
    "# Modify the code to avoid error.\n",
    "obama_words.join(bush_words.set_index('words'), on='words', how='inner', lsuffix='count_Obama', rsuffix='count_Bush').head(10)"
   ],
   "outputs": [
    {
     "data": {
      "text/plain": [
       "    words  countcount_Obama  countcount_Bush\n",
       "12    the                40               39\n",
       "26     in                30               22\n",
       "14    and                21               14\n",
       "17     of                18               14\n",
       "23     to                14               11\n",
       "47    his                11                6\n",
       "139   act                 8                3\n",
       "37     he                 7                8\n",
       "29      a                 7                6\n",
       "39     as                 6                6"
      ],
      "text/html": [
       "<div>\n",
       "<style scoped>\n",
       "    .dataframe tbody tr th:only-of-type {\n",
       "        vertical-align: middle;\n",
       "    }\n",
       "\n",
       "    .dataframe tbody tr th {\n",
       "        vertical-align: top;\n",
       "    }\n",
       "\n",
       "    .dataframe thead th {\n",
       "        text-align: right;\n",
       "    }\n",
       "</style>\n",
       "<table border=\"1\" class=\"dataframe\">\n",
       "  <thead>\n",
       "    <tr style=\"text-align: right;\">\n",
       "      <th></th>\n",
       "      <th>words</th>\n",
       "      <th>countcount_Obama</th>\n",
       "      <th>countcount_Bush</th>\n",
       "    </tr>\n",
       "  </thead>\n",
       "  <tbody>\n",
       "    <tr>\n",
       "      <th>12</th>\n",
       "      <td>the</td>\n",
       "      <td>40</td>\n",
       "      <td>39</td>\n",
       "    </tr>\n",
       "    <tr>\n",
       "      <th>26</th>\n",
       "      <td>in</td>\n",
       "      <td>30</td>\n",
       "      <td>22</td>\n",
       "    </tr>\n",
       "    <tr>\n",
       "      <th>14</th>\n",
       "      <td>and</td>\n",
       "      <td>21</td>\n",
       "      <td>14</td>\n",
       "    </tr>\n",
       "    <tr>\n",
       "      <th>17</th>\n",
       "      <td>of</td>\n",
       "      <td>18</td>\n",
       "      <td>14</td>\n",
       "    </tr>\n",
       "    <tr>\n",
       "      <th>23</th>\n",
       "      <td>to</td>\n",
       "      <td>14</td>\n",
       "      <td>11</td>\n",
       "    </tr>\n",
       "    <tr>\n",
       "      <th>47</th>\n",
       "      <td>his</td>\n",
       "      <td>11</td>\n",
       "      <td>6</td>\n",
       "    </tr>\n",
       "    <tr>\n",
       "      <th>139</th>\n",
       "      <td>act</td>\n",
       "      <td>8</td>\n",
       "      <td>3</td>\n",
       "    </tr>\n",
       "    <tr>\n",
       "      <th>37</th>\n",
       "      <td>he</td>\n",
       "      <td>7</td>\n",
       "      <td>8</td>\n",
       "    </tr>\n",
       "    <tr>\n",
       "      <th>29</th>\n",
       "      <td>a</td>\n",
       "      <td>7</td>\n",
       "      <td>6</td>\n",
       "    </tr>\n",
       "    <tr>\n",
       "      <th>39</th>\n",
       "      <td>as</td>\n",
       "      <td>6</td>\n",
       "      <td>6</td>\n",
       "    </tr>\n",
       "  </tbody>\n",
       "</table>\n",
       "</div>"
      ]
     },
     "execution_count": 11,
     "metadata": {},
     "output_type": "execute_result"
    }
   ],
   "execution_count": 11
  },
  {
   "cell_type": "markdown",
   "metadata": {},
   "source": [
    "**Note.** Even though common words are swamping out important subtle differences, commonalities in rarer political words still matter on the margin. This is why politicians are being listed in the query result instead of musicians, for example. In the next subsection, we will introduce a different metric that will place greater emphasis on those rarer words."
   ]
  },
  {
   "cell_type": "markdown",
   "metadata": {},
   "source": [
    "**e)** Among the words that appear in both Barack Obama and Francisco Barrio, take the 15 that appear most frequently in Obama. How many of the articles in the Wikipedia dataset contain all of those 15 words? Which are they?"
   ]
  },
  {
   "metadata": {
    "ExecuteTime": {
     "end_time": "2024-12-10T21:42:02.463358Z",
     "start_time": "2024-12-10T21:42:02.456275Z"
    }
   },
   "cell_type": "code",
   "source": [
    "common_words = obama_words.join(barrio_words.set_index('words'), on='words', how='inner', lsuffix='_Obama', rsuffix='_Barrio')\n",
    "top_15_words_obama = common_words.sort_values(by='count_Obama', ascending=False)[:15]\n",
    "top_15_words_obama = top_15_words_obama[['words', 'count_Obama']]\n",
    "top_15_words_obama"
   ],
   "outputs": [
    {
     "data": {
      "text/plain": [
       "         words  count_Obama\n",
       "12         the           40\n",
       "26          in           30\n",
       "14         and           21\n",
       "17          of           18\n",
       "23          to           14\n",
       "47         his           11\n",
       "37          he            7\n",
       "29           a            7\n",
       "39          as            6\n",
       "41         was            5\n",
       "227        has            4\n",
       "16   president            4\n",
       "185    control            4\n",
       "69         for            4\n",
       "118       2009            3"
      ],
      "text/html": [
       "<div>\n",
       "<style scoped>\n",
       "    .dataframe tbody tr th:only-of-type {\n",
       "        vertical-align: middle;\n",
       "    }\n",
       "\n",
       "    .dataframe tbody tr th {\n",
       "        vertical-align: top;\n",
       "    }\n",
       "\n",
       "    .dataframe thead th {\n",
       "        text-align: right;\n",
       "    }\n",
       "</style>\n",
       "<table border=\"1\" class=\"dataframe\">\n",
       "  <thead>\n",
       "    <tr style=\"text-align: right;\">\n",
       "      <th></th>\n",
       "      <th>words</th>\n",
       "      <th>count_Obama</th>\n",
       "    </tr>\n",
       "  </thead>\n",
       "  <tbody>\n",
       "    <tr>\n",
       "      <th>12</th>\n",
       "      <td>the</td>\n",
       "      <td>40</td>\n",
       "    </tr>\n",
       "    <tr>\n",
       "      <th>26</th>\n",
       "      <td>in</td>\n",
       "      <td>30</td>\n",
       "    </tr>\n",
       "    <tr>\n",
       "      <th>14</th>\n",
       "      <td>and</td>\n",
       "      <td>21</td>\n",
       "    </tr>\n",
       "    <tr>\n",
       "      <th>17</th>\n",
       "      <td>of</td>\n",
       "      <td>18</td>\n",
       "    </tr>\n",
       "    <tr>\n",
       "      <th>23</th>\n",
       "      <td>to</td>\n",
       "      <td>14</td>\n",
       "    </tr>\n",
       "    <tr>\n",
       "      <th>47</th>\n",
       "      <td>his</td>\n",
       "      <td>11</td>\n",
       "    </tr>\n",
       "    <tr>\n",
       "      <th>37</th>\n",
       "      <td>he</td>\n",
       "      <td>7</td>\n",
       "    </tr>\n",
       "    <tr>\n",
       "      <th>29</th>\n",
       "      <td>a</td>\n",
       "      <td>7</td>\n",
       "    </tr>\n",
       "    <tr>\n",
       "      <th>39</th>\n",
       "      <td>as</td>\n",
       "      <td>6</td>\n",
       "    </tr>\n",
       "    <tr>\n",
       "      <th>41</th>\n",
       "      <td>was</td>\n",
       "      <td>5</td>\n",
       "    </tr>\n",
       "    <tr>\n",
       "      <th>227</th>\n",
       "      <td>has</td>\n",
       "      <td>4</td>\n",
       "    </tr>\n",
       "    <tr>\n",
       "      <th>16</th>\n",
       "      <td>president</td>\n",
       "      <td>4</td>\n",
       "    </tr>\n",
       "    <tr>\n",
       "      <th>185</th>\n",
       "      <td>control</td>\n",
       "      <td>4</td>\n",
       "    </tr>\n",
       "    <tr>\n",
       "      <th>69</th>\n",
       "      <td>for</td>\n",
       "      <td>4</td>\n",
       "    </tr>\n",
       "    <tr>\n",
       "      <th>118</th>\n",
       "      <td>2009</td>\n",
       "      <td>3</td>\n",
       "    </tr>\n",
       "  </tbody>\n",
       "</table>\n",
       "</div>"
      ]
     },
     "execution_count": 12,
     "metadata": {},
     "output_type": "execute_result"
    }
   ],
   "execution_count": 12
  },
  {
   "metadata": {},
   "cell_type": "markdown",
   "source": "Above we can observe top 15 words that appear in both articles, but here are presented most common on Obama page. "
  },
  {
   "metadata": {
    "ExecuteTime": {
     "end_time": "2024-12-10T21:42:22.663060Z",
     "start_time": "2024-12-10T21:42:10.801949Z"
    }
   },
   "cell_type": "code",
   "source": [
    "vectorizer = CountVectorizer( #this time we\n",
    "    max_features=10000,\n",
    "    token_pattern=r\"(?u)\\b\\w+\\b\" #wszystkie słowa jednoznakowe \n",
    "    )\n",
    "WCmatrix = vectorizer.fit_transform(wiki['text'])\n"
   ],
   "outputs": [],
   "execution_count": 13
  },
  {
   "cell_type": "code",
   "metadata": {
    "collapsed": false,
    "ExecuteTime": {
     "end_time": "2024-12-10T21:42:37.904684Z",
     "start_time": "2024-12-10T21:42:37.868977Z"
    }
   },
   "source": [
    "# It might be helpful to use:\n",
    "\n",
    "word_to_ind={v: i for i, v in enumerate(vectorizer.get_feature_names_out())} # a dictionary with words as keys and indices as values\n",
    "# Your code goes here\n",
    "top_15_indices = [word_to_ind[word] for word in top_15_words_obama['words'] if word in word_to_ind]\n",
    "\n",
    "#first of all we are slicing our matrix to separate columns which contains words that we are interested in, \n",
    "#then .toarray() > 0 - checks which words are in the articles then sum() counts how many words appears \n",
    "#and then we are comparing it with the 15 so we are creating a logic mask to separate articles with all 15 words. \n",
    "article_contains_top_15 = (WCmatrix[:, top_15_indices].toarray() > 0).sum(axis=1) == len(top_15_indices)\n",
    "\n",
    "#based on created mask we are collecting all rows (articles) from wiki detaset. \n",
    "articles_with_top_15 = wiki.loc[article_contains_top_15]\n",
    "\n",
    "number_of_articles_with_top_15 = article_contains_top_15.sum()\n",
    "print(number_of_articles_with_top_15)\n",
    "\n",
    "#articles.sum()"
   ],
   "outputs": [
    {
     "name": "stdout",
     "output_type": "stream",
     "text": [
      "43\n"
     ]
    }
   ],
   "execution_count": 14
  },
  {
   "cell_type": "code",
   "metadata": {
    "collapsed": false,
    "ExecuteTime": {
     "end_time": "2024-12-10T21:42:40.471893Z",
     "start_time": "2024-12-10T21:42:40.466875Z"
    }
   },
   "source": [
    "articles_name = wiki.loc[article_contains_top_15, 'name']\n",
    "articles_name"
   ],
   "outputs": [
    {
     "data": {
      "text/plain": [
       "2622                   Michimasa Fujino\n",
       "4004                        Paul Kagame\n",
       "6617                         Paul Sarlo\n",
       "6973                    Joseph Hinrichs\n",
       "8220                       Tony Leachon\n",
       "9898          Gareth Evans (politician)\n",
       "10476    Sayed Abdul Ghafar Sayed Zadah\n",
       "11316          Gy%C3%B6rgy Sur%C3%A1nyi\n",
       "12437      Pl%C3%A1cido Mic%C3%B3 Abogo\n",
       "13229                  Francisco Barrio\n",
       "14190                    Richard Sapper\n",
       "15466                    Mark Poloncarz\n",
       "21248                         Jody Gage\n",
       "21602                 Jonathan Fielding\n",
       "24345                  Brian Behlendorf\n",
       "24478                         Joe Biden\n",
       "24897                      Nick du Toit\n",
       "25251                    Anthony Tether\n",
       "26295                    Avner Friedman\n",
       "27997                    Joseph Gaylord\n",
       "28206                      Trevor Eyton\n",
       "28447                    George W. Bush\n",
       "31318               M. Cherif Bassiouni\n",
       "32347    Michael Doyle (microbiologist)\n",
       "33306     William E. Evans (pharmacist)\n",
       "33335                Upendra Kant Aryal\n",
       "35817                      Barack Obama\n",
       "36452                      Bill Clinton\n",
       "36999                     Mark Lucovsky\n",
       "38081                    John Garamendi\n",
       "38476                 Edward Rogers III\n",
       "40887                     Hec Clouthier\n",
       "40953               Abdul Salaam Alizai\n",
       "44545                 %C3%81lvaro Noboa\n",
       "46779                    Warren Allmand\n",
       "48253           Saber Hossain Chowdhury\n",
       "48808                      Abhash Kumar\n",
       "50052                        Ted Szilva\n",
       "50427                        Roger Khan\n",
       "54302                        Howard Koh\n",
       "55495                Lokman Singh Karki\n",
       "55680                 Eric Van Stryland\n",
       "58744                     S. Mark Young\n",
       "Name: name, dtype: object"
      ]
     },
     "execution_count": 15,
     "metadata": {},
     "output_type": "execute_result"
    }
   ],
   "execution_count": 15
  },
  {
   "cell_type": "markdown",
   "metadata": {},
   "source": [
    "## Ex. 3: TF-IDF to the rescue"
   ]
  },
  {
   "cell_type": "markdown",
   "metadata": {},
   "source": [
    "Much of the perceived commonalities between Obama and Barrio were due to occurrences of extremely frequent words, such as \"the\", \"and\", and \"his\". So nearest neighbors is recommending plausible results sometimes for the wrong reasons.\n",
    "\n",
    "To retrieve articles that are more relevant, we should focus more on rare words that don't happen in every article. **TF-IDF** (term frequency–inverse document frequency) is a feature representation that penalizes words that are too common."
   ]
  },
  {
   "cell_type": "markdown",
   "metadata": {},
   "source": [
    "**a)** Repeat the search for the 10 nearest neighbors of Barack Obama with Euclidean distance of TF-IDF. This time do not limit to only 10000 most frequent words, but take all of them."
   ]
  },
  {
   "cell_type": "code",
   "metadata": {
    "collapsed": true,
    "ExecuteTime": {
     "end_time": "2024-12-10T21:44:22.329569Z",
     "start_time": "2024-12-10T21:44:09.439515Z"
    }
   },
   "source": [
    "# We could use:\n",
    "    # from sklearn.feature_extraction.text import TfidfVectorizer\n",
    "# but since we already know how to compute CountVectorizer, let's use:\n",
    "from sklearn.feature_extraction.text import CountVectorizer\n",
    "from sklearn.feature_extraction.text import TfidfTransformer\n",
    "\n",
    "vectorizer = CountVectorizer(token_pattern=r\"(?u)\\b\\w+\\b\")\n",
    "WCmatrix=vectorizer.fit_transform(wiki['text'])\n",
    "\n",
    "tfidf=TfidfTransformer(smooth_idf=False, norm=None)\n",
    "TFIDFmatrix = tfidf.fit_transform(WCmatrix)"
   ],
   "outputs": [],
   "execution_count": 23
  },
  {
   "cell_type": "code",
   "metadata": {
    "collapsed": false,
    "ExecuteTime": {
     "end_time": "2024-12-10T21:44:26.387967Z",
     "start_time": "2024-12-10T21:44:26.261310Z"
    }
   },
   "source": [
    "# now recompute the distances as before but for TF-IDF\n",
    "from sklearn.metrics import pairwise_distances\n",
    "obama_index = wiki[wiki['name'] == 'Barack Obama'].index[0]\n",
    "\n",
    "dist = pairwise_distances(\n",
    "    TFIDFmatrix,\n",
    "    TFIDFmatrix[obama_index, :],\n",
    "    metric='euclidean')\n",
    "# add the distances as a column in the wiki dataframe\n",
    "wiki['BO-eucl-TF-IDF'] = dist.flatten()\n",
    "nn = wiki.sort_values(by='BO-eucl-TF-IDF', ascending=True)[:10]\n",
    "nn = nn[['name', 'BO-eucl-TF-IDF']]\n",
    "nn.head(10)\n"
   ],
   "outputs": [
    {
     "data": {
      "text/plain": [
       "                          name  BO-eucl-TF-IDF\n",
       "35817             Barack Obama        0.000000\n",
       "38376           Samantha Power      139.364493\n",
       "46811            Jeff Sessions      139.757740\n",
       "7914             Phil Schiliro      139.812175\n",
       "38714  Eric Stern (politician)      140.450064\n",
       "6507              Bob Menendez      141.661111\n",
       "44681   Jesse Lee (politician)      142.342440\n",
       "6796               Eric Holder      142.490179\n",
       "38495             Barney Frank      142.581337\n",
       "56008            Nathan Cullen      142.751073"
      ],
      "text/html": [
       "<div>\n",
       "<style scoped>\n",
       "    .dataframe tbody tr th:only-of-type {\n",
       "        vertical-align: middle;\n",
       "    }\n",
       "\n",
       "    .dataframe tbody tr th {\n",
       "        vertical-align: top;\n",
       "    }\n",
       "\n",
       "    .dataframe thead th {\n",
       "        text-align: right;\n",
       "    }\n",
       "</style>\n",
       "<table border=\"1\" class=\"dataframe\">\n",
       "  <thead>\n",
       "    <tr style=\"text-align: right;\">\n",
       "      <th></th>\n",
       "      <th>name</th>\n",
       "      <th>BO-eucl-TF-IDF</th>\n",
       "    </tr>\n",
       "  </thead>\n",
       "  <tbody>\n",
       "    <tr>\n",
       "      <th>35817</th>\n",
       "      <td>Barack Obama</td>\n",
       "      <td>0.000000</td>\n",
       "    </tr>\n",
       "    <tr>\n",
       "      <th>38376</th>\n",
       "      <td>Samantha Power</td>\n",
       "      <td>139.364493</td>\n",
       "    </tr>\n",
       "    <tr>\n",
       "      <th>46811</th>\n",
       "      <td>Jeff Sessions</td>\n",
       "      <td>139.757740</td>\n",
       "    </tr>\n",
       "    <tr>\n",
       "      <th>7914</th>\n",
       "      <td>Phil Schiliro</td>\n",
       "      <td>139.812175</td>\n",
       "    </tr>\n",
       "    <tr>\n",
       "      <th>38714</th>\n",
       "      <td>Eric Stern (politician)</td>\n",
       "      <td>140.450064</td>\n",
       "    </tr>\n",
       "    <tr>\n",
       "      <th>6507</th>\n",
       "      <td>Bob Menendez</td>\n",
       "      <td>141.661111</td>\n",
       "    </tr>\n",
       "    <tr>\n",
       "      <th>44681</th>\n",
       "      <td>Jesse Lee (politician)</td>\n",
       "      <td>142.342440</td>\n",
       "    </tr>\n",
       "    <tr>\n",
       "      <th>6796</th>\n",
       "      <td>Eric Holder</td>\n",
       "      <td>142.490179</td>\n",
       "    </tr>\n",
       "    <tr>\n",
       "      <th>38495</th>\n",
       "      <td>Barney Frank</td>\n",
       "      <td>142.581337</td>\n",
       "    </tr>\n",
       "    <tr>\n",
       "      <th>56008</th>\n",
       "      <td>Nathan Cullen</td>\n",
       "      <td>142.751073</td>\n",
       "    </tr>\n",
       "  </tbody>\n",
       "</table>\n",
       "</div>"
      ]
     },
     "execution_count": 24,
     "metadata": {},
     "output_type": "execute_result"
    }
   ],
   "execution_count": 24
  },
  {
   "cell_type": "markdown",
   "metadata": {},
   "source": [
    "Let's determine whether this list makes sense.\n",
    "* With a notable exception of Nathan Cullen, the other 8 are all American politicians who are contemporaries of Barack Obama.\n",
    "* Phil Schiliro, Jesse Lee, Samantha Power, Eric Stern, Eric Holder worked for Obama.\n",
    "\n",
    "Clearly, the results are more plausible with the use of TF-IDF. Let's take a look at the word vector for Obama and Schilirio's pages. Notice that TF-IDF representation assigns a weight to each word. This weight captures relative importance of that word in the document."
   ]
  },
  {
   "cell_type": "markdown",
   "metadata": {},
   "source": [
    "**b)** Sort the words in Obama's article by their TF-IDF weights; do the same for Schiliro's article as well.\n",
    "Using the **join** operation we learned earlier, compute the common words shared by Obama's and Schiliro's articles.\n",
    "Sort the common words by their TF-IDF weights in Obama's document."
   ]
  },
  {
   "cell_type": "code",
   "metadata": {
    "collapsed": true,
    "ExecuteTime": {
     "end_time": "2024-12-10T21:44:31.007323Z",
     "start_time": "2024-12-10T21:44:31.003250Z"
    }
   },
   "source": [
    "def top_words_tf_idf(name):\n",
    "    \"\"\"\n",
    "    Get a table of the largest tf-idf words in the given person's wikipedia page.\n",
    "    \"\"\"\n",
    "    person_text = wiki[wiki['name'] == name]['text'].iloc[0]\n",
    "    WCmatrix=vectorizer.fit_transform([person_text]) # create word appearance matrix \n",
    "    #conversion to TF-IDF matrix \n",
    "    TFIDFmatrix = tfidf.fit_transform(WCmatrix)\n",
    "    \n",
    "    #converting to matrix which has value in every cell has a value and then to one-dimensional array \n",
    "    tfidf_scores = TFIDFmatrix.toarray().flatten() \n",
    "    words = vectorizer.get_feature_names_out()\n",
    "    \n",
    "    df = pd.DataFrame({'words': words, 'tf-idf': tfidf_scores})\n",
    "    \n",
    "    return df.sort_values(by='tf-idf', ascending=False)"
   ],
   "outputs": [],
   "execution_count": 25
  },
  {
   "cell_type": "code",
   "metadata": {
    "collapsed": false,
    "jupyter": {
     "outputs_hidden": false
    },
    "ExecuteTime": {
     "end_time": "2024-12-10T21:44:33.403477Z",
     "start_time": "2024-12-10T21:44:33.360783Z"
    }
   },
   "source": [
    "obama_tf_idf = top_words_tf_idf('Barack Obama')\n",
    "schiliro_tf_idf = top_words_tf_idf('Phil Schiliro')\n",
    "common_words = obama_tf_idf.join(schiliro_tf_idf.set_index('words'), on='words', lsuffix='_Obama', rsuffix='_Schiliro')\n",
    "common_words = common_words.sort_values(by='tf-idf_Obama', ascending=False)\n",
    "common_words.head(10)"
   ],
   "outputs": [
    {
     "data": {
      "text/plain": [
       "     words  tf-idf_Obama  tf-idf_Schiliro\n",
       "245    the          40.0             10.0\n",
       "118     in          30.0              5.0\n",
       "31     and          21.0              6.0\n",
       "165     of          18.0              9.0\n",
       "248     to          14.0              7.0\n",
       "109    his          11.0              1.0\n",
       "163  obama           9.0              2.0\n",
       "21     act           8.0              NaN\n",
       "107     he           7.0             11.0\n",
       "20       a           7.0              5.0"
      ],
      "text/html": [
       "<div>\n",
       "<style scoped>\n",
       "    .dataframe tbody tr th:only-of-type {\n",
       "        vertical-align: middle;\n",
       "    }\n",
       "\n",
       "    .dataframe tbody tr th {\n",
       "        vertical-align: top;\n",
       "    }\n",
       "\n",
       "    .dataframe thead th {\n",
       "        text-align: right;\n",
       "    }\n",
       "</style>\n",
       "<table border=\"1\" class=\"dataframe\">\n",
       "  <thead>\n",
       "    <tr style=\"text-align: right;\">\n",
       "      <th></th>\n",
       "      <th>words</th>\n",
       "      <th>tf-idf_Obama</th>\n",
       "      <th>tf-idf_Schiliro</th>\n",
       "    </tr>\n",
       "  </thead>\n",
       "  <tbody>\n",
       "    <tr>\n",
       "      <th>245</th>\n",
       "      <td>the</td>\n",
       "      <td>40.0</td>\n",
       "      <td>10.0</td>\n",
       "    </tr>\n",
       "    <tr>\n",
       "      <th>118</th>\n",
       "      <td>in</td>\n",
       "      <td>30.0</td>\n",
       "      <td>5.0</td>\n",
       "    </tr>\n",
       "    <tr>\n",
       "      <th>31</th>\n",
       "      <td>and</td>\n",
       "      <td>21.0</td>\n",
       "      <td>6.0</td>\n",
       "    </tr>\n",
       "    <tr>\n",
       "      <th>165</th>\n",
       "      <td>of</td>\n",
       "      <td>18.0</td>\n",
       "      <td>9.0</td>\n",
       "    </tr>\n",
       "    <tr>\n",
       "      <th>248</th>\n",
       "      <td>to</td>\n",
       "      <td>14.0</td>\n",
       "      <td>7.0</td>\n",
       "    </tr>\n",
       "    <tr>\n",
       "      <th>109</th>\n",
       "      <td>his</td>\n",
       "      <td>11.0</td>\n",
       "      <td>1.0</td>\n",
       "    </tr>\n",
       "    <tr>\n",
       "      <th>163</th>\n",
       "      <td>obama</td>\n",
       "      <td>9.0</td>\n",
       "      <td>2.0</td>\n",
       "    </tr>\n",
       "    <tr>\n",
       "      <th>21</th>\n",
       "      <td>act</td>\n",
       "      <td>8.0</td>\n",
       "      <td>NaN</td>\n",
       "    </tr>\n",
       "    <tr>\n",
       "      <th>107</th>\n",
       "      <td>he</td>\n",
       "      <td>7.0</td>\n",
       "      <td>11.0</td>\n",
       "    </tr>\n",
       "    <tr>\n",
       "      <th>20</th>\n",
       "      <td>a</td>\n",
       "      <td>7.0</td>\n",
       "      <td>5.0</td>\n",
       "    </tr>\n",
       "  </tbody>\n",
       "</table>\n",
       "</div>"
      ]
     },
     "execution_count": 26,
     "metadata": {},
     "output_type": "execute_result"
    }
   ],
   "execution_count": 26
  },
  {
   "cell_type": "markdown",
   "metadata": {},
   "source": [
    "**c)** Among the words that appear in both Barack Obama and Phil Schiliro, take the 15 that have largest weights in Obama. How many of the articles in the Wikipedia dataset contain all of those 15 words? Which are they?"
   ]
  },
  {
   "metadata": {
    "ExecuteTime": {
     "end_time": "2024-12-10T21:45:19.169514Z",
     "start_time": "2024-12-10T21:45:19.161055Z"
    }
   },
   "cell_type": "code",
   "source": [
    "#we are creating list of common words in obama and schiliro. \n",
    "common_words = obama_tf_idf.join(schiliro_tf_idf.set_index('words'), on='words', lsuffix='_Obama', rsuffix='_Schiliro')\n",
    "top_obi = common_words.sort_values(by='tf-idf_Obama', ascending=False).head(15)\n",
    "top_obi = top_obi[['words', 'tf-idf_Obama']]\n",
    "top_obi"
   ],
   "outputs": [
    {
     "data": {
      "text/plain": [
       "         words  tf-idf_Obama\n",
       "245        the          40.0\n",
       "118         in          30.0\n",
       "31         and          21.0\n",
       "165         of          18.0\n",
       "248         to          14.0\n",
       "109        his          11.0\n",
       "163      obama           9.0\n",
       "21         act           8.0\n",
       "107         he           7.0\n",
       "20           a           7.0\n",
       "33          as           6.0\n",
       "259         us           6.0\n",
       "136        law           6.0\n",
       "263        was           5.0\n",
       "182  president           4.0"
      ],
      "text/html": [
       "<div>\n",
       "<style scoped>\n",
       "    .dataframe tbody tr th:only-of-type {\n",
       "        vertical-align: middle;\n",
       "    }\n",
       "\n",
       "    .dataframe tbody tr th {\n",
       "        vertical-align: top;\n",
       "    }\n",
       "\n",
       "    .dataframe thead th {\n",
       "        text-align: right;\n",
       "    }\n",
       "</style>\n",
       "<table border=\"1\" class=\"dataframe\">\n",
       "  <thead>\n",
       "    <tr style=\"text-align: right;\">\n",
       "      <th></th>\n",
       "      <th>words</th>\n",
       "      <th>tf-idf_Obama</th>\n",
       "    </tr>\n",
       "  </thead>\n",
       "  <tbody>\n",
       "    <tr>\n",
       "      <th>245</th>\n",
       "      <td>the</td>\n",
       "      <td>40.0</td>\n",
       "    </tr>\n",
       "    <tr>\n",
       "      <th>118</th>\n",
       "      <td>in</td>\n",
       "      <td>30.0</td>\n",
       "    </tr>\n",
       "    <tr>\n",
       "      <th>31</th>\n",
       "      <td>and</td>\n",
       "      <td>21.0</td>\n",
       "    </tr>\n",
       "    <tr>\n",
       "      <th>165</th>\n",
       "      <td>of</td>\n",
       "      <td>18.0</td>\n",
       "    </tr>\n",
       "    <tr>\n",
       "      <th>248</th>\n",
       "      <td>to</td>\n",
       "      <td>14.0</td>\n",
       "    </tr>\n",
       "    <tr>\n",
       "      <th>109</th>\n",
       "      <td>his</td>\n",
       "      <td>11.0</td>\n",
       "    </tr>\n",
       "    <tr>\n",
       "      <th>163</th>\n",
       "      <td>obama</td>\n",
       "      <td>9.0</td>\n",
       "    </tr>\n",
       "    <tr>\n",
       "      <th>21</th>\n",
       "      <td>act</td>\n",
       "      <td>8.0</td>\n",
       "    </tr>\n",
       "    <tr>\n",
       "      <th>107</th>\n",
       "      <td>he</td>\n",
       "      <td>7.0</td>\n",
       "    </tr>\n",
       "    <tr>\n",
       "      <th>20</th>\n",
       "      <td>a</td>\n",
       "      <td>7.0</td>\n",
       "    </tr>\n",
       "    <tr>\n",
       "      <th>33</th>\n",
       "      <td>as</td>\n",
       "      <td>6.0</td>\n",
       "    </tr>\n",
       "    <tr>\n",
       "      <th>259</th>\n",
       "      <td>us</td>\n",
       "      <td>6.0</td>\n",
       "    </tr>\n",
       "    <tr>\n",
       "      <th>136</th>\n",
       "      <td>law</td>\n",
       "      <td>6.0</td>\n",
       "    </tr>\n",
       "    <tr>\n",
       "      <th>263</th>\n",
       "      <td>was</td>\n",
       "      <td>5.0</td>\n",
       "    </tr>\n",
       "    <tr>\n",
       "      <th>182</th>\n",
       "      <td>president</td>\n",
       "      <td>4.0</td>\n",
       "    </tr>\n",
       "  </tbody>\n",
       "</table>\n",
       "</div>"
      ]
     },
     "execution_count": 30,
     "metadata": {},
     "output_type": "execute_result"
    }
   ],
   "execution_count": 30
  },
  {
   "cell_type": "code",
   "metadata": {
    "collapsed": false,
    "ExecuteTime": {
     "end_time": "2024-12-10T21:45:24.382217Z",
     "start_time": "2024-12-10T21:45:24.354498Z"
    }
   },
   "source": [
    "# It might be helpful to use:\n",
    "word_to_ind={v: i for i, v in enumerate(vectorizer.get_feature_names_out())} # a dictionary with words as keys and indices as values\n",
    "top_15_indices = [word_to_ind[word] for word in top_obi['words'] if word in word_to_ind] # creating a list of indexes of 15 most important words \n",
    "\n",
    "#separating articles which contains all 15 words\n",
    "top_15_TFIDF_obama = (TFIDFmatrix[:, top_15_indices].toarray() > 0).sum(axis=1) == len(top_15_indices)\n",
    "\n",
    "articles_names = wiki.loc[top_15_TFIDF_obama] #choosing this articles \n",
    "articles_names_num = articles_names.shape[0]\n",
    "\n",
    "print(\"articles which contains all 15 words: \", articles_names_num)\n",
    "#articles.sum()"
   ],
   "outputs": [
    {
     "name": "stdout",
     "output_type": "stream",
     "text": [
      "articles which contains all 15 words:  0\n"
     ]
    }
   ],
   "execution_count": 31
  },
  {
   "cell_type": "code",
   "metadata": {
    "collapsed": false,
    "ExecuteTime": {
     "end_time": "2024-12-10T21:45:26.601916Z",
     "start_time": "2024-12-10T21:45:26.598265Z"
    }
   },
   "source": "print(articles_names[['name', 'text']])",
   "outputs": [
    {
     "name": "stdout",
     "output_type": "stream",
     "text": [
      "Empty DataFrame\n",
      "Columns: [name, text]\n",
      "Index: []\n"
     ]
    }
   ],
   "execution_count": 32
  },
  {
   "metadata": {},
   "cell_type": "markdown",
   "source": "I don't know why but this is the moment where i have different results then in the file without code. Beacuse my code detecs 0 articles which contains all 15 words. "
  },
  {
   "cell_type": "markdown",
   "metadata": {},
   "source": [
    "Notice the huge difference in this calculation using TF-IDF scores instead  of raw word counts. We've eliminated noise arising from extremely common words."
   ]
  },
  {
   "cell_type": "markdown",
   "metadata": {},
   "source": [
    "## Ex. 4: Choosing metrics"
   ]
  },
  {
   "cell_type": "markdown",
   "metadata": {},
   "source": [
    "**a)** Compute the Euclidean distance between TF-IDF features of Obama and Biden."
   ]
  },
  {
   "cell_type": "code",
   "metadata": {
    "collapsed": false,
    "ExecuteTime": {
     "end_time": "2024-12-10T21:47:37.309122Z",
     "start_time": "2024-12-10T21:47:37.294132Z"
    }
   },
   "source": [
    "bush_index = wiki[wiki['name'] == 'Barack Obama'].index[0]\n",
    "biden_index = wiki[wiki['name'] == 'Joe Biden'].index[0]\n",
    "\n",
    "dist = pairwise_distances(\n",
    "    TFIDFmatrix[biden_index, :].reshape(1, -1),\n",
    "    TFIDFmatrix[obama_index, :].reshape(1, -1),\n",
    "    metric='euclidean')\n",
    "\n",
    "print(dist)"
   ],
   "outputs": [
    {
     "name": "stdout",
     "output_type": "stream",
     "text": [
      "[[148.77845413]]\n"
     ]
    }
   ],
   "execution_count": 33
  },
  {
   "cell_type": "markdown",
   "metadata": {},
   "source": [
    "The distance is larger than the distances we found for the 10 nearest neighbors, which we repeat here for readability:"
   ]
  },
  {
   "cell_type": "code",
   "metadata": {
    "collapsed": false,
    "jupyter": {
     "outputs_hidden": false
    },
    "ExecuteTime": {
     "end_time": "2024-12-10T21:47:40.906391Z",
     "start_time": "2024-12-10T21:47:40.838953Z"
    }
   },
   "source": [
    "wiki.sort_values(by='BO-eucl-TF-IDF',ascending=True)[['name','BO-eucl-TF-IDF']][0:10]"
   ],
   "outputs": [
    {
     "data": {
      "text/plain": [
       "                          name  BO-eucl-TF-IDF\n",
       "35817             Barack Obama        0.000000\n",
       "38376           Samantha Power      139.364493\n",
       "46811            Jeff Sessions      139.757740\n",
       "7914             Phil Schiliro      139.812175\n",
       "38714  Eric Stern (politician)      140.450064\n",
       "6507              Bob Menendez      141.661111\n",
       "44681   Jesse Lee (politician)      142.342440\n",
       "6796               Eric Holder      142.490179\n",
       "38495             Barney Frank      142.581337\n",
       "56008            Nathan Cullen      142.751073"
      ],
      "text/html": [
       "<div>\n",
       "<style scoped>\n",
       "    .dataframe tbody tr th:only-of-type {\n",
       "        vertical-align: middle;\n",
       "    }\n",
       "\n",
       "    .dataframe tbody tr th {\n",
       "        vertical-align: top;\n",
       "    }\n",
       "\n",
       "    .dataframe thead th {\n",
       "        text-align: right;\n",
       "    }\n",
       "</style>\n",
       "<table border=\"1\" class=\"dataframe\">\n",
       "  <thead>\n",
       "    <tr style=\"text-align: right;\">\n",
       "      <th></th>\n",
       "      <th>name</th>\n",
       "      <th>BO-eucl-TF-IDF</th>\n",
       "    </tr>\n",
       "  </thead>\n",
       "  <tbody>\n",
       "    <tr>\n",
       "      <th>35817</th>\n",
       "      <td>Barack Obama</td>\n",
       "      <td>0.000000</td>\n",
       "    </tr>\n",
       "    <tr>\n",
       "      <th>38376</th>\n",
       "      <td>Samantha Power</td>\n",
       "      <td>139.364493</td>\n",
       "    </tr>\n",
       "    <tr>\n",
       "      <th>46811</th>\n",
       "      <td>Jeff Sessions</td>\n",
       "      <td>139.757740</td>\n",
       "    </tr>\n",
       "    <tr>\n",
       "      <th>7914</th>\n",
       "      <td>Phil Schiliro</td>\n",
       "      <td>139.812175</td>\n",
       "    </tr>\n",
       "    <tr>\n",
       "      <th>38714</th>\n",
       "      <td>Eric Stern (politician)</td>\n",
       "      <td>140.450064</td>\n",
       "    </tr>\n",
       "    <tr>\n",
       "      <th>6507</th>\n",
       "      <td>Bob Menendez</td>\n",
       "      <td>141.661111</td>\n",
       "    </tr>\n",
       "    <tr>\n",
       "      <th>44681</th>\n",
       "      <td>Jesse Lee (politician)</td>\n",
       "      <td>142.342440</td>\n",
       "    </tr>\n",
       "    <tr>\n",
       "      <th>6796</th>\n",
       "      <td>Eric Holder</td>\n",
       "      <td>142.490179</td>\n",
       "    </tr>\n",
       "    <tr>\n",
       "      <th>38495</th>\n",
       "      <td>Barney Frank</td>\n",
       "      <td>142.581337</td>\n",
       "    </tr>\n",
       "    <tr>\n",
       "      <th>56008</th>\n",
       "      <td>Nathan Cullen</td>\n",
       "      <td>142.751073</td>\n",
       "    </tr>\n",
       "  </tbody>\n",
       "</table>\n",
       "</div>"
      ]
     },
     "execution_count": 34,
     "metadata": {},
     "output_type": "execute_result"
    }
   ],
   "execution_count": 34
  },
  {
   "cell_type": "markdown",
   "metadata": {},
   "source": [
    "But one may wonder, is Biden's article that different from Obama's, more so than, say, Schiliro's? It turns out that, when we compute nearest neighbors using the Euclidean distances, we unwittingly favor short articles over long ones."
   ]
  },
  {
   "cell_type": "markdown",
   "metadata": {},
   "source": [
    "**b)** Let us compute the length of each Wikipedia document, and examine the document lengths for the 100 nearest neighbors to Obama's page. To compute text length use the same splitting rules you used in `vectorizer`."
   ]
  },
  {
   "cell_type": "code",
   "metadata": {
    "collapsed": false,
    "jupyter": {
     "outputs_hidden": false
    },
    "ExecuteTime": {
     "end_time": "2024-12-10T21:47:47.977962Z",
     "start_time": "2024-12-10T21:47:43.743706Z"
    }
   },
   "source": [
    "tokenizer = vectorizer.build_tokenizer()\n",
    "\n",
    "def compute_length(row):\n",
    "# Here we could use simply:\n",
    "#     return len(row['text'].split(' '))\n",
    "    return len(tokenizer(row['text']))\n",
    "\n",
    "wiki['length'] = wiki.apply(compute_length, axis=1)"
   ],
   "outputs": [],
   "execution_count": 35
  },
  {
   "cell_type": "code",
   "metadata": {
    "collapsed": false,
    "jupyter": {
     "outputs_hidden": false
    },
    "ExecuteTime": {
     "end_time": "2024-12-10T21:47:53.237343Z",
     "start_time": "2024-12-10T21:47:53.108056Z"
    }
   },
   "source": [
    "obama_index = wiki[wiki['name'] == 'Barack Obama'].index[0]\n",
    "dist = pairwise_distances(TFIDFmatrix, TFIDFmatrix[obama_index, :], metric='euclidean')\n",
    "\n",
    "# Add the distances to the dataframe - thats why we need 1-dimensional array to assign these values to documents\n",
    "wiki['BO-eucl-TF-IDF'] = dist.flatten()\n",
    "\n",
    "# Get the 100 nearest neighbors by Euclidean distance to Obama\n",
    "nearest_neighbors = wiki.sort_values(by='BO-eucl-TF-IDF', ascending=True).head(100)\n",
    "\n",
    "nnn = nearest_neighbors[['name', 'length', 'BO-eucl-TF-IDF']]\n",
    "nnn.head(100)"
   ],
   "outputs": [
    {
     "data": {
      "text/plain": [
       "                          name  length  BO-eucl-TF-IDF\n",
       "35817             Barack Obama     540        0.000000\n",
       "38376           Samantha Power     310      139.364493\n",
       "46811            Jeff Sessions     230      139.757740\n",
       "7914             Phil Schiliro     208      139.812175\n",
       "38714  Eric Stern (politician)     255      140.450064\n",
       "...                        ...     ...             ...\n",
       "12834      Mark Waller (judge)     211      146.796202\n",
       "11303          Steven Weinberg     227      146.815087\n",
       "8277          John M. Facciola     207      146.823495\n",
       "11996        Thomas H. Jackson     216      146.836489\n",
       "50366  Patrick Lipton Robinson     201      146.849274\n",
       "\n",
       "[100 rows x 3 columns]"
      ],
      "text/html": [
       "<div>\n",
       "<style scoped>\n",
       "    .dataframe tbody tr th:only-of-type {\n",
       "        vertical-align: middle;\n",
       "    }\n",
       "\n",
       "    .dataframe tbody tr th {\n",
       "        vertical-align: top;\n",
       "    }\n",
       "\n",
       "    .dataframe thead th {\n",
       "        text-align: right;\n",
       "    }\n",
       "</style>\n",
       "<table border=\"1\" class=\"dataframe\">\n",
       "  <thead>\n",
       "    <tr style=\"text-align: right;\">\n",
       "      <th></th>\n",
       "      <th>name</th>\n",
       "      <th>length</th>\n",
       "      <th>BO-eucl-TF-IDF</th>\n",
       "    </tr>\n",
       "  </thead>\n",
       "  <tbody>\n",
       "    <tr>\n",
       "      <th>35817</th>\n",
       "      <td>Barack Obama</td>\n",
       "      <td>540</td>\n",
       "      <td>0.000000</td>\n",
       "    </tr>\n",
       "    <tr>\n",
       "      <th>38376</th>\n",
       "      <td>Samantha Power</td>\n",
       "      <td>310</td>\n",
       "      <td>139.364493</td>\n",
       "    </tr>\n",
       "    <tr>\n",
       "      <th>46811</th>\n",
       "      <td>Jeff Sessions</td>\n",
       "      <td>230</td>\n",
       "      <td>139.757740</td>\n",
       "    </tr>\n",
       "    <tr>\n",
       "      <th>7914</th>\n",
       "      <td>Phil Schiliro</td>\n",
       "      <td>208</td>\n",
       "      <td>139.812175</td>\n",
       "    </tr>\n",
       "    <tr>\n",
       "      <th>38714</th>\n",
       "      <td>Eric Stern (politician)</td>\n",
       "      <td>255</td>\n",
       "      <td>140.450064</td>\n",
       "    </tr>\n",
       "    <tr>\n",
       "      <th>...</th>\n",
       "      <td>...</td>\n",
       "      <td>...</td>\n",
       "      <td>...</td>\n",
       "    </tr>\n",
       "    <tr>\n",
       "      <th>12834</th>\n",
       "      <td>Mark Waller (judge)</td>\n",
       "      <td>211</td>\n",
       "      <td>146.796202</td>\n",
       "    </tr>\n",
       "    <tr>\n",
       "      <th>11303</th>\n",
       "      <td>Steven Weinberg</td>\n",
       "      <td>227</td>\n",
       "      <td>146.815087</td>\n",
       "    </tr>\n",
       "    <tr>\n",
       "      <th>8277</th>\n",
       "      <td>John M. Facciola</td>\n",
       "      <td>207</td>\n",
       "      <td>146.823495</td>\n",
       "    </tr>\n",
       "    <tr>\n",
       "      <th>11996</th>\n",
       "      <td>Thomas H. Jackson</td>\n",
       "      <td>216</td>\n",
       "      <td>146.836489</td>\n",
       "    </tr>\n",
       "    <tr>\n",
       "      <th>50366</th>\n",
       "      <td>Patrick Lipton Robinson</td>\n",
       "      <td>201</td>\n",
       "      <td>146.849274</td>\n",
       "    </tr>\n",
       "  </tbody>\n",
       "</table>\n",
       "<p>100 rows × 3 columns</p>\n",
       "</div>"
      ]
     },
     "execution_count": 36,
     "metadata": {},
     "output_type": "execute_result"
    }
   ],
   "execution_count": 36
  },
  {
   "cell_type": "markdown",
   "metadata": {},
   "source": [
    "**c)** To see how these document lengths compare to the lengths of other documents in the corpus, make a histogram of the document lengths of Obama's 100 nearest neighbors and compare to a histogram of document lengths for all documents."
   ]
  },
  {
   "cell_type": "code",
   "metadata": {
    "collapsed": false,
    "jupyter": {
     "outputs_hidden": false
    },
    "ExecuteTime": {
     "end_time": "2024-12-10T21:47:57.290341Z",
     "start_time": "2024-12-10T21:47:56.983189Z"
    }
   },
   "source": [
    "import matplotlib.pyplot as plt\n",
    "\n",
    "all_length = wiki['length'] \n",
    "nnn_length = nnn['length'] # length of the 100 nearest_neighbors\n",
    "\n",
    "plt.figure(figsize=(10.5,4.5))\n",
    "\n",
    "#histogram for all documents\n",
    "plt.hist(\n",
    "    all_length,\n",
    "    bins=50,  # Liczba binów\n",
    "    alpha=0.7,\n",
    "    color='blue',\n",
    "    label='Entire Wikipedia',\n",
    "    density=True  # skalowanie wysokosci tak że max wynosi 1, czyli pokazujemy rozmieszczenie prawdopodobieństwa a nie rzeczywiste wartości \n",
    ")\n",
    "\n",
    "#histogram for 100nn's of Obama\n",
    "plt.hist(\n",
    "    nnn_length,\n",
    "    bins=30,\n",
    "    alpha=0.5,\n",
    "    color='red',\n",
    "    label=\"100 NN's of Obama (Euclidean)\",\n",
    "    density=True)\n",
    "\n",
    "#joe biden\n",
    "biden_length = wiki[wiki['name'] == 'Joe Biden']['length'].iloc[0]\n",
    "plt.axvline(\n",
    "    biden_length,\n",
    "    color = 'green',\n",
    "    label = 'Length of Joe Biden',\n",
    "    linestyle='dashed', \n",
    "    linewidth=2)\n",
    "\n",
    "#barack obama \n",
    "obama_length = wiki[wiki['name']== 'Barack Obama']['length'].iloc[0]\n",
    "plt.axvline(\n",
    "    obama_length,\n",
    "    color = 'black',\n",
    "    label = 'Length of Barack Obama',\n",
    "    linestyle='dashed', \n",
    "    linewidth=2)\n",
    "\n",
    "\n",
    "plt.xlabel('Document Length (words)')\n",
    "plt.xlim(0, 1000)\n",
    "plt.ylabel('Percentage')\n",
    "plt.title('Distribution of Document Length')\n",
    "plt.legend()\n",
    "plt.tight_layout()\n",
    "plt.show()"
   ],
   "outputs": [
    {
     "data": {
      "text/plain": [
       "<Figure size 1050x450 with 1 Axes>"
      ],
      "image/png": "[encoded data removed]"
     },
     "metadata": {},
     "output_type": "display_data"
    }
   ],
   "execution_count": 37
  },
  {
   "cell_type": "markdown",
   "metadata": {},
   "source": [
    "Relative to the rest of Wikipedia, nearest neighbors of Obama are overwhemingly short, most of them being shorter than 300 words. The bias towards short articles is not appropriate in this application as there is really no reason to  favor short articles over long articles (they are all Wikipedia articles, after all). Many of the Wikipedia articles are 300 words or more, and both Obama and Biden are over 300 words long.\n",
    "\n",
    "**Note**: For the interest of computation time, the dataset given here contains _excerpts_ of the articles rather than full text. For instance, the actual Wikipedia article about Obama is around 25000 words. Do not be surprised by the low numbers shown in the histogram."
   ]
  },
  {
   "cell_type": "markdown",
   "metadata": {},
   "source": [
    "**Note:** Both word-count features and TF-IDF are proportional to word frequencies. While TF-IDF penalizes very common words, longer articles tend to have longer TF-IDF vectors simply because they have more words in them."
   ]
  },
  {
   "cell_type": "markdown",
   "metadata": {},
   "source": [
    "To remove this bias, we turn to **cosine distances**:\n",
    "$$\n",
    "d(\\mathbf{x},\\mathbf{y}) = 1 - \\frac{\\mathbf{x}^T\\mathbf{y}}{\\|\\mathbf{x}\\| \\|\\mathbf{y}\\|}\n",
    "$$\n",
    "Cosine distances let us compare word distributions of two articles of varying lengths."
   ]
  },
  {
   "cell_type": "markdown",
   "metadata": {},
   "source": [
    "**d)** Train a new nearest neighbor model, this time with cosine distances.  Then repeat the search for Obama's 100 nearest neighbors and make a plot to better visualize the effect of having used cosine distance in place of Euclidean on our TF-IDF vectors."
   ]
  },
  {
   "cell_type": "code",
   "metadata": {
    "collapsed": false,
    "jupyter": {
     "outputs_hidden": false
    },
    "ExecuteTime": {
     "end_time": "2024-12-10T21:48:12.182065Z",
     "start_time": "2024-12-10T21:48:12.031458Z"
    }
   },
   "source": [
    "# cosine instead of Euclidean \n",
    "dist_cosine = pairwise_distances(TFIDFmatrix, TFIDFmatrix[obama_index, :], metric='cosine')\n",
    "wiki_copy = wiki.copy()\n",
    "wiki_copy['BO-cosine-TF-IDF'] = dist_cosine.flatten()\n",
    "\n",
    "nn_cosine = wiki_copy.sort_values(by='BO-cosine-TF-IDF', ascending=True).head(100)\n",
    "nn_cosine = nn_cosine[['name','length', 'BO-cosine-TF-IDF']]\n",
    "nn_cosine"
   ],
   "outputs": [
    {
     "data": {
      "text/plain": [
       "                                  name  length  BO-cosine-TF-IDF\n",
       "35817                     Barack Obama     540      9.992007e-16\n",
       "24478                        Joe Biden     414      5.727248e-01\n",
       "57108           Hillary Rodham Clinton     580      6.161487e-01\n",
       "38376                   Samantha Power     310      6.257966e-01\n",
       "38714          Eric Stern (politician)     255      6.514751e-01\n",
       "...                                ...     ...               ...\n",
       "2045             Allan Ryan (attorney)     291      7.313755e-01\n",
       "47085                     Ray Thornton     326      7.319076e-01\n",
       "16392  P%C3%A9ter Kov%C3%A1cs (lawyer)     365      7.321718e-01\n",
       "55495               Lokman Singh Karki    2486      7.326076e-01\n",
       "22304                 Chung Dong-young     886      7.327848e-01\n",
       "\n",
       "[100 rows x 3 columns]"
      ],
      "text/html": [
       "<div>\n",
       "<style scoped>\n",
       "    .dataframe tbody tr th:only-of-type {\n",
       "        vertical-align: middle;\n",
       "    }\n",
       "\n",
       "    .dataframe tbody tr th {\n",
       "        vertical-align: top;\n",
       "    }\n",
       "\n",
       "    .dataframe thead th {\n",
       "        text-align: right;\n",
       "    }\n",
       "</style>\n",
       "<table border=\"1\" class=\"dataframe\">\n",
       "  <thead>\n",
       "    <tr style=\"text-align: right;\">\n",
       "      <th></th>\n",
       "      <th>name</th>\n",
       "      <th>length</th>\n",
       "      <th>BO-cosine-TF-IDF</th>\n",
       "    </tr>\n",
       "  </thead>\n",
       "  <tbody>\n",
       "    <tr>\n",
       "      <th>35817</th>\n",
       "      <td>Barack Obama</td>\n",
       "      <td>540</td>\n",
       "      <td>9.992007e-16</td>\n",
       "    </tr>\n",
       "    <tr>\n",
       "      <th>24478</th>\n",
       "      <td>Joe Biden</td>\n",
       "      <td>414</td>\n",
       "      <td>5.727248e-01</td>\n",
       "    </tr>\n",
       "    <tr>\n",
       "      <th>57108</th>\n",
       "      <td>Hillary Rodham Clinton</td>\n",
       "      <td>580</td>\n",
       "      <td>6.161487e-01</td>\n",
       "    </tr>\n",
       "    <tr>\n",
       "      <th>38376</th>\n",
       "      <td>Samantha Power</td>\n",
       "      <td>310</td>\n",
       "      <td>6.257966e-01</td>\n",
       "    </tr>\n",
       "    <tr>\n",
       "      <th>38714</th>\n",
       "      <td>Eric Stern (politician)</td>\n",
       "      <td>255</td>\n",
       "      <td>6.514751e-01</td>\n",
       "    </tr>\n",
       "    <tr>\n",
       "      <th>...</th>\n",
       "      <td>...</td>\n",
       "      <td>...</td>\n",
       "      <td>...</td>\n",
       "    </tr>\n",
       "    <tr>\n",
       "      <th>2045</th>\n",
       "      <td>Allan Ryan (attorney)</td>\n",
       "      <td>291</td>\n",
       "      <td>7.313755e-01</td>\n",
       "    </tr>\n",
       "    <tr>\n",
       "      <th>47085</th>\n",
       "      <td>Ray Thornton</td>\n",
       "      <td>326</td>\n",
       "      <td>7.319076e-01</td>\n",
       "    </tr>\n",
       "    <tr>\n",
       "      <th>16392</th>\n",
       "      <td>P%C3%A9ter Kov%C3%A1cs (lawyer)</td>\n",
       "      <td>365</td>\n",
       "      <td>7.321718e-01</td>\n",
       "    </tr>\n",
       "    <tr>\n",
       "      <th>55495</th>\n",
       "      <td>Lokman Singh Karki</td>\n",
       "      <td>2486</td>\n",
       "      <td>7.326076e-01</td>\n",
       "    </tr>\n",
       "    <tr>\n",
       "      <th>22304</th>\n",
       "      <td>Chung Dong-young</td>\n",
       "      <td>886</td>\n",
       "      <td>7.327848e-01</td>\n",
       "    </tr>\n",
       "  </tbody>\n",
       "</table>\n",
       "<p>100 rows × 3 columns</p>\n",
       "</div>"
      ]
     },
     "execution_count": 38,
     "metadata": {},
     "output_type": "execute_result"
    }
   ],
   "execution_count": 38
  },
  {
   "cell_type": "markdown",
   "metadata": {},
   "source": [
    "From a glance at the above table, things look better.  For example, we now see Joe Biden as Barack Obama's nearest neighbor!  We also see Hillary Clinton on the list.  This list looks even more plausible as nearest neighbors of Barack Obama."
   ]
  },
  {
   "cell_type": "code",
   "metadata": {
    "collapsed": false,
    "jupyter": {
     "outputs_hidden": false
    },
    "ExecuteTime": {
     "end_time": "2024-12-10T21:48:20.166352Z",
     "start_time": "2024-12-10T21:48:19.847519Z"
    }
   },
   "source": [
    "nn_cosine_length = nn_cosine['length']\n",
    "all_length = wiki['length'] \n",
    "nnn_length = nnn['length'] # length of the 100 nearest_neighbors\n",
    "\n",
    "plt.figure(figsize=(10.5,4.5))\n",
    "\n",
    "#histogram for all documents\n",
    "plt.hist(\n",
    "    all_length,\n",
    "    bins=50,  # Liczba binów\n",
    "    alpha=0.8,\n",
    "    color='blue',\n",
    "    label='Entire Wikipedia',\n",
    "    density=True  # skalowanie wysokosci tak że max wynosi 1, czyli pokazujemy rozmieszczenie prawdopodobieństwa a nie rzeczywiste wartości \n",
    ")\n",
    "\n",
    "#histogram for 100nn's of Obama\n",
    "plt.hist(\n",
    "    nnn_length,\n",
    "    bins=30,\n",
    "    alpha=0.4,\n",
    "    color='red',\n",
    "    label=\"100 NN's of Obama (Euclidean)\",\n",
    "    density=True)\n",
    "\n",
    "# historiam for nn's obama but cosine \n",
    "plt.hist(\n",
    "    nn_cosine_length,\n",
    "    bins=30,\n",
    "    alpha=0.6,\n",
    "    color='yellow',\n",
    "    label=\"100 NN's of Obama (Euclidean)\",\n",
    "    density=True)\n",
    "\n",
    "\n",
    "#joe biden\n",
    "biden_length = wiki[wiki['name'] == 'Joe Biden']['length'].iloc[0]\n",
    "plt.axvline(\n",
    "    biden_length,\n",
    "    color = 'green',\n",
    "    label = 'Length of Joe Biden',\n",
    "    linestyle='dashed', \n",
    "    linewidth=2)\n",
    "\n",
    "#barack obama \n",
    "obama_length = wiki[wiki['name']== 'Barack Obama']['length'].iloc[0]\n",
    "plt.axvline(\n",
    "    obama_length,\n",
    "    color = 'black',\n",
    "    label = 'Length of Barack Obama',\n",
    "    linestyle='dashed', \n",
    "    linewidth=2)\n",
    "\n",
    "\n",
    "plt.xlabel('Document Length (words)')\n",
    "plt.xlim(0, 1000)\n",
    "plt.ylabel('Percentage')\n",
    "plt.title('Distribution of Document Length')\n",
    "plt.legend()\n",
    "plt.tight_layout()\n",
    "plt.show()"
   ],
   "outputs": [
    {
     "data": {
      "text/plain": [
       "<Figure size 1050x450 with 1 Axes>"
      ],
      "image/png": "[encoded data removed]"
     },
     "metadata": {},
     "output_type": "display_data"
    }
   ],
   "execution_count": 39
  },
  {
   "cell_type": "markdown",
   "metadata": {},
   "source": [
    "Indeed, the 100 nearest neighbors using cosine distance provide a sampling across the range of document lengths, rather than just short articles like Euclidean distance provided."
   ]
  },
  {
   "cell_type": "markdown",
   "metadata": {},
   "source": [
    "**Moral of the story**: In deciding the features and distance measures, check if they produce results that make sense for your particular application."
   ]
  },
  {
   "cell_type": "markdown",
   "metadata": {},
   "source": [
    "## Ex. 5: Problem with cosine distances: tweets vs. long articles"
   ]
  },
  {
   "cell_type": "markdown",
   "metadata": {},
   "source": [
    "Happily ever after? Not so fast. Cosine distances ignore all document lengths, which may be great in certain situations but not in others. For instance, consider the following (admittedly contrived) example."
   ]
  },
  {
   "cell_type": "markdown",
   "metadata": {},
   "source": [
    "```\n",
    "+--------------------------------------------------------+\n",
    "|                                             +--------+ |\n",
    "|  One that shall not be named                | Follow | |\n",
    "|  @username                                  +--------+ |\n",
    "|                                                        |\n",
    "|  Democratic governments control law in response to     |\n",
    "|  popular act.                                          |\n",
    "|                                                        |\n",
    "|  8:05 AM - 16 May 2016                                 |\n",
    "|                                                        |\n",
    "|  Reply   Retweet (1,332)   Like (300)                  |\n",
    "|                                                        |\n",
    "+--------------------------------------------------------+\n",
    "```"
   ]
  },
  {
   "cell_type": "markdown",
   "metadata": {},
   "source": [
    "**a)** Transform the tweet into TF-IDF features, using the fit to the Wikipedia dataset. (That is, let's treat this tweet as an article in our Wikipedia dataset and see what happens.) How similar is this tweet to Barack Obama's Wikipedia article? "
   ]
  },
  {
   "metadata": {
    "ExecuteTime": {
     "end_time": "2024-12-10T21:48:54.017738Z",
     "start_time": "2024-12-10T21:48:41.332982Z"
    }
   },
   "cell_type": "code",
   "source": [
    "tweet = pd.DataFrame({'text': ['democratic governments control law in response to popular act']})\n",
    "\n",
    "#training on full dataset (dopasowanie modelu i przekształcenie na całym zbiorze (daltego fit_transform)\n",
    "vectorizer = CountVectorizer(token_pattern=r\"(?u)\\b\\w+\\b\")\n",
    "tfidf = TfidfTransformer(smooth_idf=False, norm=None)\n",
    "WCmatrix = vectorizer.fit_transform(wiki['text'])\n",
    "TFIDFmatrix = tfidf.fit_transform(WCmatrix)\n",
    "\n",
    "#transforming data based on pre-trained model (czyli nie zmieniamy modelu, tylko na powstawie modelu wytrenowanego na całym słowniku, \n",
    "#przeksztalcamy dane zawarte w tweecie)\n",
    "tweet_matrix = vectorizer.transform(tweet['text'])  \n",
    "tweet_tfidf = tfidf.transform(tweet_matrix)  "
   ],
   "outputs": [],
   "execution_count": 40
  },
  {
   "cell_type": "code",
   "metadata": {
    "collapsed": false,
    "ExecuteTime": {
     "end_time": "2024-12-10T21:49:09.162484Z",
     "start_time": "2024-12-10T21:49:08.778211Z"
    }
   },
   "source": [
    "words = vectorizer.get_feature_names_out()\n",
    "\n",
    "tfidf_values = tweet_tfidf.toarray().flatten()\n",
    "\n",
    "df_tfidf = pd.DataFrame({\n",
    "    'word': words,\n",
    "    'tf-idf': tfidf_values\n",
    "})\n",
    "\n",
    "df_tfidf_sorted = df_tfidf.sort_values(by='tf-idf', ascending=False)\n",
    "\n",
    "df_tfidf_sorted.head(10)\n"
   ],
   "outputs": [
    {
     "data": {
      "text/plain": [
       "               word    tf-idf\n",
       "417836     response  5.261462\n",
       "221573  governments  5.167571\n",
       "138596      control  4.721765\n",
       "45084           act  4.459778\n",
       "155950   democratic  4.102672\n",
       "391376      popular  3.764479\n",
       "292533          law  3.453823\n",
       "494571           to  1.046945\n",
       "251924           in  1.000965\n",
       "0                 0  0.000000"
      ],
      "text/html": [
       "<div>\n",
       "<style scoped>\n",
       "    .dataframe tbody tr th:only-of-type {\n",
       "        vertical-align: middle;\n",
       "    }\n",
       "\n",
       "    .dataframe tbody tr th {\n",
       "        vertical-align: top;\n",
       "    }\n",
       "\n",
       "    .dataframe thead th {\n",
       "        text-align: right;\n",
       "    }\n",
       "</style>\n",
       "<table border=\"1\" class=\"dataframe\">\n",
       "  <thead>\n",
       "    <tr style=\"text-align: right;\">\n",
       "      <th></th>\n",
       "      <th>word</th>\n",
       "      <th>tf-idf</th>\n",
       "    </tr>\n",
       "  </thead>\n",
       "  <tbody>\n",
       "    <tr>\n",
       "      <th>417836</th>\n",
       "      <td>response</td>\n",
       "      <td>5.261462</td>\n",
       "    </tr>\n",
       "    <tr>\n",
       "      <th>221573</th>\n",
       "      <td>governments</td>\n",
       "      <td>5.167571</td>\n",
       "    </tr>\n",
       "    <tr>\n",
       "      <th>138596</th>\n",
       "      <td>control</td>\n",
       "      <td>4.721765</td>\n",
       "    </tr>\n",
       "    <tr>\n",
       "      <th>45084</th>\n",
       "      <td>act</td>\n",
       "      <td>4.459778</td>\n",
       "    </tr>\n",
       "    <tr>\n",
       "      <th>155950</th>\n",
       "      <td>democratic</td>\n",
       "      <td>4.102672</td>\n",
       "    </tr>\n",
       "    <tr>\n",
       "      <th>391376</th>\n",
       "      <td>popular</td>\n",
       "      <td>3.764479</td>\n",
       "    </tr>\n",
       "    <tr>\n",
       "      <th>292533</th>\n",
       "      <td>law</td>\n",
       "      <td>3.453823</td>\n",
       "    </tr>\n",
       "    <tr>\n",
       "      <th>494571</th>\n",
       "      <td>to</td>\n",
       "      <td>1.046945</td>\n",
       "    </tr>\n",
       "    <tr>\n",
       "      <th>251924</th>\n",
       "      <td>in</td>\n",
       "      <td>1.000965</td>\n",
       "    </tr>\n",
       "    <tr>\n",
       "      <th>0</th>\n",
       "      <td>0</td>\n",
       "      <td>0.000000</td>\n",
       "    </tr>\n",
       "  </tbody>\n",
       "</table>\n",
       "</div>"
      ]
     },
     "execution_count": 42,
     "metadata": {},
     "output_type": "execute_result"
    }
   ],
   "execution_count": 42
  },
  {
   "metadata": {},
   "cell_type": "markdown",
   "source": "Count is not necessary because every word in this example appears only once.  "
  },
  {
   "cell_type": "markdown",
   "metadata": {},
   "source": "Let's compare this tweet's TF-IDF vectors  to Barack Obama's Wikipedia entry."
  },
  {
   "cell_type": "code",
   "metadata": {
    "collapsed": false,
    "jupyter": {
     "outputs_hidden": false
    },
    "ExecuteTime": {
     "end_time": "2024-12-10T21:48:57.265718Z",
     "start_time": "2024-12-10T21:48:57.260145Z"
    }
   },
   "source": "obama_tf_idf ",
   "outputs": [
    {
     "data": {
      "text/plain": [
       "       words  tf-idf\n",
       "245      the    40.0\n",
       "118       in    30.0\n",
       "31       and    21.0\n",
       "165       of    18.0\n",
       "248       to    14.0\n",
       "..       ...     ...\n",
       "112     hook     1.0\n",
       "114    husen     1.0\n",
       "115  hussein     1.0\n",
       "116       ii     1.0\n",
       "272    years     1.0\n",
       "\n",
       "[273 rows x 2 columns]"
      ],
      "text/html": [
       "<div>\n",
       "<style scoped>\n",
       "    .dataframe tbody tr th:only-of-type {\n",
       "        vertical-align: middle;\n",
       "    }\n",
       "\n",
       "    .dataframe tbody tr th {\n",
       "        vertical-align: top;\n",
       "    }\n",
       "\n",
       "    .dataframe thead th {\n",
       "        text-align: right;\n",
       "    }\n",
       "</style>\n",
       "<table border=\"1\" class=\"dataframe\">\n",
       "  <thead>\n",
       "    <tr style=\"text-align: right;\">\n",
       "      <th></th>\n",
       "      <th>words</th>\n",
       "      <th>tf-idf</th>\n",
       "    </tr>\n",
       "  </thead>\n",
       "  <tbody>\n",
       "    <tr>\n",
       "      <th>245</th>\n",
       "      <td>the</td>\n",
       "      <td>40.0</td>\n",
       "    </tr>\n",
       "    <tr>\n",
       "      <th>118</th>\n",
       "      <td>in</td>\n",
       "      <td>30.0</td>\n",
       "    </tr>\n",
       "    <tr>\n",
       "      <th>31</th>\n",
       "      <td>and</td>\n",
       "      <td>21.0</td>\n",
       "    </tr>\n",
       "    <tr>\n",
       "      <th>165</th>\n",
       "      <td>of</td>\n",
       "      <td>18.0</td>\n",
       "    </tr>\n",
       "    <tr>\n",
       "      <th>248</th>\n",
       "      <td>to</td>\n",
       "      <td>14.0</td>\n",
       "    </tr>\n",
       "    <tr>\n",
       "      <th>...</th>\n",
       "      <td>...</td>\n",
       "      <td>...</td>\n",
       "    </tr>\n",
       "    <tr>\n",
       "      <th>112</th>\n",
       "      <td>hook</td>\n",
       "      <td>1.0</td>\n",
       "    </tr>\n",
       "    <tr>\n",
       "      <th>114</th>\n",
       "      <td>husen</td>\n",
       "      <td>1.0</td>\n",
       "    </tr>\n",
       "    <tr>\n",
       "      <th>115</th>\n",
       "      <td>hussein</td>\n",
       "      <td>1.0</td>\n",
       "    </tr>\n",
       "    <tr>\n",
       "      <th>116</th>\n",
       "      <td>ii</td>\n",
       "      <td>1.0</td>\n",
       "    </tr>\n",
       "    <tr>\n",
       "      <th>272</th>\n",
       "      <td>years</td>\n",
       "      <td>1.0</td>\n",
       "    </tr>\n",
       "  </tbody>\n",
       "</table>\n",
       "<p>273 rows × 2 columns</p>\n",
       "</div>"
      ]
     },
     "execution_count": 41,
     "metadata": {},
     "output_type": "execute_result"
    }
   ],
   "execution_count": 41
  },
  {
   "cell_type": "markdown",
   "metadata": {},
   "source": [
    "**b)** Now, compute the cosine distance between the Barack Obama article and this tweet:"
   ]
  },
  {
   "cell_type": "code",
   "execution_count": 418,
   "metadata": {
    "collapsed": false,
    "jupyter": {
     "outputs_hidden": false
    }
   },
   "outputs": [
    {
     "data": {
      "text/plain": [
       "array([[0.69866453]])"
      ]
     },
     "execution_count": 418,
     "metadata": {},
     "output_type": "execute_result"
    }
   ],
   "source": [
    "from sklearn.metrics.pairwise import cosine_distances # for one pair of samples we can just use this function\n",
    "\n",
    "# Your code goes here"
   ]
  },
  {
   "cell_type": "markdown",
   "metadata": {},
   "source": [
    "Let's compare this distance to the distance between the Barack Obama article and all of its Wikipedia nearest neighbors:"
   ]
  },
  {
   "cell_type": "code",
   "metadata": {
    "collapsed": false,
    "jupyter": {
     "outputs_hidden": false
    },
    "ExecuteTime": {
     "end_time": "2024-12-10T21:49:13.566815Z",
     "start_time": "2024-12-10T21:49:13.559458Z"
    }
   },
   "source": [
    "nn_cosine['BO-cosine-TF-IDF'] = [round(val, 6) for val in nn_cosine['BO-cosine-TF-IDF'] ]\n",
    "nn_cosine[0:23]"
   ],
   "outputs": [
    {
     "data": {
      "text/plain": [
       "                              name  length  BO-cosine-TF-IDF\n",
       "35817                 Barack Obama     540          0.000000\n",
       "24478                    Joe Biden     414          0.572725\n",
       "57108       Hillary Rodham Clinton     580          0.616149\n",
       "38376               Samantha Power     310          0.625797\n",
       "38714      Eric Stern (politician)     255          0.651475\n",
       "28447               George W. Bush     505          0.659478\n",
       "39357                  John McCain     410          0.661645\n",
       "48693                  Artur Davis     371          0.666690\n",
       "18827                 Henry Waxman     279          0.671226\n",
       "37199      Barry Sullivan (lawyer)     893          0.673300\n",
       "46811                Jeff Sessions     230          0.673581\n",
       "36452                 Bill Clinton     524          0.675260\n",
       "6796                   Eric Holder     232          0.677451\n",
       "24848              John C. Eastman     366          0.679724\n",
       "36425         Edward B. Montgomery     331          0.681387\n",
       "14754                  Mitt Romney     502          0.681761\n",
       "35357             Lawrence Summers     413          0.687272\n",
       "47303                   John Kerry     410          0.692701\n",
       "34344  Mary Dawson (civil servant)     434          0.696581\n",
       "55181                     Ron Paul     427          0.696642\n",
       "4565           Robinson O. Everett     764          0.698133\n",
       "46140                 Robert Gibbs     257          0.698549\n",
       "52859                    Ann Lewis     634          0.698799"
      ],
      "text/html": [
       "<div>\n",
       "<style scoped>\n",
       "    .dataframe tbody tr th:only-of-type {\n",
       "        vertical-align: middle;\n",
       "    }\n",
       "\n",
       "    .dataframe tbody tr th {\n",
       "        vertical-align: top;\n",
       "    }\n",
       "\n",
       "    .dataframe thead th {\n",
       "        text-align: right;\n",
       "    }\n",
       "</style>\n",
       "<table border=\"1\" class=\"dataframe\">\n",
       "  <thead>\n",
       "    <tr style=\"text-align: right;\">\n",
       "      <th></th>\n",
       "      <th>name</th>\n",
       "      <th>length</th>\n",
       "      <th>BO-cosine-TF-IDF</th>\n",
       "    </tr>\n",
       "  </thead>\n",
       "  <tbody>\n",
       "    <tr>\n",
       "      <th>35817</th>\n",
       "      <td>Barack Obama</td>\n",
       "      <td>540</td>\n",
       "      <td>0.000000</td>\n",
       "    </tr>\n",
       "    <tr>\n",
       "      <th>24478</th>\n",
       "      <td>Joe Biden</td>\n",
       "      <td>414</td>\n",
       "      <td>0.572725</td>\n",
       "    </tr>\n",
       "    <tr>\n",
       "      <th>57108</th>\n",
       "      <td>Hillary Rodham Clinton</td>\n",
       "      <td>580</td>\n",
       "      <td>0.616149</td>\n",
       "    </tr>\n",
       "    <tr>\n",
       "      <th>38376</th>\n",
       "      <td>Samantha Power</td>\n",
       "      <td>310</td>\n",
       "      <td>0.625797</td>\n",
       "    </tr>\n",
       "    <tr>\n",
       "      <th>38714</th>\n",
       "      <td>Eric Stern (politician)</td>\n",
       "      <td>255</td>\n",
       "      <td>0.651475</td>\n",
       "    </tr>\n",
       "    <tr>\n",
       "      <th>28447</th>\n",
       "      <td>George W. Bush</td>\n",
       "      <td>505</td>\n",
       "      <td>0.659478</td>\n",
       "    </tr>\n",
       "    <tr>\n",
       "      <th>39357</th>\n",
       "      <td>John McCain</td>\n",
       "      <td>410</td>\n",
       "      <td>0.661645</td>\n",
       "    </tr>\n",
       "    <tr>\n",
       "      <th>48693</th>\n",
       "      <td>Artur Davis</td>\n",
       "      <td>371</td>\n",
       "      <td>0.666690</td>\n",
       "    </tr>\n",
       "    <tr>\n",
       "      <th>18827</th>\n",
       "      <td>Henry Waxman</td>\n",
       "      <td>279</td>\n",
       "      <td>0.671226</td>\n",
       "    </tr>\n",
       "    <tr>\n",
       "      <th>37199</th>\n",
       "      <td>Barry Sullivan (lawyer)</td>\n",
       "      <td>893</td>\n",
       "      <td>0.673300</td>\n",
       "    </tr>\n",
       "    <tr>\n",
       "      <th>46811</th>\n",
       "      <td>Jeff Sessions</td>\n",
       "      <td>230</td>\n",
       "      <td>0.673581</td>\n",
       "    </tr>\n",
       "    <tr>\n",
       "      <th>36452</th>\n",
       "      <td>Bill Clinton</td>\n",
       "      <td>524</td>\n",
       "      <td>0.675260</td>\n",
       "    </tr>\n",
       "    <tr>\n",
       "      <th>6796</th>\n",
       "      <td>Eric Holder</td>\n",
       "      <td>232</td>\n",
       "      <td>0.677451</td>\n",
       "    </tr>\n",
       "    <tr>\n",
       "      <th>24848</th>\n",
       "      <td>John C. Eastman</td>\n",
       "      <td>366</td>\n",
       "      <td>0.679724</td>\n",
       "    </tr>\n",
       "    <tr>\n",
       "      <th>36425</th>\n",
       "      <td>Edward B. Montgomery</td>\n",
       "      <td>331</td>\n",
       "      <td>0.681387</td>\n",
       "    </tr>\n",
       "    <tr>\n",
       "      <th>14754</th>\n",
       "      <td>Mitt Romney</td>\n",
       "      <td>502</td>\n",
       "      <td>0.681761</td>\n",
       "    </tr>\n",
       "    <tr>\n",
       "      <th>35357</th>\n",
       "      <td>Lawrence Summers</td>\n",
       "      <td>413</td>\n",
       "      <td>0.687272</td>\n",
       "    </tr>\n",
       "    <tr>\n",
       "      <th>47303</th>\n",
       "      <td>John Kerry</td>\n",
       "      <td>410</td>\n",
       "      <td>0.692701</td>\n",
       "    </tr>\n",
       "    <tr>\n",
       "      <th>34344</th>\n",
       "      <td>Mary Dawson (civil servant)</td>\n",
       "      <td>434</td>\n",
       "      <td>0.696581</td>\n",
       "    </tr>\n",
       "    <tr>\n",
       "      <th>55181</th>\n",
       "      <td>Ron Paul</td>\n",
       "      <td>427</td>\n",
       "      <td>0.696642</td>\n",
       "    </tr>\n",
       "    <tr>\n",
       "      <th>4565</th>\n",
       "      <td>Robinson O. Everett</td>\n",
       "      <td>764</td>\n",
       "      <td>0.698133</td>\n",
       "    </tr>\n",
       "    <tr>\n",
       "      <th>46140</th>\n",
       "      <td>Robert Gibbs</td>\n",
       "      <td>257</td>\n",
       "      <td>0.698549</td>\n",
       "    </tr>\n",
       "    <tr>\n",
       "      <th>52859</th>\n",
       "      <td>Ann Lewis</td>\n",
       "      <td>634</td>\n",
       "      <td>0.698799</td>\n",
       "    </tr>\n",
       "  </tbody>\n",
       "</table>\n",
       "</div>"
      ]
     },
     "execution_count": 43,
     "metadata": {},
     "output_type": "execute_result"
    }
   ],
   "execution_count": 43
  },
  {
   "cell_type": "markdown",
   "metadata": {},
   "source": [
    "With cosine distances, the tweet is \"nearer\" to Barack Obama than most people! If someone is reading the Barack Obama Wikipedia page, would you want to recommend they read this tweet?\n",
    "In practice, it is common to enforce maximum or minimum document lengths. After all, when someone is reading a long article from _The Atlantic_, you wouldn't recommend him/her a tweet."
   ]
  }
 ],
 "metadata": {
  "anaconda-cloud": {},
  "kernelspec": {
   "display_name": "Python 3 (ipykernel)",
   "language": "python",
   "name": "python3"
  },
  "language_info": {
   "codemirror_mode": {
    "name": "ipython",
    "version": 2
   },
   "file_extension": ".py",
   "mimetype": "text/x-python",
   "name": "python",
   "nbconvert_exporter": "python",
   "pygments_lexer": "ipython2",
   "version": "2.7.12"
  }
 },
 "nbformat": 4,
 "nbformat_minor": 4
}
