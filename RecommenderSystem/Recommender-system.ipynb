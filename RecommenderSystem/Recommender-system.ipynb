{
 "cells": [
  {
   "metadata": {},
   "cell_type": "markdown",
   "source": [
    "# ADAM NOWAK\n",
    "https://www.geeksforgeeks.org/recommendation-system-in-python/"
   ],
   "id": "a2f395cb981875ce"
  },
  {
   "metadata": {},
   "cell_type": "markdown",
   "source": [
    "### CONTENT-BASED RECOMMENDATION SYSTEM \n",
    "#### Item profile\n",
    "1. TF - term frequency -  It displays the regularity with which a certain term or word occurs in a text corpus or document. - IS USED TO RANK TERM in the document - identifying important terms in the document\n",
    "2. IDF - inverse document frequency - is employed in text analysis and information retrieval to evaluate the significance of phrases within a set of documents. IDF measures how uncommon or unique a term is in the corpus. - common terms has low ITF values, when rare items high. \n",
    "\n",
    "We're going to use TF-IDF vectorizer to count the number of times element appear and to measure how significant its role is. \n",
    "\n",
    "$TF-IDFscore(w_{ij}) = TF_{ij} * IDF_i$\n",
    "\n",
    "#### User profile \n",
    "User profile is a vector which describes user preferences. \n",
    "During the creation of the user’s profile, we use a utility matrix that describes the relationship between user and item. \n",
    "\n",
    "\n",
    "Problems which this system contains: \n",
    "1. Finding the appropriate feature is hard.\n",
    "2. Doesn’t recommend items outside the user profile."
   ],
   "id": "b5b8dfd656010ed4"
  },
  {
   "metadata": {},
   "cell_type": "markdown",
   "source": [
    "## Collaborative Filtering\n",
    "Collaborative filtering is based on the idea that similar people (based on the data) generally tend to like similar things. It predicts which item a user will like based on the item preferences of other similar users. \n",
    "\n",
    "This system uses user-item matrix to generate recommendations. \n",
    "This matrix contains the values that indicate a user’s preference towards a given item. These values can represent either explicit feedback (direct user ratings) or implicit feedback (indirect user behavior such as listening, purchasing, watching).\n",
    "1. explicit feedback - the amount of data collected from the users when they choose to do so (personal ratings). - USER TELLS WHAT he/she LIKES!\n",
    "2. implicit feedback - we track user behavior to predict their preference. - we try to infer what she/he likes from usage data. \n",
    "\n",
    "Problems: \n",
    "1. Hard to find new features which improves quality of the model. \n",
    "2. cannot handle fresh item - cold start. \n"
   ],
   "id": "354d573dfd4a4c93"
  },
  {
   "metadata": {},
   "cell_type": "markdown",
   "source": [
    "### General Information: \n",
    "#### Problems: \n",
    "1. Cold start problem. \n",
    "2. evolving with time. \n",
    "3. scalability \n",
    "\n",
    "#### Approaches to build such a system: \n",
    "1. Popularity \n",
    "2. Classification model - based on some features like (purchase history or product info classifier can count the probability that the user will buy some product) - less efficient than collaborative filtering methods. \n",
    "3. co-occurrence \n",
    "4. matrix factorization \n",
    "\n",
    "\n"
   ],
   "id": "a719d8b996598d5d"
  },
  {
   "metadata": {},
   "cell_type": "markdown",
   "source": "# Book recommendation system",
   "id": "e2a5c62affafe7f3"
  },
  {
   "metadata": {
    "ExecuteTime": {
     "end_time": "2024-12-28T23:26:34.103139Z",
     "start_time": "2024-12-28T23:26:32.305035Z"
    }
   },
   "cell_type": "code",
   "source": [
    "import numpy as np\n",
    "import pandas as pd\n",
    "\n",
    "books_df = pd.read_csv('Books.csv')\n",
    "ratings_df = pd.read_csv('Ratings.csv')\n",
    "users_df = pd.read_csv('Users.csv')"
   ],
   "id": "e4361faf07839907",
   "outputs": [
    {
     "name": "stderr",
     "output_type": "stream",
     "text": [
      "/var/folders/1_/_d0g9n0d6qg8j72vvxsrnksw0000gn/T/ipykernel_86258/2779536466.py:4: DtypeWarning: Columns (3) have mixed types. Specify dtype option on import or set low_memory=False.\n",
      "  books_df = pd.read_csv('Books.csv')\n"
     ]
    }
   ],
   "execution_count": 2
  },
  {
   "metadata": {
    "ExecuteTime": {
     "end_time": "2024-12-28T23:26:37.840635Z",
     "start_time": "2024-12-28T23:26:37.757118Z"
    }
   },
   "cell_type": "code",
   "source": "books_df.info()",
   "id": "4bf15d9e1c6ac8e1",
   "outputs": [
    {
     "name": "stdout",
     "output_type": "stream",
     "text": [
      "<class 'pandas.core.frame.DataFrame'>\n",
      "RangeIndex: 271360 entries, 0 to 271359\n",
      "Data columns (total 8 columns):\n",
      " #   Column               Non-Null Count   Dtype \n",
      "---  ------               --------------   ----- \n",
      " 0   ISBN                 271360 non-null  object\n",
      " 1   Book-Title           271360 non-null  object\n",
      " 2   Book-Author          271358 non-null  object\n",
      " 3   Year-Of-Publication  271360 non-null  object\n",
      " 4   Publisher            271358 non-null  object\n",
      " 5   Image-URL-S          271360 non-null  object\n",
      " 6   Image-URL-M          271360 non-null  object\n",
      " 7   Image-URL-L          271357 non-null  object\n",
      "dtypes: object(8)\n",
      "memory usage: 16.6+ MB\n"
     ]
    }
   ],
   "execution_count": 3
  },
  {
   "metadata": {
    "ExecuteTime": {
     "end_time": "2024-12-28T23:26:40.019974Z",
     "start_time": "2024-12-28T23:26:39.959632Z"
    }
   },
   "cell_type": "code",
   "source": [
    "books_df = books_df[['ISBN', 'Book-Title', 'Book-Author']]\n",
    "books_df.info()"
   ],
   "id": "e0a5552a50acaa98",
   "outputs": [
    {
     "name": "stdout",
     "output_type": "stream",
     "text": [
      "<class 'pandas.core.frame.DataFrame'>\n",
      "RangeIndex: 271360 entries, 0 to 271359\n",
      "Data columns (total 3 columns):\n",
      " #   Column       Non-Null Count   Dtype \n",
      "---  ------       --------------   ----- \n",
      " 0   ISBN         271360 non-null  object\n",
      " 1   Book-Title   271360 non-null  object\n",
      " 2   Book-Author  271358 non-null  object\n",
      "dtypes: object(3)\n",
      "memory usage: 6.2+ MB\n"
     ]
    }
   ],
   "execution_count": 4
  },
  {
   "metadata": {
    "ExecuteTime": {
     "end_time": "2024-12-28T23:26:42.663518Z",
     "start_time": "2024-12-28T23:26:42.611383Z"
    }
   },
   "cell_type": "code",
   "source": "books_df.dropna(inplace=True)",
   "id": "eb1bbc37c26d7231",
   "outputs": [],
   "execution_count": 5
  },
  {
   "metadata": {
    "ExecuteTime": {
     "end_time": "2024-12-28T23:26:43.318920Z",
     "start_time": "2024-12-28T23:26:43.312519Z"
    }
   },
   "cell_type": "code",
   "source": "books_df.shape",
   "id": "411be7921cc7472",
   "outputs": [
    {
     "data": {
      "text/plain": [
       "(271358, 3)"
      ]
     },
     "execution_count": 6,
     "metadata": {},
     "output_type": "execute_result"
    }
   ],
   "execution_count": 6
  },
  {
   "metadata": {
    "ExecuteTime": {
     "end_time": "2024-12-28T23:26:44.308991Z",
     "start_time": "2024-12-28T23:26:44.305375Z"
    }
   },
   "cell_type": "code",
   "source": "ratings_df.shape",
   "id": "528ffb5468364b53",
   "outputs": [
    {
     "data": {
      "text/plain": [
       "(1149780, 3)"
      ]
     },
     "execution_count": 7,
     "metadata": {},
     "output_type": "execute_result"
    }
   ],
   "execution_count": 7
  },
  {
   "metadata": {
    "ExecuteTime": {
     "end_time": "2024-12-28T23:26:45.525272Z",
     "start_time": "2024-12-28T23:26:45.441864Z"
    }
   },
   "cell_type": "code",
   "source": "ratings_df = ratings_df.dropna(subset=['ISBN', 'Book-Rating'])",
   "id": "27e77b19158b0616",
   "outputs": [],
   "execution_count": 8
  },
  {
   "metadata": {
    "ExecuteTime": {
     "end_time": "2024-12-28T23:26:47.019205Z",
     "start_time": "2024-12-28T23:26:46.489487Z"
    }
   },
   "cell_type": "code",
   "source": [
    "#merging datasets and dropping useless columns \n",
    "book_user_rating = books_df.merge(ratings_df, on='ISBN', how='inner')\n",
    "book_user_rating = book_user_rating[['ISBN', 'Book-Title', 'Book-Author', 'User-ID', 'Book-Rating']]\n",
    "\n",
    "book_user_rating.head(10)"
   ],
   "id": "9a093fee2f92bb18",
   "outputs": [
    {
     "data": {
      "text/plain": [
       "         ISBN           Book-Title           Book-Author  User-ID  Book-Rating\n",
       "0  0195153448  Classical Mythology    Mark P. O. Morford        2            0\n",
       "1  0002005018         Clara Callan  Richard Bruce Wright        8            5\n",
       "2  0002005018         Clara Callan  Richard Bruce Wright    11400            0\n",
       "3  0002005018         Clara Callan  Richard Bruce Wright    11676            8\n",
       "4  0002005018         Clara Callan  Richard Bruce Wright    41385            0\n",
       "5  0002005018         Clara Callan  Richard Bruce Wright    67544            8\n",
       "6  0002005018         Clara Callan  Richard Bruce Wright    85526            0\n",
       "7  0002005018         Clara Callan  Richard Bruce Wright    96054            0\n",
       "8  0002005018         Clara Callan  Richard Bruce Wright   116866            9\n",
       "9  0002005018         Clara Callan  Richard Bruce Wright   123629            9"
      ],
      "text/html": [
       "<div>\n",
       "<style scoped>\n",
       "    .dataframe tbody tr th:only-of-type {\n",
       "        vertical-align: middle;\n",
       "    }\n",
       "\n",
       "    .dataframe tbody tr th {\n",
       "        vertical-align: top;\n",
       "    }\n",
       "\n",
       "    .dataframe thead th {\n",
       "        text-align: right;\n",
       "    }\n",
       "</style>\n",
       "<table border=\"1\" class=\"dataframe\">\n",
       "  <thead>\n",
       "    <tr style=\"text-align: right;\">\n",
       "      <th></th>\n",
       "      <th>ISBN</th>\n",
       "      <th>Book-Title</th>\n",
       "      <th>Book-Author</th>\n",
       "      <th>User-ID</th>\n",
       "      <th>Book-Rating</th>\n",
       "    </tr>\n",
       "  </thead>\n",
       "  <tbody>\n",
       "    <tr>\n",
       "      <th>0</th>\n",
       "      <td>0195153448</td>\n",
       "      <td>Classical Mythology</td>\n",
       "      <td>Mark P. O. Morford</td>\n",
       "      <td>2</td>\n",
       "      <td>0</td>\n",
       "    </tr>\n",
       "    <tr>\n",
       "      <th>1</th>\n",
       "      <td>0002005018</td>\n",
       "      <td>Clara Callan</td>\n",
       "      <td>Richard Bruce Wright</td>\n",
       "      <td>8</td>\n",
       "      <td>5</td>\n",
       "    </tr>\n",
       "    <tr>\n",
       "      <th>2</th>\n",
       "      <td>0002005018</td>\n",
       "      <td>Clara Callan</td>\n",
       "      <td>Richard Bruce Wright</td>\n",
       "      <td>11400</td>\n",
       "      <td>0</td>\n",
       "    </tr>\n",
       "    <tr>\n",
       "      <th>3</th>\n",
       "      <td>0002005018</td>\n",
       "      <td>Clara Callan</td>\n",
       "      <td>Richard Bruce Wright</td>\n",
       "      <td>11676</td>\n",
       "      <td>8</td>\n",
       "    </tr>\n",
       "    <tr>\n",
       "      <th>4</th>\n",
       "      <td>0002005018</td>\n",
       "      <td>Clara Callan</td>\n",
       "      <td>Richard Bruce Wright</td>\n",
       "      <td>41385</td>\n",
       "      <td>0</td>\n",
       "    </tr>\n",
       "    <tr>\n",
       "      <th>5</th>\n",
       "      <td>0002005018</td>\n",
       "      <td>Clara Callan</td>\n",
       "      <td>Richard Bruce Wright</td>\n",
       "      <td>67544</td>\n",
       "      <td>8</td>\n",
       "    </tr>\n",
       "    <tr>\n",
       "      <th>6</th>\n",
       "      <td>0002005018</td>\n",
       "      <td>Clara Callan</td>\n",
       "      <td>Richard Bruce Wright</td>\n",
       "      <td>85526</td>\n",
       "      <td>0</td>\n",
       "    </tr>\n",
       "    <tr>\n",
       "      <th>7</th>\n",
       "      <td>0002005018</td>\n",
       "      <td>Clara Callan</td>\n",
       "      <td>Richard Bruce Wright</td>\n",
       "      <td>96054</td>\n",
       "      <td>0</td>\n",
       "    </tr>\n",
       "    <tr>\n",
       "      <th>8</th>\n",
       "      <td>0002005018</td>\n",
       "      <td>Clara Callan</td>\n",
       "      <td>Richard Bruce Wright</td>\n",
       "      <td>116866</td>\n",
       "      <td>9</td>\n",
       "    </tr>\n",
       "    <tr>\n",
       "      <th>9</th>\n",
       "      <td>0002005018</td>\n",
       "      <td>Clara Callan</td>\n",
       "      <td>Richard Bruce Wright</td>\n",
       "      <td>123629</td>\n",
       "      <td>9</td>\n",
       "    </tr>\n",
       "  </tbody>\n",
       "</table>\n",
       "</div>"
      ]
     },
     "execution_count": 9,
     "metadata": {},
     "output_type": "execute_result"
    }
   ],
   "execution_count": 9
  },
  {
   "metadata": {
    "ExecuteTime": {
     "end_time": "2024-12-28T23:26:48.477294Z",
     "start_time": "2024-12-28T23:26:48.470745Z"
    }
   },
   "cell_type": "code",
   "source": "users_df.head(10)",
   "id": "8db5f1b0d387c82",
   "outputs": [
    {
     "data": {
      "text/plain": [
       "   User-ID                            Location   Age\n",
       "0        1                  nyc, new york, usa   NaN\n",
       "1        2           stockton, california, usa  18.0\n",
       "2        3     moscow, yukon territory, russia   NaN\n",
       "3        4           porto, v.n.gaia, portugal  17.0\n",
       "4        5  farnborough, hants, united kingdom   NaN\n",
       "5        6       santa monica, california, usa  61.0\n",
       "6        7                 washington, dc, usa   NaN\n",
       "7        8            timmins, ontario, canada   NaN\n",
       "8        9          germantown, tennessee, usa   NaN\n",
       "9       10          albacete, wisconsin, spain  26.0"
      ],
      "text/html": [
       "<div>\n",
       "<style scoped>\n",
       "    .dataframe tbody tr th:only-of-type {\n",
       "        vertical-align: middle;\n",
       "    }\n",
       "\n",
       "    .dataframe tbody tr th {\n",
       "        vertical-align: top;\n",
       "    }\n",
       "\n",
       "    .dataframe thead th {\n",
       "        text-align: right;\n",
       "    }\n",
       "</style>\n",
       "<table border=\"1\" class=\"dataframe\">\n",
       "  <thead>\n",
       "    <tr style=\"text-align: right;\">\n",
       "      <th></th>\n",
       "      <th>User-ID</th>\n",
       "      <th>Location</th>\n",
       "      <th>Age</th>\n",
       "    </tr>\n",
       "  </thead>\n",
       "  <tbody>\n",
       "    <tr>\n",
       "      <th>0</th>\n",
       "      <td>1</td>\n",
       "      <td>nyc, new york, usa</td>\n",
       "      <td>NaN</td>\n",
       "    </tr>\n",
       "    <tr>\n",
       "      <th>1</th>\n",
       "      <td>2</td>\n",
       "      <td>stockton, california, usa</td>\n",
       "      <td>18.0</td>\n",
       "    </tr>\n",
       "    <tr>\n",
       "      <th>2</th>\n",
       "      <td>3</td>\n",
       "      <td>moscow, yukon territory, russia</td>\n",
       "      <td>NaN</td>\n",
       "    </tr>\n",
       "    <tr>\n",
       "      <th>3</th>\n",
       "      <td>4</td>\n",
       "      <td>porto, v.n.gaia, portugal</td>\n",
       "      <td>17.0</td>\n",
       "    </tr>\n",
       "    <tr>\n",
       "      <th>4</th>\n",
       "      <td>5</td>\n",
       "      <td>farnborough, hants, united kingdom</td>\n",
       "      <td>NaN</td>\n",
       "    </tr>\n",
       "    <tr>\n",
       "      <th>5</th>\n",
       "      <td>6</td>\n",
       "      <td>santa monica, california, usa</td>\n",
       "      <td>61.0</td>\n",
       "    </tr>\n",
       "    <tr>\n",
       "      <th>6</th>\n",
       "      <td>7</td>\n",
       "      <td>washington, dc, usa</td>\n",
       "      <td>NaN</td>\n",
       "    </tr>\n",
       "    <tr>\n",
       "      <th>7</th>\n",
       "      <td>8</td>\n",
       "      <td>timmins, ontario, canada</td>\n",
       "      <td>NaN</td>\n",
       "    </tr>\n",
       "    <tr>\n",
       "      <th>8</th>\n",
       "      <td>9</td>\n",
       "      <td>germantown, tennessee, usa</td>\n",
       "      <td>NaN</td>\n",
       "    </tr>\n",
       "    <tr>\n",
       "      <th>9</th>\n",
       "      <td>10</td>\n",
       "      <td>albacete, wisconsin, spain</td>\n",
       "      <td>26.0</td>\n",
       "    </tr>\n",
       "  </tbody>\n",
       "</table>\n",
       "</div>"
      ]
     },
     "execution_count": 10,
     "metadata": {},
     "output_type": "execute_result"
    }
   ],
   "execution_count": 10
  },
  {
   "metadata": {
    "ExecuteTime": {
     "end_time": "2024-12-28T23:26:50.925276Z",
     "start_time": "2024-12-28T23:26:50.789959Z"
    }
   },
   "cell_type": "code",
   "source": [
    "print(f\"Unique users: {ratings_df['User-ID'].nunique()}\")\n",
    "print(f\"Unique books: {ratings_df['ISBN'].nunique()}\")"
   ],
   "id": "c2352f80e3e6ca91",
   "outputs": [
    {
     "name": "stdout",
     "output_type": "stream",
     "text": [
      "Unique users: 105283\n",
      "Unique books: 340556\n"
     ]
    }
   ],
   "execution_count": 11
  },
  {
   "metadata": {
    "ExecuteTime": {
     "end_time": "2024-12-28T23:26:52.884445Z",
     "start_time": "2024-12-28T23:26:52.818903Z"
    }
   },
   "cell_type": "code",
   "source": [
    "#list of some books\n",
    "selected_books = [\"Where the Heart Is (Oprah's Book Club (Paperback))\",\n",
    "                  \"The Surgeon\",\n",
    "                  \"I Know This Much Is True\"]\n",
    "\n",
    "filtered_books = book_user_rating[book_user_rating['Book-Title'].isin(selected_books)]\n",
    "\n",
    "#gruop by title and count reviews \n",
    "reviews_count = filtered_books.groupby('Book-Title')['Book-Rating'].count()\n",
    "\n",
    "print(reviews_count)"
   ],
   "id": "560181ec41d32658",
   "outputs": [
    {
     "name": "stdout",
     "output_type": "stream",
     "text": [
      "Book-Title\n",
      "I Know This Much Is True                              276\n",
      "The Surgeon                                           175\n",
      "Where the Heart Is (Oprah's Book Club (Paperback))    585\n",
      "Name: Book-Rating, dtype: int64\n"
     ]
    }
   ],
   "execution_count": 12
  },
  {
   "metadata": {
    "ExecuteTime": {
     "end_time": "2024-12-28T23:28:20.277582Z",
     "start_time": "2024-12-28T23:28:20.274818Z"
    }
   },
   "cell_type": "code",
   "source": "book_user_rating.shape",
   "id": "1aa2525c60cc0371",
   "outputs": [
    {
     "data": {
      "text/plain": [
       "(1031134, 5)"
      ]
     },
     "execution_count": 13,
     "metadata": {},
     "output_type": "execute_result"
    }
   ],
   "execution_count": 13
  },
  {
   "metadata": {},
   "cell_type": "markdown",
   "source": "#### Only books with more than 100 reviews and users with more than 20 reviews ",
   "id": "f03a2c8bf9126931"
  },
  {
   "metadata": {
    "ExecuteTime": {
     "end_time": "2024-12-28T23:31:55.295169Z",
     "start_time": "2024-12-28T23:31:55.116995Z"
    }
   },
   "cell_type": "code",
   "source": [
    "book_counts = book_user_rating['Book-Title'].value_counts()\n",
    "popular_books = book_counts[book_counts > 100].index\n",
    "filtered_books = book_user_rating[book_user_rating['Book-Title'].isin(popular_books)]\n",
    "filtered_books.shape"
   ],
   "id": "3a97685dfc7ac77a",
   "outputs": [
    {
     "data": {
      "text/plain": [
       "(182799, 5)"
      ]
     },
     "execution_count": 17,
     "metadata": {},
     "output_type": "execute_result"
    }
   ],
   "execution_count": 17
  },
  {
   "metadata": {
    "ExecuteTime": {
     "end_time": "2024-12-29T09:30:46.328115Z",
     "start_time": "2024-12-29T09:30:46.306011Z"
    }
   },
   "cell_type": "code",
   "source": [
    "user_counts = filtered_books['User-ID'].value_counts()\n",
    "active_users = user_counts[user_counts > 20].index\n",
    "filtered_data = filtered_books[filtered_books['User-ID'].isin(active_users)]\n",
    "filtered_data.shape"
   ],
   "id": "a79bd0b99c6d7712",
   "outputs": [
    {
     "data": {
      "text/plain": [
       "(92883, 5)"
      ]
     },
     "execution_count": 32,
     "metadata": {},
     "output_type": "execute_result"
    }
   ],
   "execution_count": 32
  },
  {
   "metadata": {
    "ExecuteTime": {
     "end_time": "2024-12-29T09:30:50.785342Z",
     "start_time": "2024-12-29T09:30:50.764674Z"
    }
   },
   "cell_type": "code",
   "source": [
    "prepared_data = filtered_data.sort_values(by=['Book-Title', 'User-ID'])\n",
    "prepared_data.shape"
   ],
   "id": "8facddd3c481787c",
   "outputs": [
    {
     "data": {
      "text/plain": [
       "(92883, 5)"
      ]
     },
     "execution_count": 33,
     "metadata": {},
     "output_type": "execute_result"
    }
   ],
   "execution_count": 33
  },
  {
   "metadata": {
    "ExecuteTime": {
     "end_time": "2024-12-29T09:30:53.986220Z",
     "start_time": "2024-12-29T09:30:53.978714Z"
    }
   },
   "cell_type": "code",
   "source": "prepared_data.head(5)",
   "id": "33639e51f83d8948",
   "outputs": [
    {
     "data": {
      "text/plain": [
       "              ISBN Book-Title    Book-Author  User-ID  Book-Rating\n",
       "94366   0451524934       1984  George Orwell      254            9\n",
       "240083  0451519841       1984  George Orwell     7346            8\n",
       "94372   0451524934       1984  George Orwell    11676            0\n",
       "240085  0451519841       1984  George Orwell    11676            0\n",
       "307406  0452262933       1984  George Orwell    11676           10"
      ],
      "text/html": [
       "<div>\n",
       "<style scoped>\n",
       "    .dataframe tbody tr th:only-of-type {\n",
       "        vertical-align: middle;\n",
       "    }\n",
       "\n",
       "    .dataframe tbody tr th {\n",
       "        vertical-align: top;\n",
       "    }\n",
       "\n",
       "    .dataframe thead th {\n",
       "        text-align: right;\n",
       "    }\n",
       "</style>\n",
       "<table border=\"1\" class=\"dataframe\">\n",
       "  <thead>\n",
       "    <tr style=\"text-align: right;\">\n",
       "      <th></th>\n",
       "      <th>ISBN</th>\n",
       "      <th>Book-Title</th>\n",
       "      <th>Book-Author</th>\n",
       "      <th>User-ID</th>\n",
       "      <th>Book-Rating</th>\n",
       "    </tr>\n",
       "  </thead>\n",
       "  <tbody>\n",
       "    <tr>\n",
       "      <th>94366</th>\n",
       "      <td>0451524934</td>\n",
       "      <td>1984</td>\n",
       "      <td>George Orwell</td>\n",
       "      <td>254</td>\n",
       "      <td>9</td>\n",
       "    </tr>\n",
       "    <tr>\n",
       "      <th>240083</th>\n",
       "      <td>0451519841</td>\n",
       "      <td>1984</td>\n",
       "      <td>George Orwell</td>\n",
       "      <td>7346</td>\n",
       "      <td>8</td>\n",
       "    </tr>\n",
       "    <tr>\n",
       "      <th>94372</th>\n",
       "      <td>0451524934</td>\n",
       "      <td>1984</td>\n",
       "      <td>George Orwell</td>\n",
       "      <td>11676</td>\n",
       "      <td>0</td>\n",
       "    </tr>\n",
       "    <tr>\n",
       "      <th>240085</th>\n",
       "      <td>0451519841</td>\n",
       "      <td>1984</td>\n",
       "      <td>George Orwell</td>\n",
       "      <td>11676</td>\n",
       "      <td>0</td>\n",
       "    </tr>\n",
       "    <tr>\n",
       "      <th>307406</th>\n",
       "      <td>0452262933</td>\n",
       "      <td>1984</td>\n",
       "      <td>George Orwell</td>\n",
       "      <td>11676</td>\n",
       "      <td>10</td>\n",
       "    </tr>\n",
       "  </tbody>\n",
       "</table>\n",
       "</div>"
      ]
     },
     "execution_count": 34,
     "metadata": {},
     "output_type": "execute_result"
    }
   ],
   "execution_count": 34
  },
  {
   "metadata": {
    "ExecuteTime": {
     "end_time": "2024-12-29T09:30:57.643341Z",
     "start_time": "2024-12-29T09:30:57.597025Z"
    }
   },
   "cell_type": "code",
   "source": [
    "pivot_table = prepared_data.pivot_table(\n",
    "    index='Book-Title',        \n",
    "    columns='User-ID',   \n",
    "    values='Book-Rating',   \n",
    "    fill_value=0            \n",
    ")\n",
    "\n",
    "pivot_table.head()"
   ],
   "id": "ce5906a10119146e",
   "outputs": [
    {
     "data": {
      "text/plain": [
       "User-ID              243     254     507     638     882     1131    1435    \\\n",
       "Book-Title                                                                    \n",
       "1984                    0.0     9.0     0.0     0.0     0.0     0.0     0.0   \n",
       "1st to Die: A Novel     0.0     0.0     0.0     0.0     0.0     0.0     0.0   \n",
       "24 Hours                0.0     0.0     0.0     0.0     0.0     0.0     0.0   \n",
       "2nd Chance              0.0     0.0     0.0     9.0     0.0     0.0     0.0   \n",
       "4 Blondes               0.0     0.0     0.0     0.0     0.0     0.0     0.0   \n",
       "\n",
       "User-ID              1848    1903    2033    ...  276231  276463  276680  \\\n",
       "Book-Title                                   ...                           \n",
       "1984                    0.0     0.0     0.0  ...     0.0     0.0     0.0   \n",
       "1st to Die: A Novel     0.0     0.0     0.0  ...     0.0     0.0     0.0   \n",
       "24 Hours                0.0     0.0     0.0  ...     0.0     0.0     0.0   \n",
       "2nd Chance              0.0     0.0     0.0  ...     0.0     0.0     0.0   \n",
       "4 Blondes               0.0     0.0     0.0  ...     0.0     0.0     0.0   \n",
       "\n",
       "User-ID              277195  277427  277639  278144  278418  278535  278633  \n",
       "Book-Title                                                                   \n",
       "1984                    0.0     0.0     0.0     0.0     0.0     0.0     0.0  \n",
       "1st to Die: A Novel     0.0     0.0     0.0     0.0     0.0    10.0     0.0  \n",
       "24 Hours                0.0    10.0     0.0     0.0     0.0     0.0     0.0  \n",
       "2nd Chance              0.0     0.0     0.0     0.0     0.0     0.0     0.0  \n",
       "4 Blondes               0.0     0.0     0.0     0.0     0.0     0.0     0.0  \n",
       "\n",
       "[5 rows x 1559 columns]"
      ],
      "text/html": [
       "<div>\n",
       "<style scoped>\n",
       "    .dataframe tbody tr th:only-of-type {\n",
       "        vertical-align: middle;\n",
       "    }\n",
       "\n",
       "    .dataframe tbody tr th {\n",
       "        vertical-align: top;\n",
       "    }\n",
       "\n",
       "    .dataframe thead th {\n",
       "        text-align: right;\n",
       "    }\n",
       "</style>\n",
       "<table border=\"1\" class=\"dataframe\">\n",
       "  <thead>\n",
       "    <tr style=\"text-align: right;\">\n",
       "      <th>User-ID</th>\n",
       "      <th>243</th>\n",
       "      <th>254</th>\n",
       "      <th>507</th>\n",
       "      <th>638</th>\n",
       "      <th>882</th>\n",
       "      <th>1131</th>\n",
       "      <th>1435</th>\n",
       "      <th>1848</th>\n",
       "      <th>1903</th>\n",
       "      <th>2033</th>\n",
       "      <th>...</th>\n",
       "      <th>276231</th>\n",
       "      <th>276463</th>\n",
       "      <th>276680</th>\n",
       "      <th>277195</th>\n",
       "      <th>277427</th>\n",
       "      <th>277639</th>\n",
       "      <th>278144</th>\n",
       "      <th>278418</th>\n",
       "      <th>278535</th>\n",
       "      <th>278633</th>\n",
       "    </tr>\n",
       "    <tr>\n",
       "      <th>Book-Title</th>\n",
       "      <th></th>\n",
       "      <th></th>\n",
       "      <th></th>\n",
       "      <th></th>\n",
       "      <th></th>\n",
       "      <th></th>\n",
       "      <th></th>\n",
       "      <th></th>\n",
       "      <th></th>\n",
       "      <th></th>\n",
       "      <th></th>\n",
       "      <th></th>\n",
       "      <th></th>\n",
       "      <th></th>\n",
       "      <th></th>\n",
       "      <th></th>\n",
       "      <th></th>\n",
       "      <th></th>\n",
       "      <th></th>\n",
       "      <th></th>\n",
       "      <th></th>\n",
       "    </tr>\n",
       "  </thead>\n",
       "  <tbody>\n",
       "    <tr>\n",
       "      <th>1984</th>\n",
       "      <td>0.0</td>\n",
       "      <td>9.0</td>\n",
       "      <td>0.0</td>\n",
       "      <td>0.0</td>\n",
       "      <td>0.0</td>\n",
       "      <td>0.0</td>\n",
       "      <td>0.0</td>\n",
       "      <td>0.0</td>\n",
       "      <td>0.0</td>\n",
       "      <td>0.0</td>\n",
       "      <td>...</td>\n",
       "      <td>0.0</td>\n",
       "      <td>0.0</td>\n",
       "      <td>0.0</td>\n",
       "      <td>0.0</td>\n",
       "      <td>0.0</td>\n",
       "      <td>0.0</td>\n",
       "      <td>0.0</td>\n",
       "      <td>0.0</td>\n",
       "      <td>0.0</td>\n",
       "      <td>0.0</td>\n",
       "    </tr>\n",
       "    <tr>\n",
       "      <th>1st to Die: A Novel</th>\n",
       "      <td>0.0</td>\n",
       "      <td>0.0</td>\n",
       "      <td>0.0</td>\n",
       "      <td>0.0</td>\n",
       "      <td>0.0</td>\n",
       "      <td>0.0</td>\n",
       "      <td>0.0</td>\n",
       "      <td>0.0</td>\n",
       "      <td>0.0</td>\n",
       "      <td>0.0</td>\n",
       "      <td>...</td>\n",
       "      <td>0.0</td>\n",
       "      <td>0.0</td>\n",
       "      <td>0.0</td>\n",
       "      <td>0.0</td>\n",
       "      <td>0.0</td>\n",
       "      <td>0.0</td>\n",
       "      <td>0.0</td>\n",
       "      <td>0.0</td>\n",
       "      <td>10.0</td>\n",
       "      <td>0.0</td>\n",
       "    </tr>\n",
       "    <tr>\n",
       "      <th>24 Hours</th>\n",
       "      <td>0.0</td>\n",
       "      <td>0.0</td>\n",
       "      <td>0.0</td>\n",
       "      <td>0.0</td>\n",
       "      <td>0.0</td>\n",
       "      <td>0.0</td>\n",
       "      <td>0.0</td>\n",
       "      <td>0.0</td>\n",
       "      <td>0.0</td>\n",
       "      <td>0.0</td>\n",
       "      <td>...</td>\n",
       "      <td>0.0</td>\n",
       "      <td>0.0</td>\n",
       "      <td>0.0</td>\n",
       "      <td>0.0</td>\n",
       "      <td>10.0</td>\n",
       "      <td>0.0</td>\n",
       "      <td>0.0</td>\n",
       "      <td>0.0</td>\n",
       "      <td>0.0</td>\n",
       "      <td>0.0</td>\n",
       "    </tr>\n",
       "    <tr>\n",
       "      <th>2nd Chance</th>\n",
       "      <td>0.0</td>\n",
       "      <td>0.0</td>\n",
       "      <td>0.0</td>\n",
       "      <td>9.0</td>\n",
       "      <td>0.0</td>\n",
       "      <td>0.0</td>\n",
       "      <td>0.0</td>\n",
       "      <td>0.0</td>\n",
       "      <td>0.0</td>\n",
       "      <td>0.0</td>\n",
       "      <td>...</td>\n",
       "      <td>0.0</td>\n",
       "      <td>0.0</td>\n",
       "      <td>0.0</td>\n",
       "      <td>0.0</td>\n",
       "      <td>0.0</td>\n",
       "      <td>0.0</td>\n",
       "      <td>0.0</td>\n",
       "      <td>0.0</td>\n",
       "      <td>0.0</td>\n",
       "      <td>0.0</td>\n",
       "    </tr>\n",
       "    <tr>\n",
       "      <th>4 Blondes</th>\n",
       "      <td>0.0</td>\n",
       "      <td>0.0</td>\n",
       "      <td>0.0</td>\n",
       "      <td>0.0</td>\n",
       "      <td>0.0</td>\n",
       "      <td>0.0</td>\n",
       "      <td>0.0</td>\n",
       "      <td>0.0</td>\n",
       "      <td>0.0</td>\n",
       "      <td>0.0</td>\n",
       "      <td>...</td>\n",
       "      <td>0.0</td>\n",
       "      <td>0.0</td>\n",
       "      <td>0.0</td>\n",
       "      <td>0.0</td>\n",
       "      <td>0.0</td>\n",
       "      <td>0.0</td>\n",
       "      <td>0.0</td>\n",
       "      <td>0.0</td>\n",
       "      <td>0.0</td>\n",
       "      <td>0.0</td>\n",
       "    </tr>\n",
       "  </tbody>\n",
       "</table>\n",
       "<p>5 rows × 1559 columns</p>\n",
       "</div>"
      ]
     },
     "execution_count": 35,
     "metadata": {},
     "output_type": "execute_result"
    }
   ],
   "execution_count": 35
  },
  {
   "metadata": {},
   "cell_type": "markdown",
   "source": "Books in rows, users in columns! ",
   "id": "f5dfc3de8fb1d2bf"
  },
  {
   "metadata": {},
   "cell_type": "code",
   "source": "from sklearn.neighbors import NearestNeighbors",
   "id": "49d20dc1c73af968",
   "outputs": [],
   "execution_count": null
  },
  {
   "metadata": {},
   "cell_type": "markdown",
   "source": "",
   "id": "7c0fd878b6222f15"
  },
  {
   "metadata": {},
   "cell_type": "code",
   "source": [
    "\n",
    "\n",
    "matrix = pivot_table.values\n",
    "#training model with cosine metric\n",
    "knn_model = NearestNeighbors(metric='cosine', algorithm='auto')\n",
    "knn_model.fit(matrix)"
   ],
   "id": "e420861a5b467ab1",
   "outputs": [],
   "execution_count": null
  },
  {
   "metadata": {},
   "cell_type": "code",
   "outputs": [],
   "execution_count": null,
   "source": [
    "\n",
    "\n",
    "\n",
    "\n",
    "\n",
    "\n",
    "\n",
    "\n",
    "\n",
    "\n",
    "\n",
    "\n",
    "\n"
   ],
   "id": "4e7ba53582e98fd5"
  },
  {
   "metadata": {
    "ExecuteTime": {
     "end_time": "2024-12-28T22:47:20.736669Z",
     "start_time": "2024-12-28T22:47:19.291466Z"
    }
   },
   "cell_type": "code",
   "source": [
    "from scipy.sparse import csr_matrix\n",
    "\n",
    "#mapping because its easier to use 0,1,2... values then ISBN numbers or user ids\n",
    "\n",
    "user_id_mapping = {user_id: idx for idx, user_id in enumerate(users_df['User-ID'].unique())}\n",
    "isbn_mapping = {isbn: idx for idx, isbn in enumerate(book_user_rating['ISBN'].unique())}\n",
    "\n",
    "# Merging datasets and extracting necessary columns\n",
    "book_user_rating = books_df.merge(ratings_df, on='ISBN', how='inner')\n",
    "book_user_rating = book_user_rating[['ISBN', 'User-ID', 'Book-Rating']]\n",
    "\n",
    "#mapping to used is and isbn to numeric values\n",
    "book_user_rating['user_idx'] = book_user_rating['User-ID'].map(user_id_mapping)\n",
    "book_user_rating['isbn_idx'] = book_user_rating['ISBN'].map(isbn_mapping)\n",
    "\n",
    "rows = book_user_rating['user_idx'].values\n",
    "cols = book_user_rating['isbn_idx'].values\n",
    "data = book_user_rating['Book-Rating'].values\n",
    "\n",
    "#creating csr matrix \n",
    "csr_matrix_data = csr_matrix((data, (rows, cols)), shape=(len(users_df), len(isbn_mapping)))\n",
    "\n",
    "#basic matrix info \n",
    "print(f\"Shape of the matrix: {csr_matrix_data.shape}\")\n",
    "print(f\"Number of non-zero elements: {csr_matrix_data.nnz}\")\n"
   ],
   "id": "1ea2cce8b7f3a90d",
   "outputs": [
    {
     "name": "stdout",
     "output_type": "stream",
     "text": [
      "Shape of the matrix: (278858, 270151)\n",
      "Number of non-zero elements: 1031136\n"
     ]
    }
   ],
   "execution_count": 8
  },
  {
   "metadata": {},
   "cell_type": "markdown",
   "source": "Calculating similarities between books and searching for recommendation based on one book. Item-based Collaborative Filtering",
   "id": "614220bcf981cb90"
  },
  {
   "metadata": {},
   "cell_type": "code",
   "source": [
    "\n",
    "\n"
   ],
   "id": "696c3eabd7c79580",
   "outputs": [],
   "execution_count": null
  },
  {
   "metadata": {},
   "cell_type": "code",
   "outputs": [],
   "execution_count": null,
   "source": "",
   "id": "843d82d303a07b6e"
  }
 ],
 "metadata": {
  "kernelspec": {
   "display_name": "Python 3",
   "language": "python",
   "name": "python3"
  },
  "language_info": {
   "codemirror_mode": {
    "name": "ipython",
    "version": 2
   },
   "file_extension": ".py",
   "mimetype": "text/x-python",
   "name": "python",
   "nbconvert_exporter": "python",
   "pygments_lexer": "ipython2",
   "version": "2.7.6"
  }
 },
 "nbformat": 4,
 "nbformat_minor": 5
}
